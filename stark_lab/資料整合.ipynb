{
 "cells": [
  {
   "cell_type": "code",
   "execution_count": 24,
   "metadata": {},
   "outputs": [],
   "source": [
    "import numpy as np\n",
    "import sqlite3\n",
    "import pandas as pd\n",
    "import csv\n",
    "from datetime import datetime, timedelta\n",
    "import time\n",
    "import datetime\n",
    "import requests\n",
    "from io import StringIO"
   ]
  },
  {
   "cell_type": "code",
   "execution_count": 25,
   "metadata": {},
   "outputs": [],
   "source": [
    "save_list=np.load(\"save_list.npy\")\n",
    "now_list=np.load(\"now.npy\")"
   ]
  },
  {
   "cell_type": "code",
   "execution_count": 27,
   "metadata": {},
   "outputs": [],
   "source": [
    "## Open file   把當月份的代號txt  拿出來\n",
    "fp = open('911.txt', \"r\")\n",
    "line = fp.readline()\n",
    "month_predict=[]\n",
    "## 用 while 逐行讀取檔案內容，直至檔案結尾\n",
    "while line:\n",
    "#    print (line)\n",
    "    line=line.replace(\" \",\"\")\n",
    "    month_predict.append(line.replace(\"\\n\",\"\"))\n",
    "    line = fp.readline()\n",
    "fp.close()"
   ]
  },
  {
   "cell_type": "code",
   "execution_count": 28,
   "metadata": {},
   "outputs": [],
   "source": [
    "# 抓上市公司股價\n",
    "def stock_value(datestr):\n",
    "    #把當月11號的台股資訊 更新\n",
    "    #datestr = '20200911'\n",
    "    # 下載股價\n",
    "    r = requests.post('https://www.twse.com.tw/exchangeReport/MI_INDEX?response=csv&date=' + datestr + '&type=ALL')\n",
    "    # 整理資料，變成表格\n",
    "    df = pd.read_csv(StringIO(r.text.replace(\"=\", \"\")), \n",
    "                header=[\"證券代號\" in l for l in r.text.split(\"\\n\")].index(True)-1)\n",
    "    # 整理一些字串：\n",
    "    df = df.apply(lambda s: pd.to_numeric(s.astype(str).str.replace(\",\", \"\").replace(\"+\", \"1\").replace(\"-\", \"-1\"), errors='coerce'))\n",
    "    # 顯示出來\n",
    "    #df.head()\n",
    "    return df"
   ]
  },
  {
   "cell_type": "code",
   "execution_count": 29,
   "metadata": {},
   "outputs": [],
   "source": [
    "#抓上櫃公司股價\n",
    "def stock_value2(datestr):\n",
    "    link = 'http://www.tpex.org.tw/web/stock/aftertrading/daily_close_quotes/stk_quote_download.php?l=zh-tw&d='+datestr+'&s=0,asc,0'\n",
    "    r = requests.get(link)\n",
    "    r.ok\n",
    "    lines = r.text.replace('\\r', '').split('\\n')\n",
    "    df = pd.read_csv(StringIO(\"\\n\".join(lines[3:])), header=None)\n",
    "    #df.head()\n",
    "    df.columns = list(map(lambda l: l.replace(' ',''), lines[2].split(',')))\n",
    "    #df.index = df['代號']\n",
    "    #df = df.drop(['代號'], axis=1)\n",
    "    #df.head()\n",
    "    return df\n"
   ]
  },
  {
   "cell_type": "code",
   "execution_count": null,
   "metadata": {},
   "outputs": [],
   "source": []
  },
  {
   "cell_type": "code",
   "execution_count": 30,
   "metadata": {},
   "outputs": [],
   "source": [
    "predict_day='20200911'\n",
    "now_day=\"20200924\""
   ]
  },
  {
   "cell_type": "code",
   "execution_count": 31,
   "metadata": {},
   "outputs": [],
   "source": [
    "df_last_month=stock_value('20200911')\n",
    "df_now=stock_value('20200925')"
   ]
  },
  {
   "cell_type": "code",
   "execution_count": 32,
   "metadata": {},
   "outputs": [],
   "source": [
    "df2_last_month=stock_value2(\"109/09/11\")\n",
    "df2_now=stock_value2('109/09/25')"
   ]
  },
  {
   "cell_type": "code",
   "execution_count": 33,
   "metadata": {},
   "outputs": [
    {
     "data": {
      "text/plain": [
       "['2884',\n",
       " '2887',\n",
       " '2885',\n",
       " '8111',\n",
       " '2206',\n",
       " '3285',\n",
       " '1477',\n",
       " '3272',\n",
       " '5471',\n",
       " '8499',\n",
       " '1589',\n",
       " '4906',\n",
       " '3661',\n",
       " '8938',\n",
       " '4977',\n",
       " '3163',\n",
       " '2352']"
      ]
     },
     "execution_count": 33,
     "metadata": {},
     "output_type": "execute_result"
    }
   ],
   "source": [
    "month_predict"
   ]
  },
  {
   "cell_type": "code",
   "execution_count": 34,
   "metadata": {},
   "outputs": [
    {
     "name": "stdout",
     "output_type": "stream",
     "text": [
      "2884.0\n",
      "2887.0\n",
      "2885.0\n",
      "2206.0\n",
      "1477.0\n",
      "5471.0\n",
      "8499.0\n",
      "1589.0\n",
      "4906.0\n",
      "3661.0\n",
      "4977.0\n",
      "2352.0\n"
     ]
    }
   ],
   "source": [
    "df=df_now\n",
    "for i in range(len(month_predict)):\n",
    "    a=df[pd.to_numeric(df['證券代號'], errors='coerce') == float(month_predict[i])]\n",
    "    try:\n",
    "        b=a.values.tolist()[0]\n",
    "        print(b[0])\n",
    "    except:\n",
    "        pass"
   ]
  },
  {
   "cell_type": "code",
   "execution_count": 35,
   "metadata": {},
   "outputs": [],
   "source": [
    "#拿上市收盤價資料\n",
    "def take_value(df,id):\n",
    "    take_info=df[pd.to_numeric(df['證券代號'], errors='coerce') == id]\n",
    "    value=float(take_info[\"收盤價\"].values)\n",
    "    return value\n",
    "#拿上櫃收盤價資料\n",
    "def take_value2(df,id):\n",
    "    take_info=df[pd.to_numeric(df['代號'], errors='coerce') == id]\n",
    "    value=float(take_info[\"收盤\"].values)\n",
    "    return value"
   ]
  },
  {
   "cell_type": "code",
   "execution_count": 36,
   "metadata": {},
   "outputs": [],
   "source": [
    "#把預測的股票價錢都拿出來\n",
    "now_list=[]\n",
    "for i in range(len(month_predict)):\n",
    "    temp=[]\n",
    "    index=float(month_predict[i])\n",
    "    #print(type(index),index)\n",
    "    try:\n",
    "        start_value=take_value(df_last_month,index)\n",
    "        end_value=take_value(df_now,index)\n",
    "    except:\n",
    "        start_value=take_value2(df2_last_month,index)\n",
    "        end_value=take_value2(df2_now,index)\n",
    "    #print(i,str(index).replace(\".0\",\"\"),start_value,end_value)\n",
    "    temp.append(str(index).replace(\".0\",\"\"))\n",
    "    temp.append(\"\")\n",
    "    temp.append(start_value)\n",
    "    temp.append(end_value)\n",
    "    now_list.append(temp)"
   ]
  },
  {
   "cell_type": "code",
   "execution_count": 37,
   "metadata": {},
   "outputs": [
    {
     "data": {
      "text/plain": [
       "[['2884', '', 26.7, 25.3],\n",
       " ['2887', '', 13.1, 12.5],\n",
       " ['2885', '', 18.3, 17.3],\n",
       " ['8111', '', 16.8, 15.0],\n",
       " ['2206', '', 23.2, 22.35],\n",
       " ['3285', '', 24.45, 22.6],\n",
       " ['1477', '', 188.0, 167.5],\n",
       " ['3272', '', 60.0, 58.1],\n",
       " ['5471', '', 53.9, 67.3],\n",
       " ['8499', '', 132.5, 129.5],\n",
       " ['1589', '', 99.6, 89.0],\n",
       " ['4906', '', 26.55, 25.25],\n",
       " ['3661', '', 411.0, 483.5],\n",
       " ['8938', '', 38.5, 36.55],\n",
       " ['4977', '', 113.0, 101.5],\n",
       " ['3163', '', 61.6, 63.0],\n",
       " ['2352', '', 19.3, 18.1]]"
      ]
     },
     "execution_count": 37,
     "metadata": {},
     "output_type": "execute_result"
    }
   ],
   "source": [
    "#得到代號 空白   當月11號價格   現在價格\n",
    "now_list"
   ]
  },
  {
   "cell_type": "code",
   "execution_count": null,
   "metadata": {},
   "outputs": [],
   "source": []
  },
  {
   "cell_type": "code",
   "execution_count": null,
   "metadata": {},
   "outputs": [],
   "source": []
  },
  {
   "cell_type": "code",
   "execution_count": null,
   "metadata": {},
   "outputs": [],
   "source": []
  },
  {
   "cell_type": "code",
   "execution_count": null,
   "metadata": {},
   "outputs": [],
   "source": []
  },
  {
   "cell_type": "code",
   "execution_count": null,
   "metadata": {},
   "outputs": [],
   "source": []
  },
  {
   "cell_type": "code",
   "execution_count": null,
   "metadata": {},
   "outputs": [],
   "source": []
  },
  {
   "cell_type": "code",
   "execution_count": null,
   "metadata": {},
   "outputs": [],
   "source": []
  },
  {
   "cell_type": "code",
   "execution_count": 86,
   "metadata": {},
   "outputs": [],
   "source": []
  },
  {
   "cell_type": "code",
   "execution_count": null,
   "metadata": {},
   "outputs": [],
   "source": []
  },
  {
   "cell_type": "code",
   "execution_count": null,
   "metadata": {},
   "outputs": [],
   "source": []
  },
  {
   "cell_type": "code",
   "execution_count": null,
   "metadata": {},
   "outputs": [],
   "source": []
  },
  {
   "cell_type": "code",
   "execution_count": null,
   "metadata": {},
   "outputs": [],
   "source": []
  },
  {
   "cell_type": "code",
   "execution_count": null,
   "metadata": {},
   "outputs": [],
   "source": []
  },
  {
   "cell_type": "code",
   "execution_count": 66,
   "metadata": {},
   "outputs": [],
   "source": [
    "#查詢list in str\n",
    "#any('1101' in item for item in a)\n",
    "#查詢list in str\n",
    "def search_name(name):\n",
    "    company=[]\n",
    "    df = pd.read_csv('公司/上市.csv')  \n",
    "    a=df[\"有價證券代號及名稱\"].tolist()\n",
    "    df = pd.read_csv('公司/上櫃.csv')  \n",
    "    b=df[\"有價證券代號及名稱\"].tolist()\n",
    "    df = pd.read_csv('公司/興櫃.csv')  \n",
    "    c=df[\"有價證券代號及名稱\"].tolist()\n",
    "    for i in a:\n",
    "        if i.__contains__(name) :\n",
    "            company=i\n",
    "            #print(i, \" is containing\")\n",
    "    for i in b:\n",
    "        if i.__contains__(name) :\n",
    "            company=i\n",
    "            #print(i, \" is containing\")\n",
    "    for i in c:\n",
    "        if i.__contains__(name) :\n",
    "            company=i\n",
    "            #print(i, \" is containing\")\n",
    "    return company"
   ]
  },
  {
   "cell_type": "code",
   "execution_count": 38,
   "metadata": {},
   "outputs": [],
   "source": [
    "#不要亂執行   拿來刪檔案用得\n",
    "db =  sqlite3.connect('db.sqlite3')\n",
    "##db.execute(\"INSERT INTO type_data (tag)   VALUES ('{}')\".format(data))\n",
    "db.execute(\"delete from basicHistory\")\n",
    "db.commit()\n",
    "db =  sqlite3.connect('db.sqlite3')\n",
    "##db.execute(\"INSERT INTO type_data (tag)   VALUES ('{}')\".format(data))\n",
    "#db.execute(\"delete from technicHistory\")\n",
    "db.commit()"
   ]
  },
  {
   "cell_type": "code",
   "execution_count": 76,
   "metadata": {},
   "outputs": [],
   "source": [
    "def change_parameter(save_list):\n",
    "    final_update=now_day[:4]+\"-\"+now_day[4:6]+\"-\"+now_day[6:8]\n",
    "    name=search_name(now_list[i][0]).replace(\"\\u3000\", \" \")\n",
    "    start_date=predict_day[:4]+\"-\"+predict_day[4:6]+\"-\"+predict_day[6:8]\n",
    "    start_price=now_list[i][2]\n",
    "    over_date=\"2020-10-10\"\n",
    "    current_price=now_list[i][3]\n",
    "\n",
    "    now_return=(float(current_price)-float(start_price))/float(start_price)\n",
    "    now_return= round(now_return*100,2)\n",
    "\n",
    "    if float(now_return)>0:\n",
    "        types=\"+\"\n",
    "    else:\n",
    "        types=\"-\"\n",
    "    return final_update,name,start_date,start_price,over_date,current_price,now_return,types"
   ]
  },
  {
   "cell_type": "code",
   "execution_count": 77,
   "metadata": {},
   "outputs": [
    {
     "data": {
      "text/plain": [
       "('2020-09-24', '2352 佳世達', '2020-09-11', 19.3, '2020-10-10', 18.1, -6.22, '-')"
      ]
     },
     "execution_count": 77,
     "metadata": {},
     "output_type": "execute_result"
    }
   ],
   "source": [
    "change_parameter(now_list[1])"
   ]
  },
  {
   "cell_type": "code",
   "execution_count": 79,
   "metadata": {},
   "outputs": [],
   "source": [
    "# 更新月營收策略  當月股價\n",
    "db =  sqlite3.connect('db.sqlite3')\n",
    "#db.execute(\"INSERT INTO type_data (tag)   VALUES ('{}')\".format(data))\n",
    "db.execute(\"delete from basicCurrent\")\n",
    "db.commit()\n",
    "pk=1\n",
    "for i in range(len(now_list)):\n",
    "    final_update,name,start_date,start_price,over_date,current_price,now_return,types=change_parameter(now_list[i]) \n",
    "    db =  sqlite3.connect('db.sqlite3')\n",
    "    db.execute(\"INSERT INTO basicCurrent (id,final_update,stock_name,start_date,start_price,over_date,current_price,now_return,type)   VALUES ('{}','{}','{}','{}','{}','{}','{}','{}','{}')\".format(pk,final_update,name,start_date,start_price,over_date,current_price,now_return,types))\n",
    "    db.commit()\n",
    "    db.close()\n",
    "    pk=pk+1"
   ]
  },
  {
   "cell_type": "code",
   "execution_count": null,
   "metadata": {},
   "outputs": [],
   "source": []
  },
  {
   "cell_type": "code",
   "execution_count": null,
   "metadata": {},
   "outputs": [],
   "source": []
  },
  {
   "cell_type": "code",
   "execution_count": null,
   "metadata": {},
   "outputs": [],
   "source": []
  },
  {
   "cell_type": "code",
   "execution_count": null,
   "metadata": {},
   "outputs": [],
   "source": []
  },
  {
   "cell_type": "code",
   "execution_count": null,
   "metadata": {},
   "outputs": [],
   "source": []
  },
  {
   "cell_type": "code",
   "execution_count": null,
   "metadata": {},
   "outputs": [],
   "source": []
  },
  {
   "cell_type": "code",
   "execution_count": null,
   "metadata": {},
   "outputs": [],
   "source": []
  },
  {
   "cell_type": "code",
   "execution_count": null,
   "metadata": {},
   "outputs": [],
   "source": []
  },
  {
   "cell_type": "code",
   "execution_count": null,
   "metadata": {},
   "outputs": [],
   "source": []
  },
  {
   "cell_type": "code",
   "execution_count": null,
   "metadata": {},
   "outputs": [],
   "source": []
  },
  {
   "cell_type": "code",
   "execution_count": null,
   "metadata": {},
   "outputs": [],
   "source": []
  },
  {
   "cell_type": "code",
   "execution_count": null,
   "metadata": {},
   "outputs": [],
   "source": []
  },
  {
   "cell_type": "code",
   "execution_count": null,
   "metadata": {},
   "outputs": [],
   "source": []
  },
  {
   "cell_type": "code",
   "execution_count": null,
   "metadata": {},
   "outputs": [],
   "source": []
  },
  {
   "cell_type": "code",
   "execution_count": null,
   "metadata": {},
   "outputs": [],
   "source": []
  },
  {
   "cell_type": "code",
   "execution_count": 6,
   "metadata": {},
   "outputs": [],
   "source": [
    "#基本面歷史\n",
    "pk=1\n",
    "for i in range(len(save_list)):\n",
    "    name=search_name(save_list[i][0]).replace(\"\\u3000\", \" \")\n",
    "    start_date=save_list[i][1]\n",
    "    over_date=save_list[i][2]\n",
    "    buy_price=save_list[i][3]\n",
    "    sell_price=save_list[i][4]\n",
    "    return_value=(float(sell_price)-float(buy_price))/float(buy_price)\n",
    "    return_value= round(return_value*100,2)\n",
    "    if return_value>0:\n",
    "        types=\"+\"\n",
    "    else:\n",
    "        types=\"-\"\n",
    "\n",
    "    db =  sqlite3.connect('db.sqlite3')\n",
    "    db.execute(\"INSERT INTO basicHistory (id,stock_name,start_date,buy_price,over_date,sell_price,return_value,type)   VALUES ('{}','{}','{}','{}','{}','{}','{}','{}')\".format(pk,name,start_date,buy_price,over_date,sell_price,return_value,types))\n",
    "    db.commit()\n",
    "    db.close()\n",
    "    pk=pk+1"
   ]
  },
  {
   "cell_type": "code",
   "execution_count": 7,
   "metadata": {},
   "outputs": [],
   "source": [
    "#技術面歷史\n",
    "pk=1\n",
    "for i in range(len(save_list)):\n",
    "    name=search_name(save_list[i][0]).replace(\"\\u3000\", \" \")\n",
    "    start_date=save_list[i][1]\n",
    "    over_date=save_list[i][2]\n",
    "    buy_price=save_list[i][3]\n",
    "    sell_price=save_list[i][4]\n",
    "    return_value=(float(sell_price)-float(buy_price))/float(buy_price)\n",
    "    return_value= round(return_value*100,2)\n",
    "    if return_value>0:\n",
    "        types=\"+\"\n",
    "    else:\n",
    "        types=\"-\"\n",
    "\n",
    "    db =  sqlite3.connect('db.sqlite3')\n",
    "    db.execute(\"INSERT INTO technicHistory (id,stock_name,start_date,buy_price,over_date,sell_price,return_value,type)   VALUES ('{}','{}','{}','{}','{}','{}','{}','{}')\".format(pk,name,start_date,buy_price,over_date,sell_price,return_value,types))\n",
    "    db.commit()\n",
    "    db.close()\n",
    "    pk=pk+1"
   ]
  },
  {
   "cell_type": "code",
   "execution_count": null,
   "metadata": {},
   "outputs": [],
   "source": []
  },
  {
   "cell_type": "code",
   "execution_count": 40,
   "metadata": {},
   "outputs": [],
   "source": [
    "db =  sqlite3.connect('db.sqlite3')\n",
    "#db.execute(\"INSERT INTO type_data (tag)   VALUES ('{}')\".format(data))\n",
    "db.execute(\"delete from basicCurrent\")\n",
    "db.commit()\n",
    "db =  sqlite3.connect('db.sqlite3')\n",
    "#db.execute(\"INSERT INTO type_data (tag)   VALUES ('{}')\".format(data))\n",
    "#db.execute(\"delete from technicCurrent\")\n",
    "#db.commit()"
   ]
  },
  {
   "cell_type": "code",
   "execution_count": null,
   "metadata": {},
   "outputs": [],
   "source": []
  },
  {
   "cell_type": "code",
   "execution_count": null,
   "metadata": {},
   "outputs": [],
   "source": [
    "db =  sqlite3.connect('db.sqlite3')\n",
    "#db.execute(\"INSERT INTO type_data (tag)   VALUES ('{}')\".format(data))\n",
    "db.execute(\"delete from basicCurrent\")\n",
    "db.commit()"
   ]
  },
  {
   "cell_type": "code",
   "execution_count": 10,
   "metadata": {
    "scrolled": true
   },
   "outputs": [],
   "source": [
    "#基本面現在\n",
    "pk=1\n",
    "for i in range(len(now_list)):\n",
    "    final_update=\"2020-07-14\"\n",
    "    name=search_name(now_list[i][0]).replace(\"\\u3000\", \" \")\n",
    "    start_date=\"2020-07-10\"\n",
    "    start_price=now_list[i][2]\n",
    "    over_date=\"2020-08-14\"\n",
    "    current_price=now_list[i][3]\n",
    "    now_return=now_list[i][1]\n",
    "    if float(now_return)>0:\n",
    "        types=\"+\"\n",
    "    else:\n",
    "        types=\"-\"\n",
    "        \n",
    "        \n",
    "    db =  sqlite3.connect('db.sqlite3')\n",
    "    db.execute(\"INSERT INTO basicCurrent (id,final_update,stock_name,start_date,start_price,over_date,current_price,now_return,type)   VALUES ('{}','{}','{}','{}','{}','{}','{}','{}','{}')\".format(pk,final_update,name,start_date,start_price,over_date,current_price,now_return,types))\n",
    "    db.commit()\n",
    "    db.close()\n",
    "    pk=pk+1"
   ]
  },
  {
   "cell_type": "code",
   "execution_count": 11,
   "metadata": {},
   "outputs": [],
   "source": [
    "#基本面現在\n",
    "pk=1\n",
    "for i in range(len(now_list)):\n",
    "    final_update=\"2020-07-14\"\n",
    "    name=search_name(now_list[i][0]).replace(\"\\u3000\", \" \")\n",
    "    start_date=\"2020-07-10\"\n",
    "    start_price=now_list[i][2]\n",
    "    over_date=\"2020-08-14\"\n",
    "    current_price=now_list[i][3]\n",
    "    now_return=now_list[i][1]\n",
    "    if float(now_return)>0:\n",
    "        types=\"+\"\n",
    "    else:\n",
    "        types=\"-\"\n",
    "        \n",
    "        \n",
    "    db =  sqlite3.connect('db.sqlite3')\n",
    "    db.execute(\"INSERT INTO technicCurrent (id,final_update,stock_name,start_date,start_price,over_date,current_price,now_return,type)   VALUES ('{}','{}','{}','{}','{}','{}','{}','{}','{}')\".format(pk,final_update,name,start_date,start_price,over_date,current_price,now_return,types))\n",
    "    db.commit()\n",
    "    db.close()\n",
    "    pk=pk+1"
   ]
  },
  {
   "cell_type": "code",
   "execution_count": null,
   "metadata": {},
   "outputs": [],
   "source": []
  }
 ],
 "metadata": {
  "kernelspec": {
   "display_name": "Python 3",
   "language": "python",
   "name": "python3"
  },
  "language_info": {
   "codemirror_mode": {
    "name": "ipython",
    "version": 3
   },
   "file_extension": ".py",
   "mimetype": "text/x-python",
   "name": "python",
   "nbconvert_exporter": "python",
   "pygments_lexer": "ipython3",
   "version": "3.8.3"
  }
 },
 "nbformat": 4,
 "nbformat_minor": 2
}

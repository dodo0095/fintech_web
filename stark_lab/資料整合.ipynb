{
 "cells": [
  {
   "cell_type": "code",
   "execution_count": 92,
   "metadata": {},
   "outputs": [],
   "source": [
    "import numpy as np\n",
    "import sqlite3\n",
    "import pandas as pd\n",
    "import csv\n",
    "from datetime import datetime, timedelta\n",
    "import time\n",
    "import datetime"
   ]
  },
  {
   "cell_type": "code",
   "execution_count": 127,
   "metadata": {},
   "outputs": [],
   "source": [
    "save_list=np.load(\"save_list.npy\")\n",
    "now_list=np.load(\"now.npy\")"
   ]
  },
  {
   "cell_type": "code",
   "execution_count": 93,
   "metadata": {},
   "outputs": [],
   "source": [
    "df = pd.read_csv('公司/上市.csv')  \n",
    "a=df[\"有價證券代號及名稱\"].tolist()\n",
    "df = pd.read_csv('公司/上櫃.csv')  \n",
    "b=df[\"有價證券代號及名稱\"].tolist()\n",
    "df = pd.read_csv('公司/興櫃.csv')  \n",
    "c=df[\"有價證券代號及名稱\"].tolist()\n",
    "\n"
   ]
  },
  {
   "cell_type": "code",
   "execution_count": 117,
   "metadata": {},
   "outputs": [],
   "source": [
    "#查詢list in str\n",
    "#any('1101' in item for item in a)\n",
    "#查詢list in str\n",
    "def search_name(name):\n",
    "    company=[]\n",
    "    \n",
    "    for i in a:\n",
    "        if i.__contains__(name) :\n",
    "            company=i\n",
    "            #print(i, \" is containing\")\n",
    "    for i in b:\n",
    "        if i.__contains__(name) :\n",
    "            company=i\n",
    "            #print(i, \" is containing\")\n",
    "    for i in c:\n",
    "        if i.__contains__(name) :\n",
    "            company=i\n",
    "            #print(i, \" is containing\")\n",
    "    return company"
   ]
  },
  {
   "cell_type": "code",
   "execution_count": 123,
   "metadata": {},
   "outputs": [],
   "source": [
    "db =  sqlite3.connect('db.sqlite3')\n",
    "#db.execute(\"INSERT INTO type_data (tag)   VALUES ('{}')\".format(data))\n",
    "db.execute(\"delete from basicHistory\")\n",
    "db.commit()\n",
    "db =  sqlite3.connect('db.sqlite3')\n",
    "#db.execute(\"INSERT INTO type_data (tag)   VALUES ('{}')\".format(data))\n",
    "db.execute(\"delete from technicHistory\")\n",
    "db.commit()"
   ]
  },
  {
   "cell_type": "code",
   "execution_count": 124,
   "metadata": {},
   "outputs": [],
   "source": [
    "#基本面歷史\n",
    "pk=1\n",
    "for i in range(len(save_list)):\n",
    "    name=search_name(save_list[i][0]).replace(\"\\u3000\", \" \")\n",
    "    start_date=save_list[i][1]\n",
    "    over_date=save_list[i][2]\n",
    "    buy_price=save_list[i][3]\n",
    "    sell_price=save_list[i][4]\n",
    "    return_value=(float(sell_price)-float(buy_price))/float(buy_price)\n",
    "    return_value= round(return_value*100,2)\n",
    "    if return_value>0:\n",
    "        types=\"+\"\n",
    "    else:\n",
    "        types=\"-\"\n",
    "\n",
    "    db =  sqlite3.connect('db.sqlite3')\n",
    "    db.execute(\"INSERT INTO basicHistory (id,stock_name,start_date,buy_price,over_date,sell_price,return_value,type)   VALUES ('{}','{}','{}','{}','{}','{}','{}','{}')\".format(pk,name,start_date,buy_price,over_date,sell_price,return_value,types))\n",
    "    db.commit()\n",
    "    db.close()\n",
    "    pk=pk+1"
   ]
  },
  {
   "cell_type": "code",
   "execution_count": null,
   "metadata": {},
   "outputs": [],
   "source": []
  },
  {
   "cell_type": "code",
   "execution_count": 126,
   "metadata": {},
   "outputs": [],
   "source": [
    "#技術面歷史\n",
    "pk=1\n",
    "for i in range(len(save_list)):\n",
    "    name=search_name(save_list[i][0]).replace(\"\\u3000\", \" \")\n",
    "    start_date=save_list[i][1]\n",
    "    over_date=save_list[i][2]\n",
    "    buy_price=save_list[i][3]\n",
    "    sell_price=save_list[i][4]\n",
    "    return_value=(float(sell_price)-float(buy_price))/float(buy_price)\n",
    "    return_value= round(return_value*100,2)\n",
    "    if return_value>0:\n",
    "        types=\"+\"\n",
    "    else:\n",
    "        types=\"-\"\n",
    "\n",
    "    db =  sqlite3.connect('db.sqlite3')\n",
    "    db.execute(\"INSERT INTO technicHistory (id,stock_name,start_date,buy_price,over_date,sell_price,return_value,type)   VALUES ('{}','{}','{}','{}','{}','{}','{}','{}')\".format(pk,name,start_date,buy_price,over_date,sell_price,return_value,types))\n",
    "    db.commit()\n",
    "    db.close()\n",
    "    pk=pk+1"
   ]
  },
  {
   "cell_type": "code",
   "execution_count": 17,
   "metadata": {},
   "outputs": [],
   "source": []
  },
  {
   "cell_type": "code",
   "execution_count": 141,
   "metadata": {},
   "outputs": [],
   "source": [
    "db =  sqlite3.connect('db.sqlite3')\n",
    "#db.execute(\"INSERT INTO type_data (tag)   VALUES ('{}')\".format(data))\n",
    "db.execute(\"delete from basicCurrent\")\n",
    "db.commit()\n",
    "db =  sqlite3.connect('db.sqlite3')\n",
    "#db.execute(\"INSERT INTO type_data (tag)   VALUES ('{}')\".format(data))\n",
    "db.execute(\"delete from technicCurrent\")\n",
    "db.commit()"
   ]
  },
  {
   "cell_type": "code",
   "execution_count": 142,
   "metadata": {},
   "outputs": [],
   "source": [
    "#基本面現在\n",
    "pk=1\n",
    "for i in range(len(now_list)):\n",
    "    final_update=\"2020-07-14\"\n",
    "    name=search_name(now_list[i][0]).replace(\"\\u3000\", \" \")\n",
    "    start_date=\"2020-07-10\"\n",
    "    start_price=now_list[i][2]\n",
    "    over_date=\"2020-08-14\"\n",
    "    current_price=now_list[i][3]\n",
    "    now_return=now_list[i][1]\n",
    "    if return_value>0:\n",
    "        types=\"+\"\n",
    "    else:\n",
    "        types=\"-\"\n",
    "        \n",
    "        \n",
    "    db =  sqlite3.connect('db.sqlite3')\n",
    "    db.execute(\"INSERT INTO basicCurrent (id,final_update,stock_name,start_date,start_price,over_date,current_price,now_return,type)   VALUES ('{}','{}','{}','{}','{}','{}','{}','{}','{}')\".format(pk,final_update,name,start_date,start_price,over_date,current_price,now_return,types))\n",
    "    db.commit()\n",
    "    db.close()\n",
    "    pk=pk+1"
   ]
  },
  {
   "cell_type": "code",
   "execution_count": 143,
   "metadata": {},
   "outputs": [],
   "source": [
    "#基本面現在\n",
    "pk=1\n",
    "for i in range(len(now_list)):\n",
    "    final_update=\"2020-07-14\"\n",
    "    name=search_name(now_list[i][0]).replace(\"\\u3000\", \" \")\n",
    "    start_date=\"2020-07-10\"\n",
    "    start_price=now_list[i][2]\n",
    "    over_date=\"2020-08-14\"\n",
    "    current_price=now_list[i][3]\n",
    "    now_return=now_list[i][1]\n",
    "    if return_value>0:\n",
    "        types=\"+\"\n",
    "    else:\n",
    "        types=\"-\"\n",
    "        \n",
    "        \n",
    "    db =  sqlite3.connect('db.sqlite3')\n",
    "    db.execute(\"INSERT INTO technicCurrent (id,final_update,stock_name,start_date,start_price,over_date,current_price,now_return,type)   VALUES ('{}','{}','{}','{}','{}','{}','{}','{}','{}')\".format(pk,final_update,name,start_date,start_price,over_date,current_price,now_return,types))\n",
    "    db.commit()\n",
    "    db.close()\n",
    "    pk=pk+1"
   ]
  },
  {
   "cell_type": "code",
   "execution_count": null,
   "metadata": {},
   "outputs": [],
   "source": []
  }
 ],
 "metadata": {
  "kernelspec": {
   "display_name": "Python 3",
   "language": "python",
   "name": "python3"
  },
  "language_info": {
   "codemirror_mode": {
    "name": "ipython",
    "version": 3
   },
   "file_extension": ".py",
   "mimetype": "text/x-python",
   "name": "python",
   "nbconvert_exporter": "python",
   "pygments_lexer": "ipython3",
   "version": "3.7.4"
  }
 },
 "nbformat": 4,
 "nbformat_minor": 2
}

{
 "cells": [
  {
   "cell_type": "code",
   "execution_count": 1,
   "metadata": {},
   "outputs": [],
   "source": [
    "import numpy as np\n",
    "import sqlite3\n",
    "import pandas as pd\n",
    "import csv\n",
    "from datetime import datetime, timedelta\n",
    "import time\n",
    "import datetime\n",
    "import requests\n",
    "from io import StringIO"
   ]
  },
  {
   "cell_type": "code",
   "execution_count": 2,
   "metadata": {},
   "outputs": [],
   "source": [
    "save_list=np.load(\"save_list.npy\")\n",
    "now_list=np.load(\"now.npy\")"
   ]
  },
  {
   "cell_type": "code",
   "execution_count": 84,
   "metadata": {},
   "outputs": [],
   "source": [
    "## Open file   把代號txt  拿出來\n",
    "fp = open('911.txt', \"r\")\n",
    "line = fp.readline()\n",
    "month_predict=[]\n",
    "## 用 while 逐行讀取檔案內容，直至檔案結尾\n",
    "while line:\n",
    "#    print (line)\n",
    "    line=line.replace(\" \",\"\")\n",
    "    month_predict.append(line.replace(\"\\n\",\"\"))\n",
    "    line = fp.readline()\n",
    "fp.close()"
   ]
  },
  {
   "cell_type": "code",
   "execution_count": 82,
   "metadata": {},
   "outputs": [],
   "source": [
    "#把當月11號的台股資訊 更新\n",
    "datestr = '20200911'\n",
    "# 下載股價\n",
    "r = requests.post('https://www.twse.com.tw/exchangeReport/MI_INDEX?response=csv&date=' + datestr + '&type=ALL')\n",
    "# 整理資料，變成表格\n",
    "df = pd.read_csv(StringIO(r.text.replace(\"=\", \"\")), \n",
    "            header=[\"證券代號\" in l for l in r.text.split(\"\\n\")].index(True)-1)\n",
    "# 整理一些字串：\n",
    "df = df.apply(lambda s: pd.to_numeric(s.astype(str).str.replace(\",\", \"\").replace(\"+\", \"1\").replace(\"-\", \"-1\"), errors='coerce'))\n",
    "# 顯示出來\n",
    "#df.head()"
   ]
  },
  {
   "cell_type": "code",
   "execution_count": 85,
   "metadata": {},
   "outputs": [
    {
     "data": {
      "text/plain": [
       "['2884',\n",
       " '2887',\n",
       " '2885',\n",
       " '8111',\n",
       " '2206',\n",
       " '3285',\n",
       " '1477',\n",
       " '3272',\n",
       " '5471',\n",
       " '8499',\n",
       " '1589',\n",
       " '4906',\n",
       " '3661',\n",
       " '8938',\n",
       " '4977',\n",
       " '3163',\n",
       " '2352']"
      ]
     },
     "execution_count": 85,
     "metadata": {},
     "output_type": "execute_result"
    }
   ],
   "source": [
    "month_predict"
   ]
  },
  {
   "cell_type": "code",
   "execution_count": null,
   "metadata": {},
   "outputs": [],
   "source": []
  },
  {
   "cell_type": "code",
   "execution_count": 86,
   "metadata": {},
   "outputs": [
    {
     "name": "stdout",
     "output_type": "stream",
     "text": [
      "2884.0\n",
      "2887.0\n",
      "2885.0\n",
      "2206.0\n",
      "1477.0\n",
      "5471.0\n",
      "8499.0\n",
      "1589.0\n",
      "4906.0\n",
      "3661.0\n",
      "4977.0\n",
      "2352.0\n"
     ]
    }
   ],
   "source": [
    "for i in range(len(month_predict)):\n",
    "    a=df[pd.to_numeric(df['證券代號'], errors='coerce') == float(month_predict[i])]\n",
    "    try:\n",
    "        b=a.values.tolist()[0]\n",
    "        print(b[0])\n",
    "    except:\n",
    "        pass"
   ]
  },
  {
   "cell_type": "code",
   "execution_count": 57,
   "metadata": {},
   "outputs": [],
   "source": [
    "#抓前一天的台股資訊 更新\n",
    "datestr = '20200922'\n",
    "# 下載股價\n",
    "r = requests.post('https://www.twse.com.tw/exchangeReport/MI_INDEX?response=csv&date=' + datestr + '&type=ALL')\n",
    "# 整理資料，變成表格\n",
    "df = pd.read_csv(StringIO(r.text.replace(\"=\", \"\")), \n",
    "            header=[\"證券代號\" in l for l in r.text.split(\"\\n\")].index(True)-1)\n",
    "# 整理一些字串：\n",
    "df = df.apply(lambda s: pd.to_numeric(s.astype(str).str.replace(\",\", \"\").replace(\"+\", \"1\").replace(\"-\", \"-1\"), errors='coerce'))\n",
    "# 顯示出來\n",
    "#df.head()"
   ]
  },
  {
   "cell_type": "code",
   "execution_count": 87,
   "metadata": {},
   "outputs": [
    {
     "data": {
      "text/html": [
       "<div>\n",
       "<style scoped>\n",
       "    .dataframe tbody tr th:only-of-type {\n",
       "        vertical-align: middle;\n",
       "    }\n",
       "\n",
       "    .dataframe tbody tr th {\n",
       "        vertical-align: top;\n",
       "    }\n",
       "\n",
       "    .dataframe thead th {\n",
       "        text-align: right;\n",
       "    }\n",
       "</style>\n",
       "<table border=\"1\" class=\"dataframe\">\n",
       "  <thead>\n",
       "    <tr style=\"text-align: right;\">\n",
       "      <th></th>\n",
       "      <th>證券代號</th>\n",
       "      <th>證券名稱</th>\n",
       "      <th>成交股數</th>\n",
       "      <th>成交筆數</th>\n",
       "      <th>成交金額</th>\n",
       "      <th>開盤價</th>\n",
       "      <th>最高價</th>\n",
       "      <th>最低價</th>\n",
       "      <th>收盤價</th>\n",
       "      <th>漲跌(+/-)</th>\n",
       "      <th>漲跌價差</th>\n",
       "      <th>最後揭示買價</th>\n",
       "      <th>最後揭示買量</th>\n",
       "      <th>最後揭示賣價</th>\n",
       "      <th>最後揭示賣量</th>\n",
       "      <th>本益比</th>\n",
       "      <th>Unnamed: 16</th>\n",
       "    </tr>\n",
       "  </thead>\n",
       "  <tbody>\n",
       "  </tbody>\n",
       "</table>\n",
       "</div>"
      ],
      "text/plain": [
       "Empty DataFrame\n",
       "Columns: [證券代號, 證券名稱, 成交股數, 成交筆數, 成交金額, 開盤價, 最高價, 最低價, 收盤價, 漲跌(+/-), 漲跌價差, 最後揭示買價, 最後揭示買量, 最後揭示賣價, 最後揭示賣量, 本益比, Unnamed: 16]\n",
       "Index: []"
      ]
     },
     "execution_count": 87,
     "metadata": {},
     "output_type": "execute_result"
    }
   ],
   "source": [
    "a=df[pd.to_numeric(df['證券代號'], errors='coerce') == 2330]\n",
    "a"
   ]
  },
  {
   "cell_type": "code",
   "execution_count": 53,
   "metadata": {
    "scrolled": true
   },
   "outputs": [
    {
     "data": {
      "text/plain": [
       "[2330.0,\n",
       " nan,\n",
       " 36842639.0,\n",
       " 22692.0,\n",
       " 16140184501.0,\n",
       " 440.0,\n",
       " 441.0,\n",
       " 436.0,\n",
       " 437.0,\n",
       " -1.0,\n",
       " 3.0,\n",
       " 436.5,\n",
       " 310.0,\n",
       " 437.0,\n",
       " 388.0,\n",
       " 24.91,\n",
       " nan]"
      ]
     },
     "execution_count": 53,
     "metadata": {},
     "output_type": "execute_result"
    }
   ],
   "source": [
    "a.values.tolist()[0]"
   ]
  },
  {
   "cell_type": "code",
   "execution_count": 3,
   "metadata": {},
   "outputs": [],
   "source": [
    "df = pd.read_csv('公司/上市.csv')  \n",
    "a=df[\"有價證券代號及名稱\"].tolist()\n",
    "df = pd.read_csv('公司/上櫃.csv')  \n",
    "b=df[\"有價證券代號及名稱\"].tolist()\n",
    "df = pd.read_csv('公司/興櫃.csv')  \n",
    "c=df[\"有價證券代號及名稱\"].tolist()\n",
    "\n"
   ]
  },
  {
   "cell_type": "code",
   "execution_count": 4,
   "metadata": {},
   "outputs": [],
   "source": [
    "#查詢list in str\n",
    "#any('1101' in item for item in a)\n",
    "#查詢list in str\n",
    "def search_name(name):\n",
    "    company=[]\n",
    "    \n",
    "    for i in a:\n",
    "        if i.__contains__(name) :\n",
    "            company=i\n",
    "            #print(i, \" is containing\")\n",
    "    for i in b:\n",
    "        if i.__contains__(name) :\n",
    "            company=i\n",
    "            #print(i, \" is containing\")\n",
    "    for i in c:\n",
    "        if i.__contains__(name) :\n",
    "            company=i\n",
    "            #print(i, \" is containing\")\n",
    "    return company"
   ]
  },
  {
   "cell_type": "code",
   "execution_count": 5,
   "metadata": {},
   "outputs": [],
   "source": [
    "db =  sqlite3.connect('db.sqlite3')\n",
    "#db.execute(\"INSERT INTO type_data (tag)   VALUES ('{}')\".format(data))\n",
    "db.execute(\"delete from basicHistory\")\n",
    "db.commit()\n",
    "db =  sqlite3.connect('db.sqlite3')\n",
    "#db.execute(\"INSERT INTO type_data (tag)   VALUES ('{}')\".format(data))\n",
    "db.execute(\"delete from technicHistory\")\n",
    "db.commit()"
   ]
  },
  {
   "cell_type": "code",
   "execution_count": 6,
   "metadata": {},
   "outputs": [],
   "source": [
    "#基本面歷史\n",
    "pk=1\n",
    "for i in range(len(save_list)):\n",
    "    name=search_name(save_list[i][0]).replace(\"\\u3000\", \" \")\n",
    "    start_date=save_list[i][1]\n",
    "    over_date=save_list[i][2]\n",
    "    buy_price=save_list[i][3]\n",
    "    sell_price=save_list[i][4]\n",
    "    return_value=(float(sell_price)-float(buy_price))/float(buy_price)\n",
    "    return_value= round(return_value*100,2)\n",
    "    if return_value>0:\n",
    "        types=\"+\"\n",
    "    else:\n",
    "        types=\"-\"\n",
    "\n",
    "    db =  sqlite3.connect('db.sqlite3')\n",
    "    db.execute(\"INSERT INTO basicHistory (id,stock_name,start_date,buy_price,over_date,sell_price,return_value,type)   VALUES ('{}','{}','{}','{}','{}','{}','{}','{}')\".format(pk,name,start_date,buy_price,over_date,sell_price,return_value,types))\n",
    "    db.commit()\n",
    "    db.close()\n",
    "    pk=pk+1"
   ]
  },
  {
   "cell_type": "code",
   "execution_count": null,
   "metadata": {},
   "outputs": [],
   "source": []
  },
  {
   "cell_type": "code",
   "execution_count": 7,
   "metadata": {},
   "outputs": [],
   "source": [
    "#技術面歷史\n",
    "pk=1\n",
    "for i in range(len(save_list)):\n",
    "    name=search_name(save_list[i][0]).replace(\"\\u3000\", \" \")\n",
    "    start_date=save_list[i][1]\n",
    "    over_date=save_list[i][2]\n",
    "    buy_price=save_list[i][3]\n",
    "    sell_price=save_list[i][4]\n",
    "    return_value=(float(sell_price)-float(buy_price))/float(buy_price)\n",
    "    return_value= round(return_value*100,2)\n",
    "    if return_value>0:\n",
    "        types=\"+\"\n",
    "    else:\n",
    "        types=\"-\"\n",
    "\n",
    "    db =  sqlite3.connect('db.sqlite3')\n",
    "    db.execute(\"INSERT INTO technicHistory (id,stock_name,start_date,buy_price,over_date,sell_price,return_value,type)   VALUES ('{}','{}','{}','{}','{}','{}','{}','{}')\".format(pk,name,start_date,buy_price,over_date,sell_price,return_value,types))\n",
    "    db.commit()\n",
    "    db.close()\n",
    "    pk=pk+1"
   ]
  },
  {
   "cell_type": "code",
   "execution_count": null,
   "metadata": {},
   "outputs": [],
   "source": []
  },
  {
   "cell_type": "code",
   "execution_count": 8,
   "metadata": {},
   "outputs": [],
   "source": [
    "db =  sqlite3.connect('db.sqlite3')\n",
    "#db.execute(\"INSERT INTO type_data (tag)   VALUES ('{}')\".format(data))\n",
    "db.execute(\"delete from basicCurrent\")\n",
    "db.commit()\n",
    "db =  sqlite3.connect('db.sqlite3')\n",
    "#db.execute(\"INSERT INTO type_data (tag)   VALUES ('{}')\".format(data))\n",
    "db.execute(\"delete from technicCurrent\")\n",
    "db.commit()"
   ]
  },
  {
   "cell_type": "code",
   "execution_count": 10,
   "metadata": {
    "scrolled": true
   },
   "outputs": [],
   "source": [
    "#基本面現在\n",
    "pk=1\n",
    "for i in range(len(now_list)):\n",
    "    final_update=\"2020-07-14\"\n",
    "    name=search_name(now_list[i][0]).replace(\"\\u3000\", \" \")\n",
    "    start_date=\"2020-07-10\"\n",
    "    start_price=now_list[i][2]\n",
    "    over_date=\"2020-08-14\"\n",
    "    current_price=now_list[i][3]\n",
    "    now_return=now_list[i][1]\n",
    "    if float(now_return)>0:\n",
    "        types=\"+\"\n",
    "    else:\n",
    "        types=\"-\"\n",
    "        \n",
    "        \n",
    "    db =  sqlite3.connect('db.sqlite3')\n",
    "    db.execute(\"INSERT INTO basicCurrent (id,final_update,stock_name,start_date,start_price,over_date,current_price,now_return,type)   VALUES ('{}','{}','{}','{}','{}','{}','{}','{}','{}')\".format(pk,final_update,name,start_date,start_price,over_date,current_price,now_return,types))\n",
    "    db.commit()\n",
    "    db.close()\n",
    "    pk=pk+1"
   ]
  },
  {
   "cell_type": "code",
   "execution_count": 11,
   "metadata": {},
   "outputs": [],
   "source": [
    "#基本面現在\n",
    "pk=1\n",
    "for i in range(len(now_list)):\n",
    "    final_update=\"2020-07-14\"\n",
    "    name=search_name(now_list[i][0]).replace(\"\\u3000\", \" \")\n",
    "    start_date=\"2020-07-10\"\n",
    "    start_price=now_list[i][2]\n",
    "    over_date=\"2020-08-14\"\n",
    "    current_price=now_list[i][3]\n",
    "    now_return=now_list[i][1]\n",
    "    if float(now_return)>0:\n",
    "        types=\"+\"\n",
    "    else:\n",
    "        types=\"-\"\n",
    "        \n",
    "        \n",
    "    db =  sqlite3.connect('db.sqlite3')\n",
    "    db.execute(\"INSERT INTO technicCurrent (id,final_update,stock_name,start_date,start_price,over_date,current_price,now_return,type)   VALUES ('{}','{}','{}','{}','{}','{}','{}','{}','{}')\".format(pk,final_update,name,start_date,start_price,over_date,current_price,now_return,types))\n",
    "    db.commit()\n",
    "    db.close()\n",
    "    pk=pk+1"
   ]
  },
  {
   "cell_type": "code",
   "execution_count": null,
   "metadata": {},
   "outputs": [],
   "source": []
  }
 ],
 "metadata": {
  "kernelspec": {
   "display_name": "Python 3",
   "language": "python",
   "name": "python3"
  },
  "language_info": {
   "codemirror_mode": {
    "name": "ipython",
    "version": 3
   },
   "file_extension": ".py",
   "mimetype": "text/x-python",
   "name": "python",
   "nbconvert_exporter": "python",
   "pygments_lexer": "ipython3",
   "version": "3.8.3"
  }
 },
 "nbformat": 4,
 "nbformat_minor": 2
}

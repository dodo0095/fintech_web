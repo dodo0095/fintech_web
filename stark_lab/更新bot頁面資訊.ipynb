{
 "cells": [
  {
   "cell_type": "code",
   "execution_count": 1,
   "metadata": {},
   "outputs": [],
   "source": [
    "import numpy as np\n",
    "import sqlite3\n",
    "import pandas as pd\n",
    "import csv\n",
    "\n",
    "from datetime import datetime, timedelta\n",
    "import time\n",
    "import datetime\n",
    "import requests\n",
    "from io import StringIO"
   ]
  },
  {
   "cell_type": "code",
   "execution_count": null,
   "metadata": {},
   "outputs": [],
   "source": []
  },
  {
   "cell_type": "code",
   "execution_count": 2,
   "metadata": {},
   "outputs": [],
   "source": [
    "# 抓上市公司股價\n",
    "def stock_value(datestr):\n",
    "    #把當月11號的台股資訊 更新\n",
    "    #datestr = '20200911'\n",
    "    # 下載股價\n",
    "    r = requests.post('https://www.twse.com.tw/exchangeReport/MI_INDEX?response=csv&date=' + datestr + '&type=ALL')\n",
    "    # 整理資料，變成表格\n",
    "    df = pd.read_csv(StringIO(r.text.replace(\"=\", \"\")), \n",
    "                header=[\"證券代號\" in l for l in r.text.split(\"\\n\")].index(True)-1)\n",
    "    # 整理一些字串：\n",
    "    df = df.apply(lambda s: pd.to_numeric(s.astype(str).str.replace(\",\", \"\").replace(\"+\", \"1\").replace(\"-\", \"-1\"), errors='coerce'))\n",
    "    # 顯示出來\n",
    "    #df.head()\n",
    "    return df"
   ]
  },
  {
   "cell_type": "code",
   "execution_count": 3,
   "metadata": {},
   "outputs": [],
   "source": [
    "#抓上櫃公司股價\n",
    "def stock_value2(datestr):\n",
    "    link = 'http://www.tpex.org.tw/web/stock/aftertrading/daily_close_quotes/stk_quote_download.php?l=zh-tw&d='+datestr+'&s=0,asc,0'\n",
    "    r = requests.get(link)\n",
    "    r.ok\n",
    "    lines = r.text.replace('\\r', '').split('\\n')\n",
    "    df = pd.read_csv(StringIO(\"\\n\".join(lines[3:])), header=None)\n",
    "    #df.head()\n",
    "    df.columns = list(map(lambda l: l.replace(' ',''), lines[2].split(',')))\n",
    "    #df.index = df['代號']\n",
    "    #df = df.drop(['代號'], axis=1)\n",
    "    #df.head()\n",
    "    return df\n"
   ]
  },
  {
   "cell_type": "code",
   "execution_count": 4,
   "metadata": {},
   "outputs": [],
   "source": [
    "from datetime import datetime\n",
    "\n",
    "# 获取当前日期\n",
    "current_date = datetime.now()\n",
    "\n",
    "# 提取年份和月份\n",
    "current_year = str(current_date.year)\n",
    "current_month = str(current_date.month)\n"
   ]
  },
  {
   "cell_type": "code",
   "execution_count": null,
   "metadata": {},
   "outputs": [],
   "source": []
  },
  {
   "cell_type": "code",
   "execution_count": 5,
   "metadata": {},
   "outputs": [
    {
     "name": "stdout",
     "output_type": "stream",
     "text": [
      "現在的年跟月份 2025 4\n",
      "往前一個月 2025 03\n",
      "往前三個月 2025 01\n",
      "往前一年 2024 4\n"
     ]
    }
   ],
   "source": [
    "nowyear = current_year\n",
    "nowmonth = current_month\n",
    "\n",
    "print(\"現在的年跟月份\",nowyear,nowmonth)\n",
    " #往前推一個月\n",
    "if int(nowmonth)==1:\n",
    "    last_month=str(12)\n",
    "    last_year=str(int(nowyear)-1)\n",
    "else:\n",
    "    last_month=str(int(nowmonth)-1)  \n",
    "    last_year=nowyear\n",
    "if len(last_month)==1:\n",
    "    last_month=\"0\"+last_month\n",
    "else:\n",
    "    pass\n",
    "\n",
    "print(\"往前一個月\",last_year,last_month)\n",
    "\n",
    "\n",
    "#往前推三個月\n",
    "if int(nowmonth)==1 or int(nowmonth)==2 or int(nowmonth)==3  :\n",
    "    if int(nowmonth)==1:\n",
    "        last_3month=str(10)\n",
    "    elif int(nowmonth)==2:\n",
    "        last_3month=str(11)\n",
    "    elif int(nowmonth)==3:    \n",
    "        last_3month=str(12)\n",
    "    last3_year=str(int(nowyear)-1)\n",
    "else:\n",
    "    last_3month=str(int(nowmonth)-3)  \n",
    "    last3_year=nowyear\n",
    "if len(last_3month)==1:\n",
    "    last_3month=\"0\"+last_3month\n",
    "else:\n",
    "    pass\n",
    "\n",
    "print(\"往前三個月\",last3_year,last_3month)\n",
    "\n",
    "\n",
    " #往前推一年\n",
    "last_year_month=nowmonth\n",
    "last_year_year=str(int(nowyear)-1)\n",
    "print(\"往前一年\",last_year_year,last_year_month)"
   ]
  },
  {
   "cell_type": "code",
   "execution_count": 6,
   "metadata": {},
   "outputs": [],
   "source": [
    "## 拿上市收盤價資料\n",
    "def take_value(df,id):\n",
    "    take_info=df[pd.to_numeric(df['證券代號'], errors='coerce') == id]\n",
    "    value=float(take_info[\"收盤價\"].values)\n",
    "    return value\n",
    "#拿上櫃收盤價資料\n",
    "def take_value2(df,id):\n",
    "    take_info=df[pd.to_numeric(df['代號'], errors='coerce') == id]\n",
    "    value=float(take_info[\"收盤\"].values)\n",
    "    return value"
   ]
  },
  {
   "cell_type": "code",
   "execution_count": 7,
   "metadata": {},
   "outputs": [
    {
     "name": "stdout",
     "output_type": "stream",
     "text": [
      "sleep 1.5 seconds.\n",
      "printed after 1.5 seconds.\n",
      "抓取 20250311 的資料\n",
      "sleep 1.5 seconds.\n",
      "printed after 1.5 seconds.\n",
      "抓取 20250111 的資料\n",
      "sleep 1.5 seconds.\n",
      "printed after 1.5 seconds.\n",
      "抓取 2024411 的資料\n"
     ]
    }
   ],
   "source": [
    "import time\n",
    "\n",
    "#現在的價錢\n",
    "a=nowyear+nowmonth+\"11\"\n",
    "for i in range(100):\n",
    "    try:\n",
    "        df_now=stock_value(a)\n",
    "        break\n",
    "    except:\n",
    "        from datetime import datetime\n",
    "        edit_time=datetime.strptime(a, \"%Y%m%d\")\n",
    "        import datetime\n",
    "        a= (edit_time+datetime.timedelta(days=-1)).strftime(\"%Y%m%d\")\n",
    "        \n",
    "print(\"sleep 1.5 seconds.\")\n",
    "time.sleep(5)\n",
    "print(\"printed after 1.5 seconds.\")\n",
    "\n",
    "\n",
    "\n",
    "\n",
    "\n",
    "\n",
    "\n",
    "\n",
    "#一個月前的價錢\n",
    "b=last_year+last_month+'11'\n",
    "print(\"抓取\",b,\"的資料\")\n",
    "for i in range(100):\n",
    "    try:\n",
    "        df_last_month=stock_value(b)\n",
    "        break\n",
    "    except:\n",
    "        from datetime import datetime\n",
    "        edit_time=datetime.strptime(b, \"%Y%m%d\")\n",
    "        import datetime\n",
    "        b= (edit_time+datetime.timedelta(days=-1)).strftime(\"%Y%m%d\")\n",
    "    \n",
    "print(\"sleep 1.5 seconds.\")\n",
    "time.sleep(5)\n",
    "print(\"printed after 1.5 seconds.\")\n",
    "\n",
    "\n",
    "\n",
    "\n",
    "#抓取 三個月前的資料\n",
    "c=last3_year+last_3month+'11'\n",
    "print(\"抓取\",c,\"的資料\")\n",
    "\n",
    "for i in range(100):\n",
    "    try:\n",
    "        df_last_3month=stock_value(c)\n",
    "        break\n",
    "    except:\n",
    "        from datetime import datetime\n",
    "        edit_time=datetime.strptime(c, \"%Y%m%d\")\n",
    "        import datetime\n",
    "        c= (edit_time+datetime.timedelta(days=-1)).strftime(\"%Y%m%d\")\n",
    "\n",
    "print(\"sleep 1.5 seconds.\")\n",
    "time.sleep(5)\n",
    "print(\"printed after 1.5 seconds.\")\n",
    "\n",
    "#抓取 一年前的資料\n",
    "d=last_year_year+last_year_month+'11'\n",
    "print(\"抓取\",d,\"的資料\")\n",
    "for i in range(100):\n",
    "    try:\n",
    "        df_last_year=stock_value(d)\n",
    "        break\n",
    "    except:\n",
    "        from datetime import datetime\n",
    "        edit_time=datetime.strptime(d, \"%Y%m%d\")\n",
    "        import datetime\n",
    "        d= (edit_time+datetime.timedelta(days=-1)).strftime(\"%Y%m%d\")\n",
    "        "
   ]
  },
  {
   "cell_type": "code",
   "execution_count": 8,
   "metadata": {},
   "outputs": [
    {
     "name": "stdout",
     "output_type": "stream",
     "text": [
      "20250410 20250311 20250110 20240410\n"
     ]
    }
   ],
   "source": [
    "print(a,b,c,d)"
   ]
  },
  {
   "cell_type": "code",
   "execution_count": 9,
   "metadata": {},
   "outputs": [],
   "source": [
    "#0050的價格  現在的   一個月前  三個月前    一年前\n",
    "now_price=take_value(df_now,50)\n",
    "last_month_price=take_value(df_last_month,50)\n",
    "df_last_3month_price=take_value(df_last_3month,50)\n",
    "df_last_year_price=take_value(df_last_year,50)"
   ]
  },
  {
   "cell_type": "code",
   "execution_count": 10,
   "metadata": {},
   "outputs": [
    {
     "data": {
      "text/plain": [
       "199.0"
      ]
     },
     "execution_count": 10,
     "metadata": {},
     "output_type": "execute_result"
    }
   ],
   "source": [
    "df_last_3month_price"
   ]
  },
  {
   "cell_type": "code",
   "execution_count": 11,
   "metadata": {},
   "outputs": [],
   "source": [
    "monthly_0050_return=(now_price-last_month_price)/last_month_price\n",
    "season_0050_return=(now_price-df_last_3month_price)/df_last_3month_price\n",
    "year_0050_return=(now_price-df_last_year_price)/df_last_year_price\n"
   ]
  },
  {
   "cell_type": "code",
   "execution_count": 12,
   "metadata": {},
   "outputs": [
    {
     "name": "stdout",
     "output_type": "stream",
     "text": [
      "-11.65 -19.2 -1.35\n"
     ]
    }
   ],
   "source": [
    "monthly_0050_return=round(monthly_0050_return*100,2)\n",
    "season_0050_return=round(season_0050_return*100,2)\n",
    "year_0050_return=round(year_0050_return*100,2)\n",
    "print(monthly_0050_return,season_0050_return,year_0050_return)"
   ]
  },
  {
   "cell_type": "code",
   "execution_count": 13,
   "metadata": {},
   "outputs": [
    {
     "name": "stdout",
     "output_type": "stream",
     "text": [
      "基本面策略績效 -8.47\n",
      "技術面策略績效 -8.66\n"
     ]
    }
   ],
   "source": [
    "#開始計算左邊策略當月的報酬跟震幅\n",
    "db =  sqlite3.connect('db.sqlite3')\n",
    "cursor = db.execute(\"SELECT * from basicCurrent\")\n",
    "row=cursor.fetchall()\n",
    "\n",
    "fundamental_return=0\n",
    "fundamental_amplitude=0\n",
    "\n",
    "start_price_total=0\n",
    "final_price_total=0\n",
    "\n",
    "for i in range(len(row)):\n",
    "    #print(row)\n",
    "    start_price_total=start_price_total+float(row[i][4])\n",
    "    final_price_total=final_price_total+float(row[i][6])\n",
    "        \n",
    "    if abs(float(row[i][7]))>abs(float(fundamental_amplitude)):\n",
    "        fundamental_amplitude=abs(float(row[i][7]))\n",
    "        \n",
    "fundamental_return=(float(final_price_total)-float(start_price_total))/float(start_price_total)\n",
    "fundamental_return=round(fundamental_return*100,2)\n",
    "\n",
    "print(\"基本面策略績效\",fundamental_return)\n",
    "\n",
    "#開始計算右邊策略當月的報酬跟震幅\n",
    "db =  sqlite3.connect('db.sqlite3')\n",
    "cursor = db.execute(\"SELECT * from technicCurrent\")\n",
    "row=cursor.fetchall()\n",
    "\n",
    "technology_return=0\n",
    "technology_amplitude=0\n",
    "\n",
    "start_price_total=0\n",
    "final_price_total=0\n",
    "\n",
    "for i in range(len(row)):\n",
    "\n",
    "    start_price_total=start_price_total+float(row[i][4])\n",
    "    final_price_total=final_price_total+float(row[i][6])\n",
    "        \n",
    "    if abs(float(row[i][7]))>abs(float(technology_amplitude)):\n",
    "        technology_amplitude=abs(float(row[i][7]))\n",
    "        \n",
    "technology_return=(float(final_price_total)-float(start_price_total))/float(start_price_total)\n",
    "technology_return=round(technology_return*100,2)\n",
    "\n",
    "print(\"技術面策略績效\",technology_return)"
   ]
  },
  {
   "cell_type": "code",
   "execution_count": null,
   "metadata": {},
   "outputs": [],
   "source": []
  },
  {
   "cell_type": "code",
   "execution_count": 14,
   "metadata": {},
   "outputs": [],
   "source": [
    "#開始計算策略的報酬   #最上面的區塊\n",
    "db =  sqlite3.connect('db.sqlite3')\n",
    "cursor = db.execute(\"SELECT * from basicHistory\")\n",
    "row=cursor.fetchall()"
   ]
  },
  {
   "cell_type": "code",
   "execution_count": 15,
   "metadata": {},
   "outputs": [],
   "source": [
    "# #開始計算策略的報酬\n",
    "# db =  sqlite3.connect('db.sqlite3')\n",
    "# cursor = db.execute(\"SELECT * from technicHistory\")\n",
    "# row=cursor.fetchall()"
   ]
  },
  {
   "cell_type": "code",
   "execution_count": 16,
   "metadata": {},
   "outputs": [
    {
     "name": "stdout",
     "output_type": "stream",
     "text": [
      "2025-4-11 2025-03-11 2025-01-11 2024-4-11\n"
     ]
    }
   ],
   "source": [
    "#當月\n",
    "a=nowyear+\"-\"+nowmonth+\"-\"+\"11\"\n",
    "#上個月\n",
    "b=last_year+\"-\"+last_month+\"-\"+'11'\n",
    "#上一季\n",
    "c=last3_year+\"-\"+last_3month+\"-\"+'11'\n",
    "#上一年\n",
    "d=last_year_year+\"-\"+last_year_month+\"-\"+'11'\n",
    "print(a,b,c,d)"
   ]
  },
  {
   "cell_type": "code",
   "execution_count": 17,
   "metadata": {},
   "outputs": [
    {
     "name": "stdout",
     "output_type": "stream",
     "text": [
      "上個月的績效是 -8.46595177925004\n"
     ]
    }
   ],
   "source": [
    "#計算上個月的績效\n",
    "start_price_total=0\n",
    "final_price_total=0\n",
    "monthly_return=0\n",
    "for i in range(len(row)-1,0,-1):\n",
    "    if row[i][2][:7]==b[:7]:\n",
    "        #print(row[i])\n",
    "        start_price_total=start_price_total+float(row[i][3])\n",
    "        final_price_total=final_price_total+float(row[i][5])\n",
    "monthly_return=(float(final_price_total)-float(start_price_total))/float(start_price_total)\n",
    "\n",
    "print(\"上個月的績效是\",monthly_return*100)"
   ]
  },
  {
   "cell_type": "code",
   "execution_count": 18,
   "metadata": {},
   "outputs": [],
   "source": [
    "# start_price_total2=0\n",
    "# final_price_total2=0\n",
    "# for i in range(len(row)-1,0,-1):\n",
    "#     print(row[i][2][0:10],b)\n",
    "#     #print(i)\n",
    "#     if row[i][2].replace(\"\\n\",\"\")[:7]==b[:7]:\n",
    "#         print(row[i],row[i][3],row[i][5])\n",
    "#         start_price_total2=start_price_total2+float(row[i][3])\n",
    "#         final_price_total2=final_price_total2+float(row[i][5])"
   ]
  },
  {
   "cell_type": "code",
   "execution_count": null,
   "metadata": {},
   "outputs": [],
   "source": []
  },
  {
   "cell_type": "code",
   "execution_count": 20,
   "metadata": {},
   "outputs": [
    {
     "data": {
      "text/plain": [
       "0"
      ]
     },
     "execution_count": 20,
     "metadata": {},
     "output_type": "execute_result"
    }
   ],
   "source": [
    "start_price_total2"
   ]
  },
  {
   "cell_type": "code",
   "execution_count": 19,
   "metadata": {},
   "outputs": [
    {
     "name": "stdout",
     "output_type": "stream",
     "text": [
      "(4291, '3260 威剛', '2025-03-11', '93.0', '2025-4-11', '73.4', '-21.08', '-') 93.0 73.4\n",
      "(4290, '3056 富華新', '2025-03-11', '36.7', '2025-4-11', '34.45', '-6.13', '-') 36.7 34.45\n",
      "(4289, '3045 台灣大', '2025-03-11', '116.5', '2025-4-11', '119.0', '2.15', '+') 116.5 119.0\n",
      "(4288, '3033 威健', '2025-03-11', '36.05', '2025-4-11', '30.95', '-14.15', '-') 36.05 30.95\n",
      "(4287, '2892 第一金', '2025-03-11', '27.45', '2025-4-11', '26.25', '-4.37', '-') 27.45 26.25\n",
      "(4286, '2886 兆豐金', '2025-03-11', '39.5', '2025-4-11', '38.05', '-3.67', '-') 39.5 38.05\n",
      "(4285, '2884 玉山金', '2025-03-11', '28.95', '2025-4-11', '27.8', '-3.97', '-') 28.95 27.8\n",
      "(4284, '2838 聯邦銀', '2025-03-11', '17.05', '2025-4-11', '16.7', '-2.05', '-') 17.05 16.7\n",
      "(4283, '2812 台中銀', '2025-03-11', '20.25', '2025-4-11', '19.5', '-3.7', '-') 20.25 19.5\n",
      "(4282, '2801 彰銀', '2025-03-11', '17.8', '2025-4-11', '17.5', '-1.69', '-') 17.8 17.5\n",
      "(4281, '2727 王品', '2025-03-11', '239.0', '2025-4-11', '216.5', '-9.41', '-') 239.0 216.5\n",
      "(4280, '2606 裕民', '2025-03-11', '73.8', '2025-4-11', '51.9', '-29.67', '-') 73.8 51.9\n",
      "(4279, '2535 達欣工', '2025-03-11', '58.03', '2025-4-11', '53.2', '-8.32', '-') 58.03 53.2\n",
      "(4278, '2027 大成鋼', '2025-03-11', '49.0', '2025-4-11', '47.3', '-3.47', '-') 49.0 47.3\n",
      "(4277, '2015 豐興', '2025-03-11', '69.17', '2025-4-11', '60.2', '-12.97', '-') 69.17 60.2\n",
      "(4276, '1736 喬山', '2025-03-11', '201.0', '2025-4-11', '173.5', '-13.68', '-') 201.0 173.5\n",
      "(4275, '1402 遠東新', '2025-03-11', '33.25', '2025-4-11', '31.75', '-4.51', '-') 33.25 31.75\n",
      "(4274, '1319 東陽', '2025-03-11', '121.0', '2025-4-11', '125.0', '3.31', '+') 121.0 125.0\n",
      "(4273, '1216 統一', '2025-03-11', '82.6', '2025-4-11', '78.4', '-5.08', '-') 82.6 78.4\n",
      "(4272, '1215 卜蜂', '2025-03-11', '104.0', '2025-4-11', '98.8', '-5.0', '-') 104.0 98.8\n"
     ]
    },
    {
     "ename": "ZeroDivisionError",
     "evalue": "float division by zero",
     "output_type": "error",
     "traceback": [
      "\u001b[1;31m---------------------------------------------------------------------------\u001b[0m",
      "\u001b[1;31mZeroDivisionError\u001b[0m                         Traceback (most recent call last)",
      "Input \u001b[1;32mIn [19]\u001b[0m, in \u001b[0;36m<cell line: 5>\u001b[1;34m()\u001b[0m\n\u001b[0;32m     29\u001b[0m         final_price_total2\u001b[38;5;241m=\u001b[39mfinal_price_total2\u001b[38;5;241m+\u001b[39m\u001b[38;5;28mfloat\u001b[39m(row[i][\u001b[38;5;241m5\u001b[39m])\n\u001b[0;32m     30\u001b[0m \u001b[38;5;66;03m#print(\"-------\")   \u001b[39;00m\n\u001b[1;32m---> 31\u001b[0m temp\u001b[38;5;241m=\u001b[39m\u001b[43m(\u001b[49m\u001b[38;5;28;43mfloat\u001b[39;49m\u001b[43m(\u001b[49m\u001b[43mfinal_price_total2\u001b[49m\u001b[43m)\u001b[49m\u001b[38;5;241;43m-\u001b[39;49m\u001b[38;5;28;43mfloat\u001b[39;49m\u001b[43m(\u001b[49m\u001b[43mstart_price_total2\u001b[49m\u001b[43m)\u001b[49m\u001b[43m)\u001b[49m\u001b[38;5;241;43m/\u001b[39;49m\u001b[38;5;28;43mfloat\u001b[39;49m\u001b[43m(\u001b[49m\u001b[43mstart_price_total2\u001b[49m\u001b[43m)\u001b[49m\n\u001b[0;32m     32\u001b[0m season_return\u001b[38;5;241m=\u001b[39mseason_return\u001b[38;5;241m*\u001b[39m(\u001b[38;5;241m1\u001b[39m\u001b[38;5;241m+\u001b[39mtemp)\n\u001b[0;32m     34\u001b[0m \u001b[38;5;66;03m#print(temp)\u001b[39;00m\n",
      "\u001b[1;31mZeroDivisionError\u001b[0m: float division by zero"
     ]
    }
   ],
   "source": [
    "#計算上一季的績效\n",
    "\n",
    "season_return=1\n",
    "last_month=nowmonth\n",
    "for j in range(1,4,1):\n",
    "    start_price_total2=0\n",
    "    final_price_total2=0\n",
    "    #往前推一個月\n",
    "    if int(last_month)==1:\n",
    "        last_month=str(12)\n",
    "        last_year=str(int(last_year)-1)\n",
    "    else:\n",
    "        last_month=str(int(last_month)-1)  \n",
    "\n",
    "    if len(last_month)==1:\n",
    "        last_month=\"0\"+last_month\n",
    "    else:\n",
    "        pass\n",
    "    \n",
    "    b=last_year+\"-\"+last_month+\"-\"+'11'  \n",
    "    #print(last_month)\n",
    "    \n",
    "    for i in range(len(row)-1,0,-1):\n",
    "        #print(row[i][2][0:10],b)\n",
    "        #print(i)\n",
    "        if row[i][2].replace(\"\\n\",\"\")[:7]==b[:7]:\n",
    "            print(row[i],row[i][3],row[i][5])\n",
    "            start_price_total2=start_price_total2+float(row[i][3])\n",
    "            final_price_total2=final_price_total2+float(row[i][5])\n",
    "    #print(\"-------\")   \n",
    "    temp=(float(final_price_total2)-float(start_price_total2))/float(start_price_total2)\n",
    "    season_return=season_return*(1+temp)\n",
    "\n",
    "    #print(temp)\n",
    "if season_return>1:\n",
    "    season_return=season_return-1\n",
    "\n",
    "print(\"上一季的績效是\",season_return*100)"
   ]
  },
  {
   "cell_type": "code",
   "execution_count": null,
   "metadata": {},
   "outputs": [],
   "source": [
    "# #計算上一年的績效\n",
    "\n",
    "# season_return=1\n",
    "# last_month=nowmonth\n",
    "# for j in range(1,12,1):\n",
    "#     start_price_total2=0\n",
    "#     final_price_total2=0\n",
    "#     #往前推一個月\n",
    "#     if int(last_month)==1:\n",
    "#         last_month=str(12)\n",
    "#         last_year=str(int(last_year)-1)\n",
    "#     else:\n",
    "#         last_month=str(int(last_month)-1)  \n",
    "\n",
    "#     if len(last_month)==1:\n",
    "#         last_month=\"0\"+last_month\n",
    "#     else:\n",
    "#         pass\n",
    "    \n",
    "#     b=last_year+\"-\"+last_month+\"-\"+'11'  \n",
    "#     #print(last_month)\n",
    "    \n",
    "#     for i in range(len(row)-1,0,-1):\n",
    "#         #print(row[i][2][0:10],b)\n",
    "#         #print(i)\n",
    "#         if row[i][2].replace(\"\\n\",\"\")[:7]==b[:7]:\n",
    "#             try:\n",
    "#                 print(row[i],row[i][3],row[i][5])\n",
    "\n",
    "                \n",
    "                \n",
    "                \n",
    "                \n",
    "                \n",
    "                \n",
    "                \n",
    "#             start_price_total2=start_price_total2+float(row[i][3])\n",
    "#             final_price_total2=final_price_total2+float(row[i][5])\n",
    "#     #print(\"-------\")   \n",
    "#     temp=(float(final_price_total2)-float(start_price_total2))/float(start_price_total2)\n",
    "#     season_return=season_return*(1+temp)\n",
    "\n",
    "#     #print(temp)\n",
    "# if season_return>1:\n",
    "#     season_return=season_return-1\n",
    "\n",
    "# print(\"上一季的績效是\",season_return*100)"
   ]
  },
  {
   "cell_type": "code",
   "execution_count": null,
   "metadata": {},
   "outputs": [],
   "source": []
  },
  {
   "cell_type": "code",
   "execution_count": null,
   "metadata": {},
   "outputs": [],
   "source": []
  },
  {
   "cell_type": "code",
   "execution_count": null,
   "metadata": {},
   "outputs": [],
   "source": [
    "#計算年的績效\n",
    "year_return=1\n",
    "last_month=nowmonth\n",
    "for j in range(1,13,1):\n",
    "    start_price_total3=0\n",
    "    final_price_total3=0\n",
    "    \n",
    "    #往前推一個月\n",
    "    if int(last_month)==1:\n",
    "        last_month=str(12)\n",
    "        last_year=str(int(last_year)-1)\n",
    "    else:\n",
    "        last_month=str(int(last_month)-1)  \n",
    "\n",
    "    if len(last_month)==1:\n",
    "        last_month=\"0\"+last_month\n",
    "    else:\n",
    "        pass\n",
    "    \n",
    "    b=last_year+\"-\"+last_month+\"-\"+'11'  \n",
    "    print(last_month)\n",
    "    \n",
    "    for i in range(len(row)-1,0,-1):\n",
    "        #print(row[i][2][0:10],b)\n",
    "        if row[i][2].replace(\"\\n\",\"\")==b:\n",
    "            #print(row[i])\n",
    "            start_price_total3=start_price_total3+float(row[i][3])\n",
    "            final_price_total3=final_price_total3+float(row[i][5])\n",
    "    print(\"-------\")   \n",
    "    try:\n",
    "        temp=(float(final_price_total3)-float(start_price_total3))/float(start_price_total3)\n",
    "    except:\n",
    "        temp=0\n",
    "        print(b)\n",
    "    year_return=year_return*(1+temp)\n",
    "    print(\"year_return\",year_return)\n",
    "    print(temp)  #每個月的績效\n",
    "if year_return>1:\n",
    "    year_return=year_return-1\n",
    "year_return"
   ]
  },
  {
   "cell_type": "code",
   "execution_count": null,
   "metadata": {},
   "outputs": [],
   "source": [
    "monthly_return,(season_return),(year_return)"
   ]
  },
  {
   "cell_type": "code",
   "execution_count": null,
   "metadata": {},
   "outputs": [],
   "source": [
    "#monthly_return=round(((fundamental_return+technology_return)/2),2)\n",
    "\n",
    "monthly_return=round(((monthly_return)*100),2)\n",
    "season_return=round(((season_return)*100),2)\n",
    "year_return=round(((year_return)*100),2)"
   ]
  },
  {
   "cell_type": "code",
   "execution_count": null,
   "metadata": {},
   "outputs": [],
   "source": [
    "# 更新bot database\n",
    "db =  sqlite3.connect('db.sqlite3')\n",
    "#db.execute(\"INSERT INTO type_data (tag)   VALUES ('{}')\".format(data))\n",
    "db.execute(\"delete from bot\")\n",
    "db.commit()\n",
    "pk=1\n",
    "\n",
    "# final_update,name,start_date,start_price,over_date,current_price,now_return,types=change_parameter(now_list[i]) \n",
    "db =  sqlite3.connect('db.sqlite3')\n",
    "db.execute(\"INSERT INTO bot (id,monthly_return,monthly_0050_return,season_return,season_0050_return,year_return,year_0050_return,fundamental_return,fundamental_amplitude,technology_return,technology_amplitude)   VALUES ('{}','{}','{}','{}','{}','{}','{}','{}','{}','{}','{}')\".format(pk,monthly_return,monthly_0050_return,season_return,season_0050_return,year_return,year_0050_return,fundamental_return,fundamental_amplitude,technology_return,technology_amplitude))\n",
    "db.commit()\n",
    "db.close()\n"
   ]
  },
  {
   "cell_type": "code",
   "execution_count": null,
   "metadata": {},
   "outputs": [],
   "source": [
    "#over"
   ]
  },
  {
   "cell_type": "code",
   "execution_count": null,
   "metadata": {},
   "outputs": [],
   "source": []
  },
  {
   "cell_type": "code",
   "execution_count": null,
   "metadata": {},
   "outputs": [],
   "source": []
  },
  {
   "cell_type": "code",
   "execution_count": null,
   "metadata": {},
   "outputs": [],
   "source": []
  },
  {
   "cell_type": "code",
   "execution_count": null,
   "metadata": {},
   "outputs": [],
   "source": []
  },
  {
   "cell_type": "code",
   "execution_count": null,
   "metadata": {},
   "outputs": [],
   "source": []
  },
  {
   "cell_type": "code",
   "execution_count": null,
   "metadata": {},
   "outputs": [],
   "source": []
  },
  {
   "cell_type": "code",
   "execution_count": null,
   "metadata": {},
   "outputs": [],
   "source": []
  },
  {
   "cell_type": "code",
   "execution_count": null,
   "metadata": {},
   "outputs": [],
   "source": []
  },
  {
   "cell_type": "code",
   "execution_count": 238,
   "metadata": {},
   "outputs": [
    {
     "data": {
      "text/plain": [
       "(-0.00498017912200826, 0.681349506366397, 0.8916452251307014)"
      ]
     },
     "execution_count": 238,
     "metadata": {},
     "output_type": "execute_result"
    }
   ],
   "source": []
  },
  {
   "cell_type": "code",
   "execution_count": 15,
   "metadata": {},
   "outputs": [],
   "source": [
    "#開始計算策略的報酬\n",
    "db =  sqlite3.connect('db.sqlite3')\n",
    "cursor = db.execute(\"SELECT * from technicHistory\")\n",
    "row=cursor.fetchall()"
   ]
  },
  {
   "cell_type": "code",
   "execution_count": 16,
   "metadata": {},
   "outputs": [],
   "source": [
    "start_price_total=0\n",
    "final_price_total=0\n",
    "\n",
    "start_price_total2=0\n",
    "final_price_total2=0\n",
    "\n",
    "start_price_total3=0\n",
    "final_price_total3=0\n",
    "\n",
    "\n",
    "\n",
    "for i in range(len(row)):\n",
    "    if b<row[i][2] or b==row[i][2]:\n",
    "        start_price_total=start_price_total+float(row[i][3])\n",
    "        final_price_total=final_price_total+float(row[i][5])\n",
    "    if c<row[i][2] or c==row[i][2]:\n",
    "        start_price_total2=start_price_total2+float(row[i][3])\n",
    "        final_price_total2=final_price_total2+float(row[i][5])\n",
    "    if d<row[i][2] or d==row[i][2]:\n",
    "        start_price_total3=start_price_total3+float(row[i][3])\n",
    "        final_price_total3=final_price_total3+float(row[i][5])\n",
    "        \n",
    "\n",
    "monthly_return=monthly_return+(float(final_price_total)-float(start_price_total))/float(start_price_total)\n",
    "season_return=season_return+(float(final_price_total2)-float(start_price_total2))/float(start_price_total2)\n",
    "year_return=year_return+(float(final_price_total3)-float(start_price_total3))/float(start_price_total3)"
   ]
  },
  {
   "cell_type": "code",
   "execution_count": null,
   "metadata": {},
   "outputs": [],
   "source": []
  },
  {
   "cell_type": "code",
   "execution_count": 17,
   "metadata": {
    "scrolled": true
   },
   "outputs": [
    {
     "data": {
      "text/plain": [
       "(0.020300299561611217, 0.054177651407478065, 0.09758573901833878)"
      ]
     },
     "execution_count": 17,
     "metadata": {},
     "output_type": "execute_result"
    }
   ],
   "source": [
    "monthly_return,season_return,year_return"
   ]
  },
  {
   "cell_type": "code",
   "execution_count": 18,
   "metadata": {},
   "outputs": [],
   "source": [
    "#monthly_return=round(((fundamental_return+technology_return)/2),2)\n",
    "\n",
    "monthly_return=round(((monthly_return)*100),2)\n",
    "season_return=round(((season_return)*100),2)\n",
    "year_return=round(((year_return)*100),2)"
   ]
  },
  {
   "cell_type": "code",
   "execution_count": 19,
   "metadata": {},
   "outputs": [
    {
     "data": {
      "text/plain": [
       "(2.03, 5.42, 9.76)"
      ]
     },
     "execution_count": 19,
     "metadata": {},
     "output_type": "execute_result"
    }
   ],
   "source": [
    "monthly_return,season_return,year_return"
   ]
  },
  {
   "cell_type": "code",
   "execution_count": null,
   "metadata": {},
   "outputs": [],
   "source": []
  },
  {
   "cell_type": "code",
   "execution_count": null,
   "metadata": {},
   "outputs": [],
   "source": []
  },
  {
   "cell_type": "code",
   "execution_count": null,
   "metadata": {},
   "outputs": [],
   "source": []
  },
  {
   "cell_type": "code",
   "execution_count": null,
   "metadata": {},
   "outputs": [],
   "source": []
  },
  {
   "cell_type": "code",
   "execution_count": null,
   "metadata": {},
   "outputs": [],
   "source": []
  },
  {
   "cell_type": "code",
   "execution_count": null,
   "metadata": {},
   "outputs": [],
   "source": []
  },
  {
   "cell_type": "code",
   "execution_count": null,
   "metadata": {},
   "outputs": [],
   "source": []
  },
  {
   "cell_type": "code",
   "execution_count": 20,
   "metadata": {},
   "outputs": [],
   "source": []
  },
  {
   "cell_type": "code",
   "execution_count": null,
   "metadata": {},
   "outputs": [],
   "source": []
  },
  {
   "cell_type": "code",
   "execution_count": null,
   "metadata": {},
   "outputs": [],
   "source": []
  },
  {
   "cell_type": "code",
   "execution_count": null,
   "metadata": {},
   "outputs": [],
   "source": []
  },
  {
   "cell_type": "code",
   "execution_count": null,
   "metadata": {},
   "outputs": [],
   "source": []
  }
 ],
 "metadata": {
  "kernelspec": {
   "display_name": "Python 3 (ipykernel)",
   "language": "python",
   "name": "python3"
  },
  "language_info": {
   "codemirror_mode": {
    "name": "ipython",
    "version": 3
   },
   "file_extension": ".py",
   "mimetype": "text/x-python",
   "name": "python",
   "nbconvert_exporter": "python",
   "pygments_lexer": "ipython3",
   "version": "3.8.10"
  }
 },
 "nbformat": 4,
 "nbformat_minor": 4
}

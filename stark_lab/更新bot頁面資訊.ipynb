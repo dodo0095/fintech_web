{
 "cells": [
  {
   "cell_type": "code",
   "execution_count": 1,
   "metadata": {},
   "outputs": [],
   "source": [
    "import numpy as np\n",
    "import sqlite3\n",
    "import pandas as pd\n",
    "import csv\n",
    "\n",
    "from datetime import datetime, timedelta\n",
    "import time\n",
    "import datetime\n",
    "import requests\n",
    "from io import StringIO"
   ]
  },
  {
   "cell_type": "code",
   "execution_count": null,
   "metadata": {},
   "outputs": [],
   "source": []
  },
  {
   "cell_type": "code",
   "execution_count": 2,
   "metadata": {},
   "outputs": [],
   "source": [
    "# 抓上市公司股價\n",
    "def stock_value(datestr):\n",
    "    #把當月11號的台股資訊 更新\n",
    "    #datestr = '20200911'\n",
    "    # 下載股價\n",
    "    r = requests.post('https://www.twse.com.tw/exchangeReport/MI_INDEX?response=csv&date=' + datestr + '&type=ALL')\n",
    "    # 整理資料，變成表格\n",
    "    df = pd.read_csv(StringIO(r.text.replace(\"=\", \"\")), \n",
    "                header=[\"證券代號\" in l for l in r.text.split(\"\\n\")].index(True)-1)\n",
    "    # 整理一些字串：\n",
    "    df = df.apply(lambda s: pd.to_numeric(s.astype(str).str.replace(\",\", \"\").replace(\"+\", \"1\").replace(\"-\", \"-1\"), errors='coerce'))\n",
    "    # 顯示出來\n",
    "    #df.head()\n",
    "    return df"
   ]
  },
  {
   "cell_type": "code",
   "execution_count": 3,
   "metadata": {},
   "outputs": [],
   "source": [
    "#抓上櫃公司股價\n",
    "def stock_value2(datestr):\n",
    "    link = 'http://www.tpex.org.tw/web/stock/aftertrading/daily_close_quotes/stk_quote_download.php?l=zh-tw&d='+datestr+'&s=0,asc,0'\n",
    "    r = requests.get(link)\n",
    "    r.ok\n",
    "    lines = r.text.replace('\\r', '').split('\\n')\n",
    "    df = pd.read_csv(StringIO(\"\\n\".join(lines[3:])), header=None)\n",
    "    #df.head()\n",
    "    df.columns = list(map(lambda l: l.replace(' ',''), lines[2].split(',')))\n",
    "    #df.index = df['代號']\n",
    "    #df = df.drop(['代號'], axis=1)\n",
    "    #df.head()\n",
    "    return df\n"
   ]
  },
  {
   "cell_type": "code",
   "execution_count": 27,
   "metadata": {},
   "outputs": [],
   "source": [
    "from datetime import datetime\n",
    "\n",
    "# 获取当前日期\n",
    "current_date = datetime.now()\n",
    "\n",
    "# 提取年份和月份\n",
    "current_year = str(current_date.year)\n",
    "current_month = str(current_date.month)\n"
   ]
  },
  {
   "cell_type": "code",
   "execution_count": 84,
   "metadata": {},
   "outputs": [
    {
     "name": "stdout",
     "output_type": "stream",
     "text": [
      "現在的年跟月份 2024 04\n",
      "往前一個月 2024 03\n",
      "往前三個月 2024 01\n",
      "往前一年 2023 04\n"
     ]
    }
   ],
   "source": [
    "nowyear = current_year\n",
    "nowmonth = \"0\"+current_month\n",
    "\n",
    "print(\"現在的年跟月份\",nowyear,nowmonth)\n",
    " #往前推一個月\n",
    "if int(nowmonth)==1:\n",
    "    last_month=str(12)\n",
    "    last_year=str(int(nowyear)-1)\n",
    "else:\n",
    "    last_month=str(int(nowmonth)-1)  \n",
    "    last_year=nowyear\n",
    "if len(last_month)==1:\n",
    "    last_month=\"0\"+last_month\n",
    "else:\n",
    "    pass\n",
    "\n",
    "print(\"往前一個月\",last_year,last_month)\n",
    "\n",
    "\n",
    "#往前推三個月\n",
    "if int(nowmonth)==1 or int(nowmonth)==2 or int(nowmonth)==3  :\n",
    "    if int(nowmonth)==1:\n",
    "        last_3month=str(10)\n",
    "    elif int(nowmonth)==2:\n",
    "        last_3month=str(11)\n",
    "    elif int(nowmonth)==3:    \n",
    "        last_3month=str(12)\n",
    "    last3_year=str(int(nowyear)-1)\n",
    "else:\n",
    "    last_3month=str(int(nowmonth)-3)  \n",
    "    last3_year=nowyear\n",
    "if len(last_3month)==1:\n",
    "    last_3month=\"0\"+last_3month\n",
    "else:\n",
    "    pass\n",
    "\n",
    "print(\"往前三個月\",last3_year,last_3month)\n",
    "\n",
    "\n",
    " #往前推一年\n",
    "last_year_month=nowmonth\n",
    "last_year_year=str(int(nowyear)-1)\n",
    "print(\"往前一年\",last_year_year,last_year_month)"
   ]
  },
  {
   "cell_type": "code",
   "execution_count": 6,
   "metadata": {},
   "outputs": [],
   "source": [
    "## 拿上市收盤價資料\n",
    "def take_value(df,id):\n",
    "    take_info=df[pd.to_numeric(df['證券代號'], errors='coerce') == id]\n",
    "    value=float(take_info[\"收盤價\"].values)\n",
    "    return value\n",
    "#拿上櫃收盤價資料\n",
    "def take_value2(df,id):\n",
    "    take_info=df[pd.to_numeric(df['代號'], errors='coerce') == id]\n",
    "    value=float(take_info[\"收盤\"].values)\n",
    "    return value"
   ]
  },
  {
   "cell_type": "code",
   "execution_count": 48,
   "metadata": {},
   "outputs": [
    {
     "data": {
      "text/plain": [
       "('20240411', '20240311', '20240111')"
      ]
     },
     "execution_count": 48,
     "metadata": {},
     "output_type": "execute_result"
    }
   ],
   "source": [
    "a,b,c"
   ]
  },
  {
   "cell_type": "code",
   "execution_count": 49,
   "metadata": {},
   "outputs": [
    {
     "name": "stdout",
     "output_type": "stream",
     "text": [
      "sleep 1.5 seconds.\n",
      "printed after 1.5 seconds.\n",
      "抓取 20240311 的資料\n",
      "sleep 1.5 seconds.\n",
      "printed after 1.5 seconds.\n",
      "抓取 20240111 的資料\n",
      "sleep 1.5 seconds.\n",
      "printed after 1.5 seconds.\n",
      "抓取 20230411 的資料\n"
     ]
    }
   ],
   "source": [
    "import time\n",
    "\n",
    "#現在的價錢\n",
    "a=nowyear+nowmonth+\"11\"\n",
    "for i in range(100):\n",
    "    try:\n",
    "        df_now=stock_value(a)\n",
    "        break\n",
    "    except:\n",
    "        from datetime import datetime\n",
    "        edit_time=datetime.strptime(a, \"%Y%m%d\")\n",
    "        import datetime\n",
    "        a= (edit_time+datetime.timedelta(days=-1)).strftime(\"%Y%m%d\")\n",
    "        \n",
    "print(\"sleep 1.5 seconds.\")\n",
    "time.sleep(5)\n",
    "print(\"printed after 1.5 seconds.\")\n",
    "\n",
    "\n",
    "\n",
    "\n",
    "\n",
    "\n",
    "\n",
    "\n",
    "#一個月前的價錢\n",
    "b=last_year+last_month+'11'\n",
    "print(\"抓取\",b,\"的資料\")\n",
    "for i in range(100):\n",
    "    try:\n",
    "        df_last_month=stock_value(b)\n",
    "        break\n",
    "    except:\n",
    "        from datetime import datetime\n",
    "        edit_time=datetime.strptime(b, \"%Y%m%d\")\n",
    "        import datetime\n",
    "        b= (edit_time+datetime.timedelta(days=-1)).strftime(\"%Y%m%d\")\n",
    "    \n",
    "print(\"sleep 1.5 seconds.\")\n",
    "time.sleep(5)\n",
    "print(\"printed after 1.5 seconds.\")\n",
    "\n",
    "\n",
    "\n",
    "\n",
    "#抓取 三個月前的資料\n",
    "c=last3_year+last_3month+'11'\n",
    "print(\"抓取\",c,\"的資料\")\n",
    "\n",
    "for i in range(100):\n",
    "    try:\n",
    "        df_last_3month=stock_value(c)\n",
    "        break\n",
    "    except:\n",
    "        from datetime import datetime\n",
    "        edit_time=datetime.strptime(c, \"%Y%m%d\")\n",
    "        import datetime\n",
    "        c= (edit_time+datetime.timedelta(days=-1)).strftime(\"%Y%m%d\")\n",
    "\n",
    "print(\"sleep 1.5 seconds.\")\n",
    "time.sleep(5)\n",
    "print(\"printed after 1.5 seconds.\")\n",
    "\n",
    "#抓取 一年前的資料\n",
    "d=last_year_year+last_year_month+'11'\n",
    "print(\"抓取\",d,\"的資料\")\n",
    "for i in range(100):\n",
    "    try:\n",
    "        df_last_year=stock_value(d)\n",
    "        break\n",
    "    except:\n",
    "        from datetime import datetime\n",
    "        edit_time=datetime.strptime(d, \"%Y%m%d\")\n",
    "        import datetime\n",
    "        d= (edit_time+datetime.timedelta(days=-1)).strftime(\"%Y%m%d\")\n",
    "        "
   ]
  },
  {
   "cell_type": "code",
   "execution_count": 50,
   "metadata": {},
   "outputs": [],
   "source": [
    "#0050的價格  現在的   一個月前  三個月前    一年前\n",
    "now_price=take_value(df_now,50)\n",
    "last_month_price=take_value(df_last_month,50)\n",
    "df_last_3month_price=take_value(df_last_3month,50)\n",
    "df_last_year_price=take_value(df_last_year,50)"
   ]
  },
  {
   "cell_type": "code",
   "execution_count": 54,
   "metadata": {},
   "outputs": [
    {
     "name": "stdout",
     "output_type": "stream",
     "text": [
      "0.06278613472858073 0.22318404215280396 0.3446421183285065\n"
     ]
    }
   ],
   "source": [
    "monthly_0050_return=(now_price-last_month_price)/last_month_price\n",
    "season_0050_return=(now_price-df_last_3month_price)/df_last_3month_price\n",
    "year_0050_return=(now_price-df_last_year_price)/df_last_year_price\n"
   ]
  },
  {
   "cell_type": "code",
   "execution_count": 55,
   "metadata": {},
   "outputs": [
    {
     "name": "stdout",
     "output_type": "stream",
     "text": [
      "6.28 22.32 34.46\n"
     ]
    }
   ],
   "source": [
    "monthly_0050_return=round(monthly_0050_return*100,2)\n",
    "season_0050_return=round(season_0050_return*100,2)\n",
    "year_0050_return=round(year_0050_return*100,2)\n",
    "#print(monthly_0050_return,season_0050_return,year_0050_return)"
   ]
  },
  {
   "cell_type": "code",
   "execution_count": null,
   "metadata": {},
   "outputs": [],
   "source": []
  },
  {
   "cell_type": "code",
   "execution_count": 59,
   "metadata": {},
   "outputs": [
    {
     "name": "stdout",
     "output_type": "stream",
     "text": [
      "基本面策略績效 -0.37\n",
      "技術面策略績效 -0.37\n"
     ]
    }
   ],
   "source": [
    "#開始計算左邊策略當月的報酬跟震幅\n",
    "db =  sqlite3.connect('db.sqlite3')\n",
    "cursor = db.execute(\"SELECT * from basicCurrent\")\n",
    "row=cursor.fetchall()\n",
    "\n",
    "fundamental_return=0\n",
    "fundamental_amplitude=0\n",
    "\n",
    "start_price_total=0\n",
    "final_price_total=0\n",
    "\n",
    "for i in range(len(row)):\n",
    "    #print(row)\n",
    "    start_price_total=start_price_total+float(row[i][4])\n",
    "    final_price_total=final_price_total+float(row[i][6])\n",
    "        \n",
    "    if abs(float(row[i][7]))>abs(float(fundamental_amplitude)):\n",
    "        fundamental_amplitude=abs(float(row[i][7]))\n",
    "        \n",
    "fundamental_return=(float(final_price_total)-float(start_price_total))/float(start_price_total)\n",
    "fundamental_return=round(fundamental_return*100,2)\n",
    "\n",
    "print(\"基本面策略績效\",fundamental_return)\n",
    "\n",
    "#開始計算右邊策略當月的報酬跟震幅\n",
    "db =  sqlite3.connect('db.sqlite3')\n",
    "cursor = db.execute(\"SELECT * from technicCurrent\")\n",
    "row=cursor.fetchall()\n",
    "\n",
    "technology_return=0\n",
    "technology_amplitude=0\n",
    "\n",
    "start_price_total=0\n",
    "final_price_total=0\n",
    "\n",
    "for i in range(len(row)):\n",
    "\n",
    "    start_price_total=start_price_total+float(row[i][4])\n",
    "    final_price_total=final_price_total+float(row[i][6])\n",
    "        \n",
    "    if abs(float(row[i][7]))>abs(float(technology_amplitude)):\n",
    "        technology_amplitude=abs(float(row[i][7]))\n",
    "        \n",
    "technology_return=(float(final_price_total)-float(start_price_total))/float(start_price_total)\n",
    "technology_return=round(technology_return*100,2)\n",
    "\n",
    "print(\"技術面策略績效\",technology_return)"
   ]
  },
  {
   "cell_type": "code",
   "execution_count": null,
   "metadata": {},
   "outputs": [],
   "source": []
  },
  {
   "cell_type": "code",
   "execution_count": 74,
   "metadata": {},
   "outputs": [],
   "source": [
    "#開始計算策略的報酬   #最上面的區塊\n",
    "db =  sqlite3.connect('db.sqlite3')\n",
    "cursor = db.execute(\"SELECT * from basicHistory\")\n",
    "row=cursor.fetchall()"
   ]
  },
  {
   "cell_type": "code",
   "execution_count": 75,
   "metadata": {},
   "outputs": [],
   "source": [
    "#開始計算策略的報酬\n",
    "db =  sqlite3.connect('db.sqlite3')\n",
    "cursor = db.execute(\"SELECT * from technicHistory\")\n",
    "row=cursor.fetchall()"
   ]
  },
  {
   "cell_type": "code",
   "execution_count": 83,
   "metadata": {},
   "outputs": [
    {
     "name": "stdout",
     "output_type": "stream",
     "text": [
      "2024-04-11 2021-01-11 2024-01-11 2023-04-11\n"
     ]
    }
   ],
   "source": [
    "#當月\n",
    "a=nowyear+\"-\"+nowmonth+\"-\"+\"11\"\n",
    "#上個月\n",
    "b=last_year+\"-\"+last_month+\"-\"+'11'\n",
    "#上一季\n",
    "c=last3_year+\"-\"+last_3month+\"-\"+'11'\n",
    "#上一年\n",
    "d=last_year_year+\"-\"+last_year_month+\"-\"+'11'\n",
    "print(a,b,c,d)"
   ]
  },
  {
   "cell_type": "code",
   "execution_count": 77,
   "metadata": {},
   "outputs": [
    {
     "data": {
      "text/plain": [
       "(1, '8155 博智', '2018-07-11', '90.6', '2018-08-10', '97.7', '7.84', '+')"
      ]
     },
     "execution_count": 77,
     "metadata": {},
     "output_type": "execute_result"
    }
   ],
   "source": [
    "row[0]"
   ]
  },
  {
   "cell_type": "code",
   "execution_count": 78,
   "metadata": {},
   "outputs": [
    {
     "name": "stdout",
     "output_type": "stream",
     "text": [
      "上個月的績效是 -0.5071356975800678\n"
     ]
    }
   ],
   "source": [
    "#計算上個月的績效\n",
    "start_price_total=0\n",
    "final_price_total=0\n",
    "monthly_return=0\n",
    "for i in range(len(row)-1,0,-1):\n",
    "    if row[i][2][:7]==b[:7]:\n",
    "        #print(row[i])\n",
    "        start_price_total=start_price_total+float(row[i][3])\n",
    "        final_price_total=final_price_total+float(row[i][5])\n",
    "monthly_return=(float(final_price_total)-float(start_price_total))/float(start_price_total)\n",
    "\n",
    "print(\"上個月的績效是\",monthly_return*100)"
   ]
  },
  {
   "cell_type": "code",
   "execution_count": 79,
   "metadata": {},
   "outputs": [],
   "source": [
    "# start_price_total2=0\n",
    "# final_price_total2=0\n",
    "# for i in range(len(row)-1,0,-1):\n",
    "#     print(row[i][2][0:10],b)\n",
    "#     #print(i)\n",
    "#     if row[i][2].replace(\"\\n\",\"\")[:7]==b[:7]:\n",
    "#         print(row[i],row[i][3],row[i][5])\n",
    "#         start_price_total2=start_price_total2+float(row[i][3])\n",
    "#         final_price_total2=final_price_total2+float(row[i][5])"
   ]
  },
  {
   "cell_type": "code",
   "execution_count": 87,
   "metadata": {},
   "outputs": [
    {
     "data": {
      "text/plain": [
       "('2024-04-11', '2024-01-11', '2024-01-11', '2023-04-11')"
      ]
     },
     "execution_count": 87,
     "metadata": {},
     "output_type": "execute_result"
    }
   ],
   "source": [
    "a,b,c,d"
   ]
  },
  {
   "cell_type": "code",
   "execution_count": 89,
   "metadata": {},
   "outputs": [
    {
     "name": "stdout",
     "output_type": "stream",
     "text": [
      "(4034, '9946 三發地產', '2024-03-11', '24.45', '2024-4-11', '30.9', '26.38', '+') 24.45 30.9\n",
      "(4033, '9933 中鼎', '2024-03-11', '45.25', '2024-4-11', '49.2', '8.73', '+') 45.25 49.2\n",
      "(4032, '6275 元山', '2024-03-11', '60', '2024-4-11', '58.9', '-1.83', '-') 60 58.9\n",
      "(4031, '6176 瑞儀', '2024-03-11', '167.5', '2024-4-11', '175.5', '4.78', '+') 167.5 175.5\n",
      "(4030, '6147 頎邦', '2024-03-11', '75.7', '2024-4-11', '77.1', '1.85', '+') 75.7 77.1\n",
      "(4029, '6005 群益證', '2024-03-11', '18.1', '2024-4-11', '21.55', '19.06', '+') 18.1 21.55\n",
      "(4028, '5508 永信建', '2024-03-11', '109', '2024-4-11', '140', '28.44', '+') 109 140\n",
      "(4027, '4532 瑞智', '2024-03-11', '24', '2024-4-11', '24.9', '3.75', '+') 24 24.9\n",
      "(4026, '4306 炎洲', '2024-03-11', '18.1', '2024-4-11', '19.7', '8.84', '+') 18.1 19.7\n",
      "(4025, '3324 雙鴻', '2024-03-11', '628', '2024-4-11', '757', '20.54', '+') 628 757\n",
      "(4024, '3207 耀勝', '2024-03-11', '98.5', '2024-4-11', '134.5', '36.55', '+') 98.5 134.5\n",
      "(4023, '3030 德律', '2024-03-11', '76', '2024-4-11', '92.4', '21.58', '+') 76 92.4\n",
      "(4022, '3014 聯陽', '2024-03-11', '164', '2024-4-11', '165', '0.61', '+') 164 165\n",
      "(4021, '2891 中信金', '2024-03-11', '30.3', '2024-4-11', '31.95', '5.45', '+') 30.3 31.95\n",
      "(4020, '2504 國產', '2024-03-11', '36.15', '2024-4-11', '41.7', '15.35', '+') 36.15 41.7\n",
      "(4019, '2393 億光', '2024-03-11', '51.3', '2024-4-11', '60.8', '18.52', '+') 51.3 60.8\n",
      "(4018, '2360 致茂', '2024-03-11', '269.5', '2024-4-11', '254', '-5.75', '-') 269.5 254\n",
      "(4017, '1717 長興', '2024-03-11', '31.8', '2024-4-11', '32.2', '1.26', '+') 31.8 32.2\n",
      "(4016, '1535 中宇', '2024-03-11', '71.9', '2024-4-11', '74.4', '3.48', '+') 71.9 74.4\n",
      "(4015, '1402 遠東新', '2024-03-11', '32.5', '2024-4-11', '32.8', '0.92', '+') 32.5 32.8\n",
      "(4014, '世紀鋼', '2024-02-15', '235', '2024-03-11', '230.5', '-1.91', '-') 235 230.5\n",
      "(4013, '福華', '2024-02-15', '61', '2024-03-11', '70', '14.75', '+') 61 70\n",
      "(4012, '信紘科', '2024-02-15', '133', '2024-03-11', '156', '17.29', '+') 133 156\n",
      "(4011, 'M31', '2024-02-15', '1820', '2024-03-11', '1555', '-14.56', '-') 1820 1555\n",
      "(4010, '光聖', '2024-02-15', '102', '2024-03-11', '134', '31.37', '+') 102 134\n",
      "(4009, '研通', '2024-02-15', '39.5', '2024-03-11', '34.1', '-13.67', '-') 39.5 34.1\n",
      "(4008, '萬潤', '2024-02-15', '208', '2024-03-11', '273', '31.25', '+') 208 273\n",
      "(4007, '亞矽', '2024-02-15', '40', '2024-03-11', '35.1', '-12.25', '-') 40 35.1\n",
      "(4006, '東科-KY', '2024-02-15', '81.1', '2024-03-11', '110', '35.64', '+') 81.1 110\n",
      "(4005, '大聯大', '2024-02-15', '86.6', '2024-03-11', '93.5', '7.97', '+') 86.6 93.5\n",
      "(4004, '海華', '2024-02-15', '55', '2024-03-11', '51.4', '-6.55', '-') 55 51.4\n",
      "(4003, '雙鴻', '2024-02-15', '469', '2024-03-11', '628', '33.90', '+') 469 628\n",
      "(4002, '弘憶股', '2024-02-15', '28.15', '2024-03-11', '38.2', '35.70', '+') 28.15 38.2\n",
      "(4001, '台星科', '2024-02-15', '121', '2024-03-11', '132', '9.09', '+') 121 132\n",
      "(4000, '金麗科', '2024-02-15', '519', '2024-03-11', '504', '-2.89', '-') 519 504\n",
      "(3999, '威健', '2024-02-15', '32', '2024-03-11', '30.9', '-3.44', '-') 32 30.9\n",
      "(3998, '德律', '2024-02-15', '70.4', '2024-03-11', '76', '7.95', '+') 70.4 76\n",
      "(3997, '新美齊', '2024-02-15', '26.75', '2024-03-11', '28.35', '7.84', '-') 26.75 28.35\n",
      "(3996, '台積電', '2024-02-15', '697', '2024-03-11', '766', '17.05', '+') 697 766\n",
      "(3995, '洋基工程', '2024-01-11', '319', '2024-02-15', '344', '7.97', '+') 319 344\n",
      "(3994, '力成', '2024-01-11', '129', '2024-02-15', '151', '6.00', '+') 129 151\n",
      "(3993, '日月光投控', '2024-01-11', '125.5', '2024-02-15', '135.5', '21.20', '+') 125.5 135.5\n",
      "(3992, '大聯大', '2024-01-11', '81.7', '2024-02-15', '86.6', '-0.48', '+') 81.7 86.6\n",
      "(3991, '家登', '2024-01-11', '368', '2024-02-15', '446', '2.11', '+') 368 446\n",
      "(3990, '艾訊', '2024-01-11', '83', '2024-02-15', '82.6', '0.80', '-') 83 82.6\n",
      "(3989, '晶技', '2024-01-11', '94.9', '2024-02-15', '96.9', '-1.84', '+') 94.9 96.9\n",
      "(3988, '聯詠', '2024-01-11', '502', '2024-02-15', '506', '0.78', '+') 502 506\n",
      "(3987, '臺企銀', '2024-01-11', '13.6', '2024-02-15', '13.35', '5.65', '-') 13.6 13.35\n",
      "(3986, '台產', '2024-01-11', '25.8', '2024-02-15', '26', '9.49', '+') 25.8 26\n",
      "(3985, '聯發科', '2024-01-11', '920', '2024-02-15', '972', '-4.25', '+') 920 972\n",
      "(3984, '京元電子', '2024-01-11', '78', '2024-02-15', '85.4', '4.75', '+') 78 85.4\n",
      "(3983, '正崴', '2024-01-11', '44.75', '2024-02-15', '42.85', '44.95', '-') 44.75 42.85\n",
      "(3982, '精元', '2024-01-11', '56.8', '2024-02-15', '59.5', '-4.37', '+') 56.8 59.5\n",
      "(3981, '台光電', '2024-01-11', '376', '2024-02-15', '545', '18.94', '+') 376 545\n",
      "(3980, '佳能', '2024-01-11', '25.2', '2024-02-15', '24.1', '0.50', '-') 25.2 24.1\n",
      "(3979, '台積電', '2024-01-11', '586', '2024-02-15', '697', '-3.21', '+') 586 697\n",
      "(3978, '鴻海', '2024-01-11', '100.5', '2024-02-15', '101', '0.70', '+') 100.5 101\n",
      "(3977, '大成鋼', '2024-01-11', '37.4', '2024-02-15', '36.2', '-1.2', '-') 37.4 36.2\n",
      "(3976, '大成', '2024-01-11', '56.8', '2024-02-15', '57.2', '0.4', '+') 56.8 57.2\n",
      "上一季的績效是 28.560733580339637\n"
     ]
    }
   ],
   "source": [
    "#計算上一季的績效\n",
    "\n",
    "season_return=1\n",
    "last_month=nowmonth\n",
    "for j in range(1,4,1):\n",
    "    start_price_total2=0\n",
    "    final_price_total2=0\n",
    "    #往前推一個月\n",
    "    if int(last_month)==1:\n",
    "        last_month=str(12)\n",
    "        last_year=str(int(last_year)-1)\n",
    "    else:\n",
    "        last_month=str(int(last_month)-1)  \n",
    "\n",
    "    if len(last_month)==1:\n",
    "        last_month=\"0\"+last_month\n",
    "    else:\n",
    "        pass\n",
    "    \n",
    "    b=last_year+\"-\"+last_month+\"-\"+'11'  \n",
    "    #print(last_month)\n",
    "    \n",
    "    for i in range(len(row)-1,0,-1):\n",
    "        #print(row[i][2][0:10],b)\n",
    "        #print(i)\n",
    "        if row[i][2].replace(\"\\n\",\"\")[:7]==b[:7]:\n",
    "            print(row[i],row[i][3],row[i][5])\n",
    "            start_price_total2=start_price_total2+float(row[i][3])\n",
    "            final_price_total2=final_price_total2+float(row[i][5])\n",
    "    #print(\"-------\")   \n",
    "    temp=(float(final_price_total2)-float(start_price_total2))/float(start_price_total2)\n",
    "    season_return=season_return*(1+temp)\n",
    "\n",
    "    #print(temp)\n",
    "if season_return>1:\n",
    "    season_return=season_return-1\n",
    "\n",
    "print(\"上一季的績效是\",season_return*100)"
   ]
  },
  {
   "cell_type": "code",
   "execution_count": 94,
   "metadata": {},
   "outputs": [
    {
     "ename": "ZeroDivisionError",
     "evalue": "float division by zero",
     "output_type": "error",
     "traceback": [
      "\u001b[1;31m---------------------------------------------------------------------------\u001b[0m",
      "\u001b[1;31mZeroDivisionError\u001b[0m                         Traceback (most recent call last)",
      "Input \u001b[1;32mIn [94]\u001b[0m, in \u001b[0;36m<cell line: 5>\u001b[1;34m()\u001b[0m\n\u001b[0;32m     33\u001b[0m         final_price_total2\u001b[38;5;241m=\u001b[39mfinal_price_total2\u001b[38;5;241m+\u001b[39m\u001b[38;5;28mfloat\u001b[39m(row[i][\u001b[38;5;241m5\u001b[39m])\n\u001b[0;32m     34\u001b[0m \u001b[38;5;66;03m#print(\"-------\")   \u001b[39;00m\n\u001b[1;32m---> 35\u001b[0m temp\u001b[38;5;241m=\u001b[39m\u001b[43m(\u001b[49m\u001b[38;5;28;43mfloat\u001b[39;49m\u001b[43m(\u001b[49m\u001b[43mfinal_price_total2\u001b[49m\u001b[43m)\u001b[49m\u001b[38;5;241;43m-\u001b[39;49m\u001b[38;5;28;43mfloat\u001b[39;49m\u001b[43m(\u001b[49m\u001b[43mstart_price_total2\u001b[49m\u001b[43m)\u001b[49m\u001b[43m)\u001b[49m\u001b[38;5;241;43m/\u001b[39;49m\u001b[38;5;28;43mfloat\u001b[39;49m\u001b[43m(\u001b[49m\u001b[43mstart_price_total2\u001b[49m\u001b[43m)\u001b[49m\n\u001b[0;32m     36\u001b[0m season_return\u001b[38;5;241m=\u001b[39mseason_return\u001b[38;5;241m*\u001b[39m(\u001b[38;5;241m1\u001b[39m\u001b[38;5;241m+\u001b[39mtemp)\n\u001b[0;32m     38\u001b[0m \u001b[38;5;66;03m#print(temp)\u001b[39;00m\n",
      "\u001b[1;31mZeroDivisionError\u001b[0m: float division by zero"
     ]
    }
   ],
   "source": [
    "#計算上一年的績效\n",
    "\n",
    "season_return=1\n",
    "last_month=nowmonth\n",
    "for j in range(1,12,1):\n",
    "    start_price_total2=0\n",
    "    final_price_total2=0\n",
    "    #往前推一個月\n",
    "    if int(last_month)==1:\n",
    "        last_month=str(12)\n",
    "        last_year=str(int(last_year)-1)\n",
    "    else:\n",
    "        last_month=str(int(last_month)-1)  \n",
    "\n",
    "    if len(last_month)==1:\n",
    "        last_month=\"0\"+last_month\n",
    "    else:\n",
    "        pass\n",
    "    \n",
    "    b=last_year+\"-\"+last_month+\"-\"+'11'  \n",
    "    #print(last_month)\n",
    "    \n",
    "    for i in range(len(row)-1,0,-1):\n",
    "        #print(row[i][2][0:10],b)\n",
    "        #print(i)\n",
    "        if row[i][2].replace(\"\\n\",\"\")[:7]==b[:7]:\n",
    "            try:\n",
    "                print(row[i],row[i][3],row[i][5])\n",
    "\n",
    "                \n",
    "                \n",
    "                \n",
    "                \n",
    "                \n",
    "                \n",
    "                \n",
    "            start_price_total2=start_price_total2+float(row[i][3])\n",
    "            final_price_total2=final_price_total2+float(row[i][5])\n",
    "    #print(\"-------\")   \n",
    "    temp=(float(final_price_total2)-float(start_price_total2))/float(start_price_total2)\n",
    "    season_return=season_return*(1+temp)\n",
    "\n",
    "    #print(temp)\n",
    "if season_return>1:\n",
    "    season_return=season_return-1\n",
    "\n",
    "print(\"上一季的績效是\",season_return*100)"
   ]
  },
  {
   "cell_type": "code",
   "execution_count": null,
   "metadata": {},
   "outputs": [],
   "source": []
  },
  {
   "cell_type": "code",
   "execution_count": null,
   "metadata": {},
   "outputs": [],
   "source": []
  },
  {
   "cell_type": "code",
   "execution_count": 70,
   "metadata": {},
   "outputs": [
    {
     "name": "stdout",
     "output_type": "stream",
     "text": [
      "03\n",
      "-------\n",
      "2023-03-11\n",
      "year_return 1\n",
      "0\n",
      "02\n",
      "-------\n",
      "2023-02-11\n",
      "year_return 1\n",
      "0\n",
      "01\n",
      "-------\n",
      "2023-01-11\n",
      "year_return 1\n",
      "0\n",
      "12\n",
      "-------\n",
      "2022-12-11\n",
      "year_return 1\n",
      "0\n",
      "11\n",
      "-------\n",
      "2022-11-11\n",
      "year_return 1\n",
      "0\n",
      "10\n",
      "-------\n",
      "2022-10-11\n",
      "year_return 1\n",
      "0\n",
      "09\n",
      "-------\n",
      "2022-09-11\n",
      "year_return 1\n",
      "0\n",
      "08\n",
      "-------\n",
      "year_return 1.0039801372199688\n",
      "0.003980137219968917\n",
      "07\n",
      "-------\n",
      "year_return 1.1217943249565747\n",
      "0.11734713005661118\n",
      "06\n",
      "-------\n",
      "2022-06-11\n",
      "year_return 1.1217943249565747\n",
      "0\n",
      "05\n",
      "-------\n",
      "2022-05-11\n",
      "year_return 1.1217943249565747\n",
      "0\n",
      "04\n",
      "-------\n",
      "year_return 1.076521381413342\n",
      "-0.040357615060127264\n"
     ]
    },
    {
     "data": {
      "text/plain": [
       "0.07652138141334208"
      ]
     },
     "execution_count": 70,
     "metadata": {},
     "output_type": "execute_result"
    }
   ],
   "source": [
    "#計算年的績效\n",
    "year_return=1\n",
    "last_month=nowmonth\n",
    "for j in range(1,13,1):\n",
    "    start_price_total3=0\n",
    "    final_price_total3=0\n",
    "    \n",
    "    #往前推一個月\n",
    "    if int(last_month)==1:\n",
    "        last_month=str(12)\n",
    "        last_year=str(int(last_year)-1)\n",
    "    else:\n",
    "        last_month=str(int(last_month)-1)  \n",
    "\n",
    "    if len(last_month)==1:\n",
    "        last_month=\"0\"+last_month\n",
    "    else:\n",
    "        pass\n",
    "    \n",
    "    b=last_year+\"-\"+last_month+\"-\"+'11'  \n",
    "    print(last_month)\n",
    "    \n",
    "    for i in range(len(row)-1,0,-1):\n",
    "        #print(row[i][2][0:10],b)\n",
    "        if row[i][2].replace(\"\\n\",\"\")==b:\n",
    "            #print(row[i])\n",
    "            start_price_total3=start_price_total3+float(row[i][3])\n",
    "            final_price_total3=final_price_total3+float(row[i][5])\n",
    "    print(\"-------\")   \n",
    "    try:\n",
    "        temp=(float(final_price_total3)-float(start_price_total3))/float(start_price_total3)\n",
    "    except:\n",
    "        temp=0\n",
    "        print(b)\n",
    "    year_return=year_return*(1+temp)\n",
    "    print(\"year_return\",year_return)\n",
    "    print(temp)  #每個月的績效\n",
    "if year_return>1:\n",
    "    year_return=year_return-1\n",
    "year_return"
   ]
  },
  {
   "cell_type": "code",
   "execution_count": 21,
   "metadata": {},
   "outputs": [
    {
     "data": {
      "text/plain": [
       "(0.11931300903028985, 0.28560733580339637, 0.9765675953547369)"
      ]
     },
     "execution_count": 21,
     "metadata": {},
     "output_type": "execute_result"
    }
   ],
   "source": [
    "monthly_return,(season_return),(year_return)"
   ]
  },
  {
   "cell_type": "code",
   "execution_count": 22,
   "metadata": {},
   "outputs": [],
   "source": [
    "#monthly_return=round(((fundamental_return+technology_return)/2),2)\n",
    "\n",
    "monthly_return=round(((monthly_return)*100),2)\n",
    "season_return=round(((season_return)*100),2)\n",
    "year_return=round(((year_return)*100),2)"
   ]
  },
  {
   "cell_type": "code",
   "execution_count": 23,
   "metadata": {},
   "outputs": [],
   "source": [
    "# 更新bot database\n",
    "db =  sqlite3.connect('db.sqlite3')\n",
    "#db.execute(\"INSERT INTO type_data (tag)   VALUES ('{}')\".format(data))\n",
    "db.execute(\"delete from bot\")\n",
    "db.commit()\n",
    "pk=1\n",
    "\n",
    "# final_update,name,start_date,start_price,over_date,current_price,now_return,types=change_parameter(now_list[i]) \n",
    "db =  sqlite3.connect('db.sqlite3')\n",
    "db.execute(\"INSERT INTO bot (id,monthly_return,monthly_0050_return,season_return,season_0050_return,year_return,year_0050_return,fundamental_return,fundamental_amplitude,technology_return,technology_amplitude)   VALUES ('{}','{}','{}','{}','{}','{}','{}','{}','{}','{}','{}')\".format(pk,monthly_return,monthly_0050_return,season_return,season_0050_return,year_return,year_0050_return,fundamental_return,fundamental_amplitude,technology_return,technology_amplitude))\n",
    "db.commit()\n",
    "db.close()\n"
   ]
  },
  {
   "cell_type": "code",
   "execution_count": 24,
   "metadata": {},
   "outputs": [],
   "source": [
    "#over"
   ]
  },
  {
   "cell_type": "code",
   "execution_count": null,
   "metadata": {},
   "outputs": [],
   "source": []
  },
  {
   "cell_type": "code",
   "execution_count": null,
   "metadata": {},
   "outputs": [],
   "source": []
  },
  {
   "cell_type": "code",
   "execution_count": null,
   "metadata": {},
   "outputs": [],
   "source": []
  },
  {
   "cell_type": "code",
   "execution_count": null,
   "metadata": {},
   "outputs": [],
   "source": []
  },
  {
   "cell_type": "code",
   "execution_count": null,
   "metadata": {},
   "outputs": [],
   "source": []
  },
  {
   "cell_type": "code",
   "execution_count": null,
   "metadata": {},
   "outputs": [],
   "source": []
  },
  {
   "cell_type": "code",
   "execution_count": null,
   "metadata": {},
   "outputs": [],
   "source": []
  },
  {
   "cell_type": "code",
   "execution_count": null,
   "metadata": {},
   "outputs": [],
   "source": []
  },
  {
   "cell_type": "code",
   "execution_count": 238,
   "metadata": {},
   "outputs": [
    {
     "data": {
      "text/plain": [
       "(-0.00498017912200826, 0.681349506366397, 0.8916452251307014)"
      ]
     },
     "execution_count": 238,
     "metadata": {},
     "output_type": "execute_result"
    }
   ],
   "source": []
  },
  {
   "cell_type": "code",
   "execution_count": 15,
   "metadata": {},
   "outputs": [],
   "source": [
    "#開始計算策略的報酬\n",
    "db =  sqlite3.connect('db.sqlite3')\n",
    "cursor = db.execute(\"SELECT * from technicHistory\")\n",
    "row=cursor.fetchall()"
   ]
  },
  {
   "cell_type": "code",
   "execution_count": 16,
   "metadata": {},
   "outputs": [],
   "source": [
    "start_price_total=0\n",
    "final_price_total=0\n",
    "\n",
    "start_price_total2=0\n",
    "final_price_total2=0\n",
    "\n",
    "start_price_total3=0\n",
    "final_price_total3=0\n",
    "\n",
    "\n",
    "\n",
    "for i in range(len(row)):\n",
    "    if b<row[i][2] or b==row[i][2]:\n",
    "        start_price_total=start_price_total+float(row[i][3])\n",
    "        final_price_total=final_price_total+float(row[i][5])\n",
    "    if c<row[i][2] or c==row[i][2]:\n",
    "        start_price_total2=start_price_total2+float(row[i][3])\n",
    "        final_price_total2=final_price_total2+float(row[i][5])\n",
    "    if d<row[i][2] or d==row[i][2]:\n",
    "        start_price_total3=start_price_total3+float(row[i][3])\n",
    "        final_price_total3=final_price_total3+float(row[i][5])\n",
    "        \n",
    "\n",
    "monthly_return=monthly_return+(float(final_price_total)-float(start_price_total))/float(start_price_total)\n",
    "season_return=season_return+(float(final_price_total2)-float(start_price_total2))/float(start_price_total2)\n",
    "year_return=year_return+(float(final_price_total3)-float(start_price_total3))/float(start_price_total3)"
   ]
  },
  {
   "cell_type": "code",
   "execution_count": null,
   "metadata": {},
   "outputs": [],
   "source": []
  },
  {
   "cell_type": "code",
   "execution_count": 17,
   "metadata": {
    "scrolled": true
   },
   "outputs": [
    {
     "data": {
      "text/plain": [
       "(0.020300299561611217, 0.054177651407478065, 0.09758573901833878)"
      ]
     },
     "execution_count": 17,
     "metadata": {},
     "output_type": "execute_result"
    }
   ],
   "source": [
    "monthly_return,season_return,year_return"
   ]
  },
  {
   "cell_type": "code",
   "execution_count": 18,
   "metadata": {},
   "outputs": [],
   "source": [
    "#monthly_return=round(((fundamental_return+technology_return)/2),2)\n",
    "\n",
    "monthly_return=round(((monthly_return)*100),2)\n",
    "season_return=round(((season_return)*100),2)\n",
    "year_return=round(((year_return)*100),2)"
   ]
  },
  {
   "cell_type": "code",
   "execution_count": 19,
   "metadata": {},
   "outputs": [
    {
     "data": {
      "text/plain": [
       "(2.03, 5.42, 9.76)"
      ]
     },
     "execution_count": 19,
     "metadata": {},
     "output_type": "execute_result"
    }
   ],
   "source": [
    "monthly_return,season_return,year_return"
   ]
  },
  {
   "cell_type": "code",
   "execution_count": null,
   "metadata": {},
   "outputs": [],
   "source": []
  },
  {
   "cell_type": "code",
   "execution_count": null,
   "metadata": {},
   "outputs": [],
   "source": []
  },
  {
   "cell_type": "code",
   "execution_count": null,
   "metadata": {},
   "outputs": [],
   "source": []
  },
  {
   "cell_type": "code",
   "execution_count": null,
   "metadata": {},
   "outputs": [],
   "source": []
  },
  {
   "cell_type": "code",
   "execution_count": null,
   "metadata": {},
   "outputs": [],
   "source": []
  },
  {
   "cell_type": "code",
   "execution_count": null,
   "metadata": {},
   "outputs": [],
   "source": []
  },
  {
   "cell_type": "code",
   "execution_count": null,
   "metadata": {},
   "outputs": [],
   "source": []
  },
  {
   "cell_type": "code",
   "execution_count": 20,
   "metadata": {},
   "outputs": [],
   "source": []
  },
  {
   "cell_type": "code",
   "execution_count": null,
   "metadata": {},
   "outputs": [],
   "source": []
  },
  {
   "cell_type": "code",
   "execution_count": null,
   "metadata": {},
   "outputs": [],
   "source": []
  },
  {
   "cell_type": "code",
   "execution_count": null,
   "metadata": {},
   "outputs": [],
   "source": []
  },
  {
   "cell_type": "code",
   "execution_count": null,
   "metadata": {},
   "outputs": [],
   "source": []
  }
 ],
 "metadata": {
  "kernelspec": {
   "display_name": "Python 3 (ipykernel)",
   "language": "python",
   "name": "python3"
  },
  "language_info": {
   "codemirror_mode": {
    "name": "ipython",
    "version": 3
   },
   "file_extension": ".py",
   "mimetype": "text/x-python",
   "name": "python",
   "nbconvert_exporter": "python",
   "pygments_lexer": "ipython3",
   "version": "3.8.10"
  }
 },
 "nbformat": 4,
 "nbformat_minor": 4
}

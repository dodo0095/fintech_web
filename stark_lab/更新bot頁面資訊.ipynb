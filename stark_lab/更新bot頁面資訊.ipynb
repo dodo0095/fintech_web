{
 "cells": [
  {
   "cell_type": "code",
   "execution_count": 18,
   "metadata": {},
   "outputs": [],
   "source": [
    "import numpy as np\n",
    "import sqlite3\n",
    "import pandas as pd\n",
    "import csv\n",
    "\n",
    "from datetime import datetime, timedelta\n",
    "import time\n",
    "import datetime\n",
    "import requests\n",
    "from io import StringIO"
   ]
  },
  {
   "cell_type": "code",
   "execution_count": null,
   "metadata": {},
   "outputs": [],
   "source": []
  },
  {
   "cell_type": "code",
   "execution_count": 19,
   "metadata": {},
   "outputs": [],
   "source": [
    "# 抓上市公司股價\n",
    "def stock_value(datestr):\n",
    "    #把當月11號的台股資訊 更新\n",
    "    #datestr = '20200911'\n",
    "    # 下載股價\n",
    "    r = requests.post('https://www.twse.com.tw/exchangeReport/MI_INDEX?response=csv&date=' + datestr + '&type=ALL')\n",
    "    # 整理資料，變成表格\n",
    "    df = pd.read_csv(StringIO(r.text.replace(\"=\", \"\")), \n",
    "                header=[\"證券代號\" in l for l in r.text.split(\"\\n\")].index(True)-1)\n",
    "    # 整理一些字串：\n",
    "    df = df.apply(lambda s: pd.to_numeric(s.astype(str).str.replace(\",\", \"\").replace(\"+\", \"1\").replace(\"-\", \"-1\"), errors='coerce'))\n",
    "    # 顯示出來\n",
    "    #df.head()\n",
    "    return df"
   ]
  },
  {
   "cell_type": "code",
   "execution_count": 20,
   "metadata": {},
   "outputs": [],
   "source": [
    "#抓上櫃公司股價\n",
    "def stock_value2(datestr):\n",
    "    link = 'http://www.tpex.org.tw/web/stock/aftertrading/daily_close_quotes/stk_quote_download.php?l=zh-tw&d='+datestr+'&s=0,asc,0'\n",
    "    r = requests.get(link)\n",
    "    r.ok\n",
    "    lines = r.text.replace('\\r', '').split('\\n')\n",
    "    df = pd.read_csv(StringIO(\"\\n\".join(lines[3:])), header=None)\n",
    "    #df.head()\n",
    "    df.columns = list(map(lambda l: l.replace(' ',''), lines[2].split(',')))\n",
    "    #df.index = df['代號']\n",
    "    #df = df.drop(['代號'], axis=1)\n",
    "    #df.head()\n",
    "    return df\n"
   ]
  },
  {
   "cell_type": "code",
   "execution_count": 21,
   "metadata": {},
   "outputs": [],
   "source": [
    "from datetime import datetime\n",
    "\n",
    "# 获取当前日期\n",
    "current_date = datetime.now()\n",
    "\n",
    "# 提取年份和月份\n",
    "current_year = str(current_date.year)\n",
    "current_month = str(current_date.month)\n"
   ]
  },
  {
   "cell_type": "code",
   "execution_count": null,
   "metadata": {},
   "outputs": [],
   "source": []
  },
  {
   "cell_type": "code",
   "execution_count": 22,
   "metadata": {},
   "outputs": [
    {
     "name": "stdout",
     "output_type": "stream",
     "text": [
      "現在的年跟月份 2025 2\n",
      "往前一個月 2025 01\n",
      "往前三個月 2024 11\n",
      "往前一年 2024 2\n"
     ]
    }
   ],
   "source": [
    "nowyear = current_year\n",
    "nowmonth = current_month\n",
    "\n",
    "print(\"現在的年跟月份\",nowyear,nowmonth)\n",
    " #往前推一個月\n",
    "if int(nowmonth)==1:\n",
    "    last_month=str(12)\n",
    "    last_year=str(int(nowyear)-1)\n",
    "else:\n",
    "    last_month=str(int(nowmonth)-1)  \n",
    "    last_year=nowyear\n",
    "if len(last_month)==1:\n",
    "    last_month=\"0\"+last_month\n",
    "else:\n",
    "    pass\n",
    "\n",
    "print(\"往前一個月\",last_year,last_month)\n",
    "\n",
    "\n",
    "#往前推三個月\n",
    "if int(nowmonth)==1 or int(nowmonth)==2 or int(nowmonth)==3  :\n",
    "    if int(nowmonth)==1:\n",
    "        last_3month=str(10)\n",
    "    elif int(nowmonth)==2:\n",
    "        last_3month=str(11)\n",
    "    elif int(nowmonth)==3:    \n",
    "        last_3month=str(12)\n",
    "    last3_year=str(int(nowyear)-1)\n",
    "else:\n",
    "    last_3month=str(int(nowmonth)-3)  \n",
    "    last3_year=nowyear\n",
    "if len(last_3month)==1:\n",
    "    last_3month=\"0\"+last_3month\n",
    "else:\n",
    "    pass\n",
    "\n",
    "print(\"往前三個月\",last3_year,last_3month)\n",
    "\n",
    "\n",
    " #往前推一年\n",
    "last_year_month=nowmonth\n",
    "last_year_year=str(int(nowyear)-1)\n",
    "print(\"往前一年\",last_year_year,last_year_month)"
   ]
  },
  {
   "cell_type": "code",
   "execution_count": 23,
   "metadata": {},
   "outputs": [],
   "source": [
    "## 拿上市收盤價資料\n",
    "def take_value(df,id):\n",
    "    take_info=df[pd.to_numeric(df['證券代號'], errors='coerce') == id]\n",
    "    value=float(take_info[\"收盤價\"].values)\n",
    "    return value\n",
    "#拿上櫃收盤價資料\n",
    "def take_value2(df,id):\n",
    "    take_info=df[pd.to_numeric(df['代號'], errors='coerce') == id]\n",
    "    value=float(take_info[\"收盤\"].values)\n",
    "    return value"
   ]
  },
  {
   "cell_type": "code",
   "execution_count": 24,
   "metadata": {},
   "outputs": [
    {
     "name": "stdout",
     "output_type": "stream",
     "text": [
      "sleep 1.5 seconds.\n",
      "printed after 1.5 seconds.\n",
      "抓取 20250111 的資料\n",
      "sleep 1.5 seconds.\n",
      "printed after 1.5 seconds.\n",
      "抓取 20241111 的資料\n",
      "sleep 1.5 seconds.\n",
      "printed after 1.5 seconds.\n",
      "抓取 2024211 的資料\n"
     ]
    }
   ],
   "source": [
    "import time\n",
    "\n",
    "#現在的價錢\n",
    "a=nowyear+nowmonth+\"11\"\n",
    "for i in range(100):\n",
    "    try:\n",
    "        df_now=stock_value(a)\n",
    "        break\n",
    "    except:\n",
    "        from datetime import datetime\n",
    "        edit_time=datetime.strptime(a, \"%Y%m%d\")\n",
    "        import datetime\n",
    "        a= (edit_time+datetime.timedelta(days=-1)).strftime(\"%Y%m%d\")\n",
    "        \n",
    "print(\"sleep 1.5 seconds.\")\n",
    "time.sleep(5)\n",
    "print(\"printed after 1.5 seconds.\")\n",
    "\n",
    "\n",
    "\n",
    "\n",
    "\n",
    "\n",
    "\n",
    "\n",
    "#一個月前的價錢\n",
    "b=last_year+last_month+'11'\n",
    "print(\"抓取\",b,\"的資料\")\n",
    "for i in range(100):\n",
    "    try:\n",
    "        df_last_month=stock_value(b)\n",
    "        break\n",
    "    except:\n",
    "        from datetime import datetime\n",
    "        edit_time=datetime.strptime(b, \"%Y%m%d\")\n",
    "        import datetime\n",
    "        b= (edit_time+datetime.timedelta(days=-1)).strftime(\"%Y%m%d\")\n",
    "    \n",
    "print(\"sleep 1.5 seconds.\")\n",
    "time.sleep(5)\n",
    "print(\"printed after 1.5 seconds.\")\n",
    "\n",
    "\n",
    "\n",
    "\n",
    "#抓取 三個月前的資料\n",
    "c=last3_year+last_3month+'11'\n",
    "print(\"抓取\",c,\"的資料\")\n",
    "\n",
    "for i in range(100):\n",
    "    try:\n",
    "        df_last_3month=stock_value(c)\n",
    "        break\n",
    "    except:\n",
    "        from datetime import datetime\n",
    "        edit_time=datetime.strptime(c, \"%Y%m%d\")\n",
    "        import datetime\n",
    "        c= (edit_time+datetime.timedelta(days=-1)).strftime(\"%Y%m%d\")\n",
    "\n",
    "print(\"sleep 1.5 seconds.\")\n",
    "time.sleep(5)\n",
    "print(\"printed after 1.5 seconds.\")\n",
    "\n",
    "#抓取 一年前的資料\n",
    "d=last_year_year+last_year_month+'11'\n",
    "print(\"抓取\",d,\"的資料\")\n",
    "for i in range(100):\n",
    "    try:\n",
    "        df_last_year=stock_value(d)\n",
    "        break\n",
    "    except:\n",
    "        from datetime import datetime\n",
    "        edit_time=datetime.strptime(d, \"%Y%m%d\")\n",
    "        import datetime\n",
    "        d= (edit_time+datetime.timedelta(days=-1)).strftime(\"%Y%m%d\")\n",
    "        "
   ]
  },
  {
   "cell_type": "code",
   "execution_count": 25,
   "metadata": {},
   "outputs": [
    {
     "name": "stdout",
     "output_type": "stream",
     "text": [
      "20250210 20250110 20241111 20240205\n"
     ]
    }
   ],
   "source": [
    "print(a,b,c,d)"
   ]
  },
  {
   "cell_type": "code",
   "execution_count": 26,
   "metadata": {},
   "outputs": [],
   "source": [
    "#0050的價格  現在的   一個月前  三個月前    一年前\n",
    "now_price=take_value(df_now,50)\n",
    "last_month_price=take_value(df_last_month,50)\n",
    "df_last_3month_price=take_value(df_last_3month,50)\n",
    "df_last_year_price=take_value(df_last_year,50)"
   ]
  },
  {
   "cell_type": "code",
   "execution_count": 27,
   "metadata": {},
   "outputs": [
    {
     "data": {
      "text/plain": [
       "199.1"
      ]
     },
     "execution_count": 27,
     "metadata": {},
     "output_type": "execute_result"
    }
   ],
   "source": [
    "df_last_3month_price"
   ]
  },
  {
   "cell_type": "code",
   "execution_count": 28,
   "metadata": {},
   "outputs": [],
   "source": [
    "monthly_0050_return=(now_price-last_month_price)/last_month_price\n",
    "season_0050_return=(now_price-df_last_3month_price)/df_last_3month_price\n",
    "year_0050_return=(now_price-df_last_year_price)/df_last_year_price\n"
   ]
  },
  {
   "cell_type": "code",
   "execution_count": 29,
   "metadata": {},
   "outputs": [
    {
     "name": "stdout",
     "output_type": "stream",
     "text": [
      "-1.36 -1.41 44.39\n"
     ]
    }
   ],
   "source": [
    "monthly_0050_return=round(monthly_0050_return*100,2)\n",
    "season_0050_return=round(season_0050_return*100,2)\n",
    "year_0050_return=round(year_0050_return*100,2)\n",
    "print(monthly_0050_return,season_0050_return,year_0050_return)"
   ]
  },
  {
   "cell_type": "code",
   "execution_count": 30,
   "metadata": {},
   "outputs": [
    {
     "name": "stdout",
     "output_type": "stream",
     "text": [
      "基本面策略績效 7.31\n",
      "技術面策略績效 5.86\n"
     ]
    }
   ],
   "source": [
    "#開始計算左邊策略當月的報酬跟震幅\n",
    "db =  sqlite3.connect('db.sqlite3')\n",
    "cursor = db.execute(\"SELECT * from basicCurrent\")\n",
    "row=cursor.fetchall()\n",
    "\n",
    "fundamental_return=0\n",
    "fundamental_amplitude=0\n",
    "\n",
    "start_price_total=0\n",
    "final_price_total=0\n",
    "\n",
    "for i in range(len(row)):\n",
    "    #print(row)\n",
    "    start_price_total=start_price_total+float(row[i][4])\n",
    "    final_price_total=final_price_total+float(row[i][6])\n",
    "        \n",
    "    if abs(float(row[i][7]))>abs(float(fundamental_amplitude)):\n",
    "        fundamental_amplitude=abs(float(row[i][7]))\n",
    "        \n",
    "fundamental_return=(float(final_price_total)-float(start_price_total))/float(start_price_total)\n",
    "fundamental_return=round(fundamental_return*100,2)\n",
    "\n",
    "print(\"基本面策略績效\",fundamental_return)\n",
    "\n",
    "#開始計算右邊策略當月的報酬跟震幅\n",
    "db =  sqlite3.connect('db.sqlite3')\n",
    "cursor = db.execute(\"SELECT * from technicCurrent\")\n",
    "row=cursor.fetchall()\n",
    "\n",
    "technology_return=0\n",
    "technology_amplitude=0\n",
    "\n",
    "start_price_total=0\n",
    "final_price_total=0\n",
    "\n",
    "for i in range(len(row)):\n",
    "\n",
    "    start_price_total=start_price_total+float(row[i][4])\n",
    "    final_price_total=final_price_total+float(row[i][6])\n",
    "        \n",
    "    if abs(float(row[i][7]))>abs(float(technology_amplitude)):\n",
    "        technology_amplitude=abs(float(row[i][7]))\n",
    "        \n",
    "technology_return=(float(final_price_total)-float(start_price_total))/float(start_price_total)\n",
    "technology_return=round(technology_return*100,2)\n",
    "\n",
    "print(\"技術面策略績效\",technology_return)"
   ]
  },
  {
   "cell_type": "code",
   "execution_count": null,
   "metadata": {},
   "outputs": [],
   "source": []
  },
  {
   "cell_type": "code",
   "execution_count": 31,
   "metadata": {},
   "outputs": [],
   "source": [
    "#開始計算策略的報酬   #最上面的區塊\n",
    "db =  sqlite3.connect('db.sqlite3')\n",
    "cursor = db.execute(\"SELECT * from basicHistory\")\n",
    "row=cursor.fetchall()"
   ]
  },
  {
   "cell_type": "code",
   "execution_count": 32,
   "metadata": {},
   "outputs": [],
   "source": [
    "# #開始計算策略的報酬\n",
    "# db =  sqlite3.connect('db.sqlite3')\n",
    "# cursor = db.execute(\"SELECT * from technicHistory\")\n",
    "# row=cursor.fetchall()"
   ]
  },
  {
   "cell_type": "code",
   "execution_count": 33,
   "metadata": {},
   "outputs": [
    {
     "name": "stdout",
     "output_type": "stream",
     "text": [
      "2025-2-11 2025-01-11 2024-11-11 2024-2-11\n"
     ]
    }
   ],
   "source": [
    "#當月\n",
    "a=nowyear+\"-\"+nowmonth+\"-\"+\"11\"\n",
    "#上個月\n",
    "b=last_year+\"-\"+last_month+\"-\"+'11'\n",
    "#上一季\n",
    "c=last3_year+\"-\"+last_3month+\"-\"+'11'\n",
    "#上一年\n",
    "d=last_year_year+\"-\"+last_year_month+\"-\"+'11'\n",
    "print(a,b,c,d)"
   ]
  },
  {
   "cell_type": "code",
   "execution_count": 34,
   "metadata": {},
   "outputs": [
    {
     "name": "stdout",
     "output_type": "stream",
     "text": [
      "上個月的績效是 7.308708346850796\n"
     ]
    }
   ],
   "source": [
    "#計算上個月的績效\n",
    "start_price_total=0\n",
    "final_price_total=0\n",
    "monthly_return=0\n",
    "for i in range(len(row)-1,0,-1):\n",
    "    if row[i][2][:7]==b[:7]:\n",
    "        #print(row[i])\n",
    "        start_price_total=start_price_total+float(row[i][3])\n",
    "        final_price_total=final_price_total+float(row[i][5])\n",
    "monthly_return=(float(final_price_total)-float(start_price_total))/float(start_price_total)\n",
    "\n",
    "print(\"上個月的績效是\",monthly_return*100)"
   ]
  },
  {
   "cell_type": "code",
   "execution_count": 35,
   "metadata": {},
   "outputs": [],
   "source": [
    "# start_price_total2=0\n",
    "# final_price_total2=0\n",
    "# for i in range(len(row)-1,0,-1):\n",
    "#     print(row[i][2][0:10],b)\n",
    "#     #print(i)\n",
    "#     if row[i][2].replace(\"\\n\",\"\")[:7]==b[:7]:\n",
    "#         print(row[i],row[i][3],row[i][5])\n",
    "#         start_price_total2=start_price_total2+float(row[i][3])\n",
    "#         final_price_total2=final_price_total2+float(row[i][5])"
   ]
  },
  {
   "cell_type": "code",
   "execution_count": null,
   "metadata": {},
   "outputs": [],
   "source": []
  },
  {
   "cell_type": "code",
   "execution_count": 36,
   "metadata": {},
   "outputs": [
    {
     "name": "stdout",
     "output_type": "stream",
     "text": [
      "(4271, '6789 采鈺', '2025-01-11', '304.5', '2025-2-11', '319.0', '4.76', '+') 304.5 319.0\n",
      "(4270, '6670 復盛應用', '2025-01-11', '330.0', '2025-2-11', '331.0', '0.3', '+') 330.0 331.0\n",
      "(4269, '6613 朋億*', '2025-01-11', '196.5', '2025-2-11', '249.0', '26.72', '+') 196.5 249.0\n",
      "(4268, '6446 藥華藥', '2025-01-11', '706.0', '2025-2-11', '699.0', '-0.99', '-') 706.0 699.0\n",
      "(4267, '6005 群益證', '2025-01-11', '27.9', '2025-2-11', '26.15', '-6.27', '-') 27.9 26.15\n",
      "(4266, '4933 友輝', '2025-01-11', '72.9', '2025-2-11', '80.5', '10.43', '+') 72.9 80.5\n",
      "(4265, '3711 日月光投控', '2025-01-11', '162.5', '2025-2-11', '164.5', '1.23', '+') 162.5 164.5\n",
      "(4264, '3363 上詮', '2025-01-11', '276.0', '2025-2-11', '335.0', '21.38', '+') 276.0 335.0\n",
      "(4263, '3163 波若威', '2025-01-11', '152.5', '2025-2-11', '162.5', '6.56', '+') 152.5 162.5\n",
      "(4262, '3078 僑威', '2025-01-11', '77.6', '2025-2-11', '86.5', '11.47', '+') 77.6 86.5\n",
      "(4261, '3056 富華新', '2025-01-11', '31.15', '2025-2-11', '32.45', '4.17', '+') 31.15 32.45\n",
      "(4260, '2892 第一金', '2025-01-11', '27.35', '2025-2-11', '27.7', '1.28', '+') 27.35 27.7\n",
      "(4259, '2884 玉山金', '2025-01-11', '27.05', '2025-2-11', '28.55', '5.55', '+') 27.05 28.55\n",
      "(4258, '2880 華南金', '2025-01-11', '26.8', '2025-2-11', '27.85', '3.92', '+') 26.8 27.85\n",
      "(4257, '2809 京城銀', '2025-01-11', '50.8', '2025-2-11', '50.5', '-0.59', '-') 50.8 50.5\n",
      "(4256, '2801 彰銀', '2025-01-11', '17.7', '2025-2-11', '18.1', '2.26', '+') 17.7 18.1\n",
      "(4255, '2454 聯發科', '2025-01-11', '1390.0', '2025-2-11', '1525.0', '9.71', '+') 1390.0 1525.0\n",
      "(4254, '2395 研華', '2025-01-11', '357.5', '2025-2-11', '411.5', '15.1', '+') 357.5 411.5\n",
      "(4253, '2393 億光', '2025-01-11', '84.5', '2025-2-11', '88.7', '4.97', '+') 84.5 88.7\n",
      "(4252, '2330 台積電', '2025-01-11', '1075.0', '2025-2-11', '1125.0', '4.65', '+') 1075.0 1125.0\n",
      "(4251, '3227 原相', '2024-12-11', '243.0', '2025-01-11', '245.5', '1.03', '+') 243.0 245.5\n",
      "(4250, '3056 富華新', '2024-12-11', '34.349998474121094', '2025-01-11', '33.70000076293945', '-1.89', '-') 34.349998474121094 33.70000076293945\n",
      "(4249, '3032 偉訓', '2024-12-11', '94.0', '2025-01-11', '88.80000305175781', '-5.53', '-') 94.0 88.80000305175781\n",
      "(4248, '3029 零壹', '2024-12-11', '171.0', '2025-01-11', '131.5', '-23.1', '-') 171.0 131.5\n",
      "(4247, '2892 第一金', '2024-12-11', '27.700000762939453', '2025-01-11', '27.75', '0.18', '+') 27.700000762939453 27.75\n",
      "(4246, '2890 永豐金', '2024-12-11', '23.649999618530273', '2025-01-11', '23.049999237060547', '-2.54', '-') 23.649999618530273 23.049999237060547\n",
      "(4245, '2889 國票金', '2024-12-11', '15.0', '2025-01-11', '14.850000381469727', '-1.0', '-') 15.0 14.850000381469727\n",
      "(4244, '2885 元大金', '2024-12-11', '34.70000076293945', '2025-01-11', '35.45000076293945', '2.16', '+') 34.70000076293945 35.45000076293945\n",
      "(4243, '2884 玉山金', '2024-12-11', '27.5', '2025-01-11', '27.25', '-0.91', '-') 27.5 27.25\n",
      "(4242, '2882 國泰金', '2024-12-11', '68.4000015258789', '2025-01-11', '68.80000305175781', '0.58', '+') 68.4000015258789 68.80000305175781\n",
      "(4241, '2880 華南金', '2024-12-11', '27.049999237060547', '2025-01-11', '26.950000762939453', '-0.37', '-') 27.049999237060547 26.950000762939453\n",
      "(4240, '2812 台中銀', '2024-12-11', '19.25', '2025-01-11', '18.649999618530273', '-3.12', '-') 19.25 18.649999618530273\n",
      "(4239, '2801 彰銀', '2024-12-11', '17.950000762939453', '2025-01-11', '17.899999618530273', '-0.28', '-') 17.950000762939453 17.899999618530273\n",
      "(4238, '2618 長榮航', '2024-12-11', '45.04999923706055', '2025-01-11', '47.29999923706055', '4.99', '+') 45.04999923706055 47.29999923706055\n",
      "(4237, '2471 資通', '2024-12-11', '58.79999923706055', '2025-01-11', '54.29999923706055', '-7.65', '-') 58.79999923706055 54.29999923706055\n",
      "(4236, '2383 台光電', '2024-12-11', '572.0', '2025-01-11', '620.0', '8.39', '+') 572.0 620.0\n",
      "(4235, '2379 瑞昱', '2024-12-11', '527.0', '2025-01-11', '540.0', '2.47', '+') 527.0 540.0\n",
      "(4234, '2345 智邦', '2024-12-11', '730.0', '2025-01-11', '774.0', '6.03', '+') 730.0 774.0\n",
      "(4233, '2330 台積電', '2024-12-11', '1045.0', '2025-01-11', '1125.0', '7.66', '+') 1045.0 1125.0\n",
      "(4232, '1736 喬山', '2024-12-11', '193.0', '2025-01-11', '190.0', '-1.55', '-') 193.0 190.0\n",
      "(4231, '5225 東科-KY', '2024-11-11', '139.0', '2024-12-11', '122.5', '-11.87', '-') 139.0 122.5\n",
      "(4230, '3706 神達', '2024-11-11', '59.400001525878906', '2024-12-11', '87.0', '46.46', '+') 59.400001525878906 87.0\n",
      "(4229, '3665 貿聯-KY', '2024-11-11', '573.0', '2024-12-11', '710.0', '23.91', '+') 573.0 710.0\n",
      "(4228, '3596 智易', '2024-11-11', '180.0', '2024-12-11', '176.0', '-2.22', '-') 180.0 176.0\n",
      "(4227, '3290 東浦', '2024-11-11', '36.70000076293945', '2024-12-11', '33.400001525878906', '-8.99', '-') 36.70000076293945 33.400001525878906\n",
      "(4226, '3056 富華新', '2024-11-11', '33.70000076293945', '2024-12-11', '35.45000076293945', '5.19', '+') 33.70000076293945 35.45000076293945\n",
      "(4225, '2884 玉山金', '2024-11-11', '27.450000762939453', '2024-12-11', '27.549999237060547', '0.36', '+') 27.450000762939453 27.549999237060547\n",
      "(4224, '2801 彰銀', '2024-11-11', '17.700000762939453', '2024-12-11', '17.899999618530273', '1.13', '+') 17.700000762939453 17.899999618530273\n",
      "(4223, '2727 王品', '2024-11-11', '237.5', '2024-12-11', '236.0', '-0.63', '-') 237.5 236.0\n",
      "(4222, '2545 皇翔', '2024-11-11', '67.30000305175781', '2024-12-11', '74.5', '10.7', '+') 67.30000305175781 74.5\n",
      "(4221, '2520 冠德', '2024-11-11', '51.70000076293945', '2024-12-11', '62.5', '20.89', '+') 51.70000076293945 62.5\n",
      "(4220, '2395 研華', '2024-11-11', '324.0', '2024-12-11', '357.0', '10.19', '+') 324.0 357.0\n",
      "(4219, '2392 正崴', '2024-11-11', '74.5', '2024-12-11', '78.5999984741211', '5.5', '+') 74.5 78.5999984741211\n",
      "(4218, '2376 技嘉', '2024-11-11', '303.0', '2024-12-11', '281.5', '-7.1', '-') 303.0 281.5\n",
      "(4217, '2354 鴻準', '2024-11-11', '96.5', '2024-12-11', '87.19999694824219', '-9.64', '-') 96.5 87.19999694824219\n",
      "(4216, '2059 川湖', '2024-11-11', '1435.0', '2024-12-11', '1575.0', '9.76', '+') 1435.0 1575.0\n",
      "(4215, '1808 潤隆', '2024-11-11', '43.25', '2024-12-11', '40.79999923706055', '-5.66', '-') 43.25 40.79999923706055\n",
      "(4214, '1773 勝一', '2024-11-11', '169.5', '2024-12-11', '168.5', '-0.59', '-') 169.5 168.5\n",
      "(4213, '1513 中興電', '2024-11-11', '170.5', '2024-12-11', '161.5', '-5.28', '-') 170.5 161.5\n",
      "(4212, '1476 儒鴻', '2024-11-11', '569.0', '2024-12-11', '528.0', '-7.21', '-') 569.0 528.0\n",
      "上一季的績效是 17.06382380680671\n"
     ]
    }
   ],
   "source": [
    "#計算上一季的績效\n",
    "\n",
    "season_return=1\n",
    "last_month=nowmonth\n",
    "for j in range(1,4,1):\n",
    "    start_price_total2=0\n",
    "    final_price_total2=0\n",
    "    #往前推一個月\n",
    "    if int(last_month)==1:\n",
    "        last_month=str(12)\n",
    "        last_year=str(int(last_year)-1)\n",
    "    else:\n",
    "        last_month=str(int(last_month)-1)  \n",
    "\n",
    "    if len(last_month)==1:\n",
    "        last_month=\"0\"+last_month\n",
    "    else:\n",
    "        pass\n",
    "    \n",
    "    b=last_year+\"-\"+last_month+\"-\"+'11'  \n",
    "    #print(last_month)\n",
    "    \n",
    "    for i in range(len(row)-1,0,-1):\n",
    "        #print(row[i][2][0:10],b)\n",
    "        #print(i)\n",
    "        if row[i][2].replace(\"\\n\",\"\")[:7]==b[:7]:\n",
    "            print(row[i],row[i][3],row[i][5])\n",
    "            start_price_total2=start_price_total2+float(row[i][3])\n",
    "            final_price_total2=final_price_total2+float(row[i][5])\n",
    "    #print(\"-------\")   \n",
    "    temp=(float(final_price_total2)-float(start_price_total2))/float(start_price_total2)\n",
    "    season_return=season_return*(1+temp)\n",
    "\n",
    "    #print(temp)\n",
    "if season_return>1:\n",
    "    season_return=season_return-1\n",
    "\n",
    "print(\"上一季的績效是\",season_return*100)"
   ]
  },
  {
   "cell_type": "code",
   "execution_count": 37,
   "metadata": {},
   "outputs": [],
   "source": [
    "# #計算上一年的績效\n",
    "\n",
    "# season_return=1\n",
    "# last_month=nowmonth\n",
    "# for j in range(1,12,1):\n",
    "#     start_price_total2=0\n",
    "#     final_price_total2=0\n",
    "#     #往前推一個月\n",
    "#     if int(last_month)==1:\n",
    "#         last_month=str(12)\n",
    "#         last_year=str(int(last_year)-1)\n",
    "#     else:\n",
    "#         last_month=str(int(last_month)-1)  \n",
    "\n",
    "#     if len(last_month)==1:\n",
    "#         last_month=\"0\"+last_month\n",
    "#     else:\n",
    "#         pass\n",
    "    \n",
    "#     b=last_year+\"-\"+last_month+\"-\"+'11'  \n",
    "#     #print(last_month)\n",
    "    \n",
    "#     for i in range(len(row)-1,0,-1):\n",
    "#         #print(row[i][2][0:10],b)\n",
    "#         #print(i)\n",
    "#         if row[i][2].replace(\"\\n\",\"\")[:7]==b[:7]:\n",
    "#             try:\n",
    "#                 print(row[i],row[i][3],row[i][5])\n",
    "\n",
    "                \n",
    "                \n",
    "                \n",
    "                \n",
    "                \n",
    "                \n",
    "                \n",
    "#             start_price_total2=start_price_total2+float(row[i][3])\n",
    "#             final_price_total2=final_price_total2+float(row[i][5])\n",
    "#     #print(\"-------\")   \n",
    "#     temp=(float(final_price_total2)-float(start_price_total2))/float(start_price_total2)\n",
    "#     season_return=season_return*(1+temp)\n",
    "\n",
    "#     #print(temp)\n",
    "# if season_return>1:\n",
    "#     season_return=season_return-1\n",
    "\n",
    "# print(\"上一季的績效是\",season_return*100)"
   ]
  },
  {
   "cell_type": "code",
   "execution_count": null,
   "metadata": {},
   "outputs": [],
   "source": []
  },
  {
   "cell_type": "code",
   "execution_count": null,
   "metadata": {},
   "outputs": [],
   "source": []
  },
  {
   "cell_type": "code",
   "execution_count": 38,
   "metadata": {},
   "outputs": [
    {
     "name": "stdout",
     "output_type": "stream",
     "text": [
      "01\n",
      "-------\n",
      "year_return 1.1203419525590523\n",
      "0.12034195255905232\n",
      "12\n",
      "-------\n",
      "2023-12-11\n",
      "year_return 1.1203419525590523\n",
      "0\n",
      "11\n",
      "-------\n",
      "2023-11-11\n",
      "year_return 1.1203419525590523\n",
      "0\n",
      "10\n",
      "-------\n",
      "2023-10-11\n",
      "year_return 1.1203419525590523\n",
      "0\n",
      "09\n",
      "-------\n",
      "2023-09-11\n",
      "year_return 1.1203419525590523\n",
      "0\n",
      "08\n",
      "-------\n",
      "2023-08-11\n",
      "year_return 1.1203419525590523\n",
      "0\n",
      "07\n",
      "-------\n",
      "year_return 1.1058108149941186\n",
      "-0.012970269953510284\n",
      "06\n",
      "-------\n",
      "2023-06-11\n",
      "year_return 1.1058108149941186\n",
      "0\n",
      "05\n",
      "-------\n",
      "year_return 1.215499734901815\n",
      "0.09919320594479805\n",
      "04\n",
      "-------\n",
      "2023-04-11\n",
      "year_return 1.215499734901815\n",
      "0\n",
      "03\n",
      "-------\n",
      "2023-03-11\n",
      "year_return 1.215499734901815\n",
      "0\n",
      "02\n",
      "-------\n",
      "2023-02-11\n",
      "year_return 1.215499734901815\n",
      "0\n"
     ]
    },
    {
     "data": {
      "text/plain": [
       "0.21549973490181507"
      ]
     },
     "execution_count": 38,
     "metadata": {},
     "output_type": "execute_result"
    }
   ],
   "source": [
    "#計算年的績效\n",
    "year_return=1\n",
    "last_month=nowmonth\n",
    "for j in range(1,13,1):\n",
    "    start_price_total3=0\n",
    "    final_price_total3=0\n",
    "    \n",
    "    #往前推一個月\n",
    "    if int(last_month)==1:\n",
    "        last_month=str(12)\n",
    "        last_year=str(int(last_year)-1)\n",
    "    else:\n",
    "        last_month=str(int(last_month)-1)  \n",
    "\n",
    "    if len(last_month)==1:\n",
    "        last_month=\"0\"+last_month\n",
    "    else:\n",
    "        pass\n",
    "    \n",
    "    b=last_year+\"-\"+last_month+\"-\"+'11'  \n",
    "    print(last_month)\n",
    "    \n",
    "    for i in range(len(row)-1,0,-1):\n",
    "        #print(row[i][2][0:10],b)\n",
    "        if row[i][2].replace(\"\\n\",\"\")==b:\n",
    "            #print(row[i])\n",
    "            start_price_total3=start_price_total3+float(row[i][3])\n",
    "            final_price_total3=final_price_total3+float(row[i][5])\n",
    "    print(\"-------\")   \n",
    "    try:\n",
    "        temp=(float(final_price_total3)-float(start_price_total3))/float(start_price_total3)\n",
    "    except:\n",
    "        temp=0\n",
    "        print(b)\n",
    "    year_return=year_return*(1+temp)\n",
    "    print(\"year_return\",year_return)\n",
    "    print(temp)  #每個月的績效\n",
    "if year_return>1:\n",
    "    year_return=year_return-1\n",
    "year_return"
   ]
  },
  {
   "cell_type": "code",
   "execution_count": 39,
   "metadata": {},
   "outputs": [
    {
     "data": {
      "text/plain": [
       "(0.07308708346850797, 0.1706382380680671, 0.21549973490181507)"
      ]
     },
     "execution_count": 39,
     "metadata": {},
     "output_type": "execute_result"
    }
   ],
   "source": [
    "monthly_return,(season_return),(year_return)"
   ]
  },
  {
   "cell_type": "code",
   "execution_count": 40,
   "metadata": {},
   "outputs": [],
   "source": [
    "#monthly_return=round(((fundamental_return+technology_return)/2),2)\n",
    "\n",
    "monthly_return=round(((monthly_return)*100),2)\n",
    "season_return=round(((season_return)*100),2)\n",
    "year_return=round(((year_return)*100),2)"
   ]
  },
  {
   "cell_type": "code",
   "execution_count": 41,
   "metadata": {},
   "outputs": [],
   "source": [
    "# 更新bot database\n",
    "db =  sqlite3.connect('db.sqlite3')\n",
    "#db.execute(\"INSERT INTO type_data (tag)   VALUES ('{}')\".format(data))\n",
    "db.execute(\"delete from bot\")\n",
    "db.commit()\n",
    "pk=1\n",
    "\n",
    "# final_update,name,start_date,start_price,over_date,current_price,now_return,types=change_parameter(now_list[i]) \n",
    "db =  sqlite3.connect('db.sqlite3')\n",
    "db.execute(\"INSERT INTO bot (id,monthly_return,monthly_0050_return,season_return,season_0050_return,year_return,year_0050_return,fundamental_return,fundamental_amplitude,technology_return,technology_amplitude)   VALUES ('{}','{}','{}','{}','{}','{}','{}','{}','{}','{}','{}')\".format(pk,monthly_return,monthly_0050_return,season_return,season_0050_return,year_return,year_0050_return,fundamental_return,fundamental_amplitude,technology_return,technology_amplitude))\n",
    "db.commit()\n",
    "db.close()\n"
   ]
  },
  {
   "cell_type": "code",
   "execution_count": 42,
   "metadata": {},
   "outputs": [],
   "source": [
    "#over"
   ]
  },
  {
   "cell_type": "code",
   "execution_count": null,
   "metadata": {},
   "outputs": [],
   "source": []
  },
  {
   "cell_type": "code",
   "execution_count": null,
   "metadata": {},
   "outputs": [],
   "source": []
  },
  {
   "cell_type": "code",
   "execution_count": null,
   "metadata": {},
   "outputs": [],
   "source": []
  },
  {
   "cell_type": "code",
   "execution_count": null,
   "metadata": {},
   "outputs": [],
   "source": []
  },
  {
   "cell_type": "code",
   "execution_count": null,
   "metadata": {},
   "outputs": [],
   "source": []
  },
  {
   "cell_type": "code",
   "execution_count": null,
   "metadata": {},
   "outputs": [],
   "source": []
  },
  {
   "cell_type": "code",
   "execution_count": null,
   "metadata": {},
   "outputs": [],
   "source": []
  },
  {
   "cell_type": "code",
   "execution_count": null,
   "metadata": {},
   "outputs": [],
   "source": []
  },
  {
   "cell_type": "code",
   "execution_count": 238,
   "metadata": {},
   "outputs": [
    {
     "data": {
      "text/plain": [
       "(-0.00498017912200826, 0.681349506366397, 0.8916452251307014)"
      ]
     },
     "execution_count": 238,
     "metadata": {},
     "output_type": "execute_result"
    }
   ],
   "source": []
  },
  {
   "cell_type": "code",
   "execution_count": 15,
   "metadata": {},
   "outputs": [],
   "source": [
    "#開始計算策略的報酬\n",
    "db =  sqlite3.connect('db.sqlite3')\n",
    "cursor = db.execute(\"SELECT * from technicHistory\")\n",
    "row=cursor.fetchall()"
   ]
  },
  {
   "cell_type": "code",
   "execution_count": 16,
   "metadata": {},
   "outputs": [],
   "source": [
    "start_price_total=0\n",
    "final_price_total=0\n",
    "\n",
    "start_price_total2=0\n",
    "final_price_total2=0\n",
    "\n",
    "start_price_total3=0\n",
    "final_price_total3=0\n",
    "\n",
    "\n",
    "\n",
    "for i in range(len(row)):\n",
    "    if b<row[i][2] or b==row[i][2]:\n",
    "        start_price_total=start_price_total+float(row[i][3])\n",
    "        final_price_total=final_price_total+float(row[i][5])\n",
    "    if c<row[i][2] or c==row[i][2]:\n",
    "        start_price_total2=start_price_total2+float(row[i][3])\n",
    "        final_price_total2=final_price_total2+float(row[i][5])\n",
    "    if d<row[i][2] or d==row[i][2]:\n",
    "        start_price_total3=start_price_total3+float(row[i][3])\n",
    "        final_price_total3=final_price_total3+float(row[i][5])\n",
    "        \n",
    "\n",
    "monthly_return=monthly_return+(float(final_price_total)-float(start_price_total))/float(start_price_total)\n",
    "season_return=season_return+(float(final_price_total2)-float(start_price_total2))/float(start_price_total2)\n",
    "year_return=year_return+(float(final_price_total3)-float(start_price_total3))/float(start_price_total3)"
   ]
  },
  {
   "cell_type": "code",
   "execution_count": null,
   "metadata": {},
   "outputs": [],
   "source": []
  },
  {
   "cell_type": "code",
   "execution_count": 17,
   "metadata": {
    "scrolled": true
   },
   "outputs": [
    {
     "data": {
      "text/plain": [
       "(0.020300299561611217, 0.054177651407478065, 0.09758573901833878)"
      ]
     },
     "execution_count": 17,
     "metadata": {},
     "output_type": "execute_result"
    }
   ],
   "source": [
    "monthly_return,season_return,year_return"
   ]
  },
  {
   "cell_type": "code",
   "execution_count": 18,
   "metadata": {},
   "outputs": [],
   "source": [
    "#monthly_return=round(((fundamental_return+technology_return)/2),2)\n",
    "\n",
    "monthly_return=round(((monthly_return)*100),2)\n",
    "season_return=round(((season_return)*100),2)\n",
    "year_return=round(((year_return)*100),2)"
   ]
  },
  {
   "cell_type": "code",
   "execution_count": 19,
   "metadata": {},
   "outputs": [
    {
     "data": {
      "text/plain": [
       "(2.03, 5.42, 9.76)"
      ]
     },
     "execution_count": 19,
     "metadata": {},
     "output_type": "execute_result"
    }
   ],
   "source": [
    "monthly_return,season_return,year_return"
   ]
  },
  {
   "cell_type": "code",
   "execution_count": null,
   "metadata": {},
   "outputs": [],
   "source": []
  },
  {
   "cell_type": "code",
   "execution_count": null,
   "metadata": {},
   "outputs": [],
   "source": []
  },
  {
   "cell_type": "code",
   "execution_count": null,
   "metadata": {},
   "outputs": [],
   "source": []
  },
  {
   "cell_type": "code",
   "execution_count": null,
   "metadata": {},
   "outputs": [],
   "source": []
  },
  {
   "cell_type": "code",
   "execution_count": null,
   "metadata": {},
   "outputs": [],
   "source": []
  },
  {
   "cell_type": "code",
   "execution_count": null,
   "metadata": {},
   "outputs": [],
   "source": []
  },
  {
   "cell_type": "code",
   "execution_count": null,
   "metadata": {},
   "outputs": [],
   "source": []
  },
  {
   "cell_type": "code",
   "execution_count": 20,
   "metadata": {},
   "outputs": [],
   "source": []
  },
  {
   "cell_type": "code",
   "execution_count": null,
   "metadata": {},
   "outputs": [],
   "source": []
  },
  {
   "cell_type": "code",
   "execution_count": null,
   "metadata": {},
   "outputs": [],
   "source": []
  },
  {
   "cell_type": "code",
   "execution_count": null,
   "metadata": {},
   "outputs": [],
   "source": []
  },
  {
   "cell_type": "code",
   "execution_count": null,
   "metadata": {},
   "outputs": [],
   "source": []
  }
 ],
 "metadata": {
  "kernelspec": {
   "display_name": "Python 3 (ipykernel)",
   "language": "python",
   "name": "python3"
  },
  "language_info": {
   "codemirror_mode": {
    "name": "ipython",
    "version": 3
   },
   "file_extension": ".py",
   "mimetype": "text/x-python",
   "name": "python",
   "nbconvert_exporter": "python",
   "pygments_lexer": "ipython3",
   "version": "3.8.10"
  }
 },
 "nbformat": 4,
 "nbformat_minor": 4
}

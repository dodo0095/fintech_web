{
 "cells": [
  {
   "cell_type": "code",
   "execution_count": 2,
   "metadata": {},
   "outputs": [],
   "source": [
    "import requests \n",
    "from bs4 import BeautifulSoup\n",
    "import pandas as pd\n",
    "import urllib.parse\n",
    "import csv\n",
    "import sqlite3\n",
    "from datetime import datetime, timedelta\n",
    "import time\n",
    "\n",
    "\n",
    "def save(date,source,keyword,title,content,href):\n",
    "    for i in range(len(content)):\n",
    "        db =  sqlite3.connect('C:/Users/BANDAI/Desktop/fintech_web/stark_lab/stock.db')\n",
    "        cursor = db.execute(\"SELECT * from Google_NEWS WHERE Title==? and  keyword==?\",(title[i],keyword,))\n",
    "        row=cursor.fetchall()\n",
    "        if len(row)>0:\n",
    "            print(\"重複  不存入\")\n",
    "            \n",
    "        else:\n",
    "            db.execute(\"INSERT INTO Google_NEWS (Date,Source,keyword,Title,Content,Link)   VALUES ({},'{}','{}','{}','{}','{}')\".format(date,source,keyword,title[i],content[i],href[i]))\n",
    "            db.commit()\n",
    "            print(\"save ok\")\n",
    "    db.close()\n",
    "\n",
    "def read():\n",
    "    db = sqlite3.connect('C:/Users/BANDAI/Desktop/fintech_web/stark_lab/stock.db')\n",
    "    cursor = db.execute(\"SELECT * from Google_NEWS\")\n",
    "    row=cursor.fetchall()\n",
    "    db.close()\n",
    "    return row\n",
    "\n",
    "\n",
    "def take_company_list(company,path):\n",
    "    temp=[]\n",
    "    with open(path, newline='',encoding=\"utf-8\") as csvfile:\n",
    "        rows = csv.reader(csvfile, delimiter=',')\n",
    "        for row in rows:\n",
    "            a=row[0].split()\n",
    "    #        company.append(a[1])\n",
    "            temp.append(a)\n",
    "    del temp[0]\n",
    "    for i in range(len(temp)):\n",
    "        company.append(temp[i][1]+\" \"+temp[i][0])\n",
    "    return company\n"
   ]
  },
  {
   "cell_type": "code",
   "execution_count": 3,
   "metadata": {},
   "outputs": [],
   "source": [
    "company=[]\n",
    "company=take_company_list(company,\"上市.csv\")\n",
    "company=take_company_list(company,\"上櫃.csv\")\n",
    "company=take_company_list(company,\"興櫃.csv\")"
   ]
  },
  {
   "cell_type": "code",
   "execution_count": 16,
   "metadata": {},
   "outputs": [
    {
     "name": "stdout",
     "output_type": "stream",
     "text": [
      "台泥 1101\n",
      "重複  不存入\n",
      "重複  不存入\n",
      "重複  不存入\n",
      "重複  不存入\n",
      "重複  不存入\n",
      "重複  不存入\n",
      "save ok\n",
      "重複  不存入\n",
      "重複  不存入\n",
      "重複  不存入\n",
      "亞泥 1102\n",
      "重複  不存入\n",
      "重複  不存入\n",
      "save ok\n",
      "save ok\n",
      "save ok\n",
      "save ok\n",
      "save ok\n",
      "save ok\n",
      "save ok\n",
      "save ok\n",
      "嘉泥 1103\n",
      "save ok\n",
      "save ok\n",
      "save ok\n",
      "save ok\n",
      "save ok\n",
      "save ok\n",
      "save ok\n",
      "save ok\n",
      "save ok\n",
      "save ok\n",
      "環泥 1104\n",
      "save ok\n",
      "save ok\n",
      "save ok\n",
      "save ok\n",
      "save ok\n",
      "save ok\n",
      "save ok\n",
      "save ok\n",
      "save ok\n",
      "save ok\n",
      "幸福 1108\n",
      "save ok\n",
      "save ok\n",
      "save ok\n",
      "save ok\n",
      "save ok\n",
      "save ok\n",
      "save ok\n",
      "save ok\n",
      "save ok\n",
      "save ok\n"
     ]
    }
   ],
   "source": [
    "\n",
    "\n",
    "# google 抓取新聞存料庫\n",
    "now=datetime.now().strftime('%Y%m%d')\n",
    "source=\"google\"\n",
    "\n",
    "for i in range(5):\n",
    "    keyword_o = company[i]\n",
    "    print(keyword_o)\n",
    "    keyword=urllib.parse.quote(keyword_o)\n",
    "    topic=[]\n",
    "    href=[]\n",
    "    content=[]\n",
    "    time.sleep(5)\n",
    "    try:\n",
    "        url = \"https://news.google.com/search?q=\"+keyword+\"&hl=zh-TW&gl=TW&ceid=TW%3Azh-Hant\"\n",
    "        #https://news.google.com/topics/CAAqKggKIiRDQkFTRlFvSUwyMHZNRGx6TVdZU0JYcG9MVlJYR2dKVVZ5Z0FQAQ?hl=zh-TW&gl=TW&ceid=TW%3Azh-Hant\"\n",
    "        r = requests.get(url)\n",
    "        web_content = r.text\n",
    "        soup = BeautifulSoup(web_content,'lxml')\n",
    "        title = soup.find_all('a', class_='DY5T1d')\n",
    "        \n",
    "          \n",
    "        #print(title)\n",
    "        for i in range(10):\n",
    "            #print(title[i].text)\n",
    "            #a=\"https://news.google.com\"+title[i][\"href\"].replace(\".\",\"\")\n",
    "            #print(a,\"\\n\")\n",
    "            topic.append(title[i].text)\n",
    "            href.append(\"http://news.google.com\"+title[i][\"href\"][1:])\n",
    "            \n",
    "            #內文\n",
    "            temp=\"\"\n",
    "            url =\"http://news.google.com\"+title[i][\"href\"][1:]\n",
    "            r = requests.get(url)\n",
    "            web_content = r.text\n",
    "            soup = BeautifulSoup(web_content,'lxml')\n",
    "            content_temp = soup.find_all('p')\n",
    "            for z in range(len(content_temp)):\n",
    "                content_temp[z]=content_temp[z].text\n",
    "                temp=temp+content_temp[z]\n",
    "            content.append(temp)\n",
    "    except:\n",
    "        print(\"fail\")\n",
    "        pass\n",
    "    save(now,source,keyword_o,topic,content,href)\n"
   ]
  },
  {
   "cell_type": "code",
   "execution_count": null,
   "metadata": {},
   "outputs": [],
   "source": []
  },
  {
   "cell_type": "code",
   "execution_count": null,
   "metadata": {},
   "outputs": [],
   "source": []
  },
  {
   "cell_type": "code",
   "execution_count": null,
   "metadata": {},
   "outputs": [],
   "source": []
  },
  {
   "cell_type": "code",
   "execution_count": null,
   "metadata": {},
   "outputs": [],
   "source": []
  },
  {
   "cell_type": "code",
   "execution_count": null,
   "metadata": {},
   "outputs": [],
   "source": []
  },
  {
   "cell_type": "code",
   "execution_count": null,
   "metadata": {},
   "outputs": [],
   "source": []
  },
  {
   "cell_type": "code",
   "execution_count": 4,
   "metadata": {},
   "outputs": [
    {
     "name": "stdout",
     "output_type": "stream",
     "text": [
      "重複  不存入\n",
      "重複  不存入\n"
     ]
    },
    {
     "ename": "IndexError",
     "evalue": "list index out of range",
     "output_type": "error",
     "traceback": [
      "\u001b[1;31m---------------------------------------------------------------------------\u001b[0m",
      "\u001b[1;31mIndexError\u001b[0m                                Traceback (most recent call last)",
      "\u001b[1;32m<ipython-input-4-d6a7dcaf3a8d>\u001b[0m in \u001b[0;36m<module>\u001b[1;34m\u001b[0m\n\u001b[0;32m     26\u001b[0m         \u001b[0mtemp\u001b[0m\u001b[1;33m=\u001b[0m\u001b[0mtemp\u001b[0m\u001b[1;33m+\u001b[0m\u001b[0mcontent_temp\u001b[0m\u001b[1;33m[\u001b[0m\u001b[0mz\u001b[0m\u001b[1;33m]\u001b[0m\u001b[1;33m\u001b[0m\u001b[1;33m\u001b[0m\u001b[0m\n\u001b[0;32m     27\u001b[0m     \u001b[0mcontent\u001b[0m\u001b[1;33m.\u001b[0m\u001b[0mappend\u001b[0m\u001b[1;33m(\u001b[0m\u001b[0mtemp\u001b[0m\u001b[1;33m)\u001b[0m\u001b[1;33m\u001b[0m\u001b[1;33m\u001b[0m\u001b[0m\n\u001b[1;32m---> 28\u001b[1;33m     \u001b[0msave\u001b[0m\u001b[1;33m(\u001b[0m\u001b[0mnow\u001b[0m\u001b[1;33m,\u001b[0m\u001b[0msource\u001b[0m\u001b[1;33m,\u001b[0m\u001b[0mkeyword_o\u001b[0m\u001b[1;33m,\u001b[0m\u001b[0mtopic\u001b[0m\u001b[1;33m,\u001b[0m\u001b[0mcontent\u001b[0m\u001b[1;33m,\u001b[0m\u001b[0mhref\u001b[0m\u001b[1;33m)\u001b[0m\u001b[1;33m\u001b[0m\u001b[1;33m\u001b[0m\u001b[0m\n\u001b[0m\u001b[0;32m     29\u001b[0m \u001b[1;33m\u001b[0m\u001b[0m\n",
      "\u001b[1;32m<ipython-input-1-a84c7a3e4493>\u001b[0m in \u001b[0;36msave\u001b[1;34m(date, source, keyword, title, content, href)\u001b[0m\n\u001b[0;32m     12\u001b[0m     \u001b[1;32mfor\u001b[0m \u001b[0mi\u001b[0m \u001b[1;32min\u001b[0m \u001b[0mrange\u001b[0m\u001b[1;33m(\u001b[0m\u001b[0mlen\u001b[0m\u001b[1;33m(\u001b[0m\u001b[0mdate\u001b[0m\u001b[1;33m)\u001b[0m\u001b[1;33m)\u001b[0m\u001b[1;33m:\u001b[0m\u001b[1;33m\u001b[0m\u001b[1;33m\u001b[0m\u001b[0m\n\u001b[0;32m     13\u001b[0m         \u001b[0mdb\u001b[0m \u001b[1;33m=\u001b[0m  \u001b[0msqlite3\u001b[0m\u001b[1;33m.\u001b[0m\u001b[0mconnect\u001b[0m\u001b[1;33m(\u001b[0m\u001b[1;34m'C:/Users/BANDAI/Desktop/fintech_web/stark_lab/stock.db'\u001b[0m\u001b[1;33m)\u001b[0m\u001b[1;33m\u001b[0m\u001b[1;33m\u001b[0m\u001b[0m\n\u001b[1;32m---> 14\u001b[1;33m         \u001b[0mcursor\u001b[0m \u001b[1;33m=\u001b[0m \u001b[0mdb\u001b[0m\u001b[1;33m.\u001b[0m\u001b[0mexecute\u001b[0m\u001b[1;33m(\u001b[0m\u001b[1;34m\"SELECT * from Google_NEWS WHERE Title==? and  keyword==?\"\u001b[0m\u001b[1;33m,\u001b[0m\u001b[1;33m(\u001b[0m\u001b[0mtitle\u001b[0m\u001b[1;33m[\u001b[0m\u001b[0mi\u001b[0m\u001b[1;33m]\u001b[0m\u001b[1;33m,\u001b[0m\u001b[0mkeyword\u001b[0m\u001b[1;33m,\u001b[0m\u001b[1;33m)\u001b[0m\u001b[1;33m)\u001b[0m\u001b[1;33m\u001b[0m\u001b[1;33m\u001b[0m\u001b[0m\n\u001b[0m\u001b[0;32m     15\u001b[0m         \u001b[0mrow\u001b[0m\u001b[1;33m=\u001b[0m\u001b[0mcursor\u001b[0m\u001b[1;33m.\u001b[0m\u001b[0mfetchall\u001b[0m\u001b[1;33m(\u001b[0m\u001b[1;33m)\u001b[0m\u001b[1;33m\u001b[0m\u001b[1;33m\u001b[0m\u001b[0m\n\u001b[0;32m     16\u001b[0m         \u001b[1;32mif\u001b[0m \u001b[0mlen\u001b[0m\u001b[1;33m(\u001b[0m\u001b[0mrow\u001b[0m\u001b[1;33m)\u001b[0m\u001b[1;33m>\u001b[0m\u001b[1;36m0\u001b[0m\u001b[1;33m:\u001b[0m\u001b[1;33m\u001b[0m\u001b[1;33m\u001b[0m\u001b[0m\n",
      "\u001b[1;31mIndexError\u001b[0m: list index out of range"
     ]
    }
   ],
   "source": [
    "        url = \"https://news.google.com/search?q=\"+keyword+\"&hl=zh-TW&gl=TW&ceid=TW%3Azh-Hant\"\n",
    "        #https://news.google.com/topics/CAAqKggKIiRDQkFTRlFvSUwyMHZNRGx6TVdZU0JYcG9MVlJYR2dKVVZ5Z0FQAQ?hl=zh-TW&gl=TW&ceid=TW%3Azh-Hant\"\n",
    "        r = requests.get(url)\n",
    "        web_content = r.text\n",
    "        soup = BeautifulSoup(web_content,'lxml')\n",
    "        title = soup.find_all('a', class_='DY5T1d')\n",
    "        \n",
    "          \n",
    "        #print(title)\n",
    "        for i in range(10):\n",
    "            #print(title[i].text)\n",
    "            #a=\"https://news.google.com\"+title[i][\"href\"].replace(\".\",\"\")\n",
    "            #print(a,\"\\n\")\n",
    "            topic.append(title[i].text)\n",
    "            href.append(\"http://news.google.com\"+title[i][\"href\"][1:])\n",
    "            \n",
    "            #內文\n",
    "            temp=\"\"\n",
    "            url =\"http://news.google.com\"+title[i][\"href\"][1:]\n",
    "            r = requests.get(url)\n",
    "            web_content = r.text\n",
    "            soup = BeautifulSoup(web_content,'lxml')\n",
    "            content_temp = soup.find_all('p')\n",
    "            for z in range(len(content_temp)):\n",
    "                content_temp[z]=content_temp[z].text\n",
    "                temp=temp+content_temp[z]\n",
    "            content.append(temp)\n",
    "            save(now,source,keyword_o,topic,content,href)\n",
    "    "
   ]
  },
  {
   "cell_type": "code",
   "execution_count": 6,
   "metadata": {},
   "outputs": [
    {
     "data": {
      "text/plain": [
       "['《水泥股》嘉泥深耕產後護理 年中擬赴陸開設月子中心', '《水泥股》嘉泥深耕產後護理 年中擬赴陸開設月子中心']"
      ]
     },
     "execution_count": 6,
     "metadata": {},
     "output_type": "execute_result"
    }
   ],
   "source": [
    "topic"
   ]
  },
  {
   "cell_type": "code",
   "execution_count": 9,
   "metadata": {},
   "outputs": [
    {
     "data": {
      "text/plain": [
       "['嘉泥(1103)近年來積極轉型，除了佈局觀光飯店領域之外，並切入月子中心市場，日前與胎檢權威「台兒診所」以及幼兒發展評估權威「安兒康小兒專科診所」簽約合作，攜手打造全方位母嬰服務坐月子新模式，並有計劃今年中將赴大陸蘇州及揚州二地，開設月子中心。嘉新企業團跨足旅宿服務業，在自2016年於中山區開設第一家自創品牌「人之初產後護理之家」後引起迴響，領先業界導入正統五星級服務亦為月子中心產業樹立新典範。2020年人之初品牌插旗於敦化北路精華地段，規劃獨棟高檔月子中心、隱密性高，臨近松山機場、國際交通便捷，方便亞洲區客人來台坐月子。嘉新企業團執行長暨嘉和健康生活董事長王立心表示，我們的理念就是要提供母嬰最好的照顧。踏進護理照顧產業這五年多來，我們與專業醫護團隊不斷的自我要求及成長，無論是在服務或管理面、硬體或軟體，都持續的改革與創新。更重要的是，我們持續聆聽顧客的聲音，也意識到現代的新手爸媽需要的不只是產後一個月的照護，從懷孕開始到寶寶健康與成長發展的各項知識都求知若渴。因此，人之初產後護理之家針對嬰幼兒-1歲到+6歲的成長黃金時期，分別協力尋求該領域最專業的權威醫療機構，共同成為新手爸媽最信賴的伙伴，也為健康醫護整合服務再創新紀元。(時報資訊)中時新聞網對留言系統使用者發布的文字、圖片或檔案保有片面修改或移除的權利。當使用者使用本網站留言服務時，表示已詳細閱讀並完全了解，且同意配合下述規定：違反上述規定者，中時新聞網有權刪除留言，或者直接封鎖帳號！請使用者在發言前，務必先閱讀留言板規則，謝謝配合。',\n",
       " '嘉泥(1103)近年來積極轉型，除了佈局觀光飯店領域之外，並切入月子中心市場，日前與胎檢權威「台兒診所」以及幼兒發展評估權威「安兒康小兒專科診所」簽約合作，攜手打造全方位母嬰服務坐月子新模式，並有計劃今年中將赴大陸蘇州及揚州二地，開設月子中心。嘉新企業團跨足旅宿服務業，在自2016年於中山區開設第一家自創品牌「人之初產後護理之家」後引起迴響，領先業界導入正統五星級服務亦為月子中心產業樹立新典範。2020年人之初品牌插旗於敦化北路精華地段，規劃獨棟高檔月子中心、隱密性高，臨近松山機場、國際交通便捷，方便亞洲區客人來台坐月子。嘉新企業團執行長暨嘉和健康生活董事長王立心表示，我們的理念就是要提供母嬰最好的照顧。踏進護理照顧產業這五年多來，我們與專業醫護團隊不斷的自我要求及成長，無論是在服務或管理面、硬體或軟體，都持續的改革與創新。更重要的是，我們持續聆聽顧客的聲音，也意識到現代的新手爸媽需要的不只是產後一個月的照護，從懷孕開始到寶寶健康與成長發展的各項知識都求知若渴。因此，人之初產後護理之家針對嬰幼兒-1歲到+6歲的成長黃金時期，分別協力尋求該領域最專業的權威醫療機構，共同成為新手爸媽最信賴的伙伴，也為健康醫護整合服務再創新紀元。(時報資訊)中時新聞網對留言系統使用者發布的文字、圖片或檔案保有片面修改或移除的權利。當使用者使用本網站留言服務時，表示已詳細閱讀並完全了解，且同意配合下述規定：違反上述規定者，中時新聞網有權刪除留言，或者直接封鎖帳號！請使用者在發言前，務必先閱讀留言板規則，謝謝配合。']"
      ]
     },
     "execution_count": 9,
     "metadata": {},
     "output_type": "execute_result"
    }
   ],
   "source": [
    "content"
   ]
  },
  {
   "cell_type": "code",
   "execution_count": null,
   "metadata": {},
   "outputs": [],
   "source": []
  }
 ],
 "metadata": {
  "kernelspec": {
   "display_name": "Python 3",
   "language": "python",
   "name": "python3"
  },
  "language_info": {
   "codemirror_mode": {
    "name": "ipython",
    "version": 3
   },
   "file_extension": ".py",
   "mimetype": "text/x-python",
   "name": "python",
   "nbconvert_exporter": "python",
   "pygments_lexer": "ipython3",
   "version": "3.7.4"
  }
 },
 "nbformat": 4,
 "nbformat_minor": 2
}

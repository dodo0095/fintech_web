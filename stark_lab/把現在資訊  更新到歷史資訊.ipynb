{
 "cells": [
  {
   "cell_type": "code",
   "execution_count": 1,
   "metadata": {},
   "outputs": [],
   "source": [
    "import numpy as np\n",
    "import sqlite3\n",
    "import pandas as pd\n",
    "import csv\n",
    "from datetime import datetime, timedelta\n",
    "import time\n",
    "import datetime\n",
    "import requests\n",
    "from io import StringIO"
   ]
  },
  {
   "cell_type": "code",
   "execution_count": 2,
   "metadata": {},
   "outputs": [],
   "source": [
    "#開始把左邊的現在資訊    轉移到歷史資訊\n",
    "db =  sqlite3.connect('db.sqlite3')\n",
    "cursor = db.execute(\"SELECT * from basicCurrent\")\n",
    "row=cursor.fetchall()"
   ]
  },
  {
   "cell_type": "code",
   "execution_count": 3,
   "metadata": {},
   "outputs": [],
   "source": [
    "for i in range(len(row)):\n",
    "    name=row[i][2]\n",
    "    start_date=row[i][3]\n",
    "    over_date=row[i][5]\n",
    "    buy_price=row[i][4]\n",
    "    sell_price=row[i][6]\n",
    "    return_value=row[i][7]\n",
    "    types=row[i][8]\n",
    "    db =  sqlite3.connect('db.sqlite3')\n",
    "    db.execute(\"INSERT INTO basicHistory (stock_name,start_date,buy_price,over_date,sell_price,return_value,type)   VALUES ('{}','{}','{}','{}','{}','{}','{}')\".format(name,start_date,buy_price,over_date,sell_price,return_value,types))\n",
    "    db.commit()\n",
    "    db.close()"
   ]
  },
  {
   "cell_type": "code",
   "execution_count": null,
   "metadata": {},
   "outputs": [],
   "source": []
  },
  {
   "cell_type": "code",
   "execution_count": 4,
   "metadata": {},
   "outputs": [],
   "source": [
    "#開始把右邊的現在資訊    轉移到歷史資訊\n",
    "db =  sqlite3.connect('db.sqlite3')\n",
    "cursor = db.execute(\"SELECT * from technicCurrent\")\n",
    "row=cursor.fetchall()"
   ]
  },
  {
   "cell_type": "code",
   "execution_count": 5,
   "metadata": {},
   "outputs": [],
   "source": [
    "for i in range(len(row)):\n",
    "    name=row[i][2]\n",
    "    start_date=row[i][3]\n",
    "    over_date=row[i][5]\n",
    "    buy_price=row[i][4]\n",
    "    sell_price=row[i][6]\n",
    "    return_value=row[i][7]\n",
    "    types=row[i][8]\n",
    "    db =  sqlite3.connect('db.sqlite3')\n",
    "    db.execute(\"INSERT INTO technicHistory (stock_name,start_date,buy_price,over_date,sell_price,return_value,type)   VALUES ('{}','{}','{}','{}','{}','{}','{}')\".format(name,start_date,buy_price,over_date,sell_price,return_value,types))\n",
    "    db.commit()\n",
    "    db.close()"
   ]
  },
  {
   "cell_type": "code",
   "execution_count": null,
   "metadata": {},
   "outputs": [],
   "source": []
  }
 ],
 "metadata": {
  "kernelspec": {
   "display_name": "Python 3",
   "language": "python",
   "name": "python3"
  },
  "language_info": {
   "codemirror_mode": {
    "name": "ipython",
    "version": 3
   },
   "file_extension": ".py",
   "mimetype": "text/x-python",
   "name": "python",
   "nbconvert_exporter": "python",
   "pygments_lexer": "ipython3",
   "version": "3.6.10"
  }
 },
 "nbformat": 4,
 "nbformat_minor": 4
}

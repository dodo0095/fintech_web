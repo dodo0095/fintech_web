{
 "cells": [
  {
   "cell_type": "code",
   "execution_count": 7,
   "metadata": {},
   "outputs": [],
   "source": [
    "import numpy as np\n",
    "import sqlite3\n",
    "import pandas as pd\n",
    "import csv\n",
    "from datetime import datetime, timedelta\n",
    "import time\n",
    "import datetime\n",
    "import requests\n",
    "from io import StringIO\n",
    "import yfinance as yf\n",
    "\n",
    "\n",
    "#抓取現在的時間\n",
    "def take_time():\n",
    "    from time import gmtime, strftime\n",
    "    a=strftime(\"%Y%m%d\", gmtime())\n",
    "    return a[0:4],a[4:6],a[6:8]\n",
    "    \n",
    "    \n",
    "    \n",
    "# 抓上市公司股價\n",
    "def stock_value(datestr):\n",
    "    #把當月11號的台股資訊 更新\n",
    "    #datestr = '20200911'\n",
    "    # 下載股價\n",
    "    r = requests.post('https://www.twse.com.tw/exchangeReport/MI_INDEX?response=csv&date=' + datestr + '&type=ALL')\n",
    "    # 整理資料，變成表格\n",
    "    df = pd.read_csv(StringIO(r.text.replace(\"=\", \"\")), \n",
    "                header=[\"證券代號\" in l for l in r.text.split(\"\\n\")].index(True)-1)\n",
    "    # 整理一些字串：\n",
    "    df = df.apply(lambda s: pd.to_numeric(s.astype(str).str.replace(\",\", \"\").replace(\"+\", \"1\").replace(\"-\", \"-1\"), errors='coerce'))\n",
    "    # 顯示出來\n",
    "    #df.head()\n",
    "    return df\n",
    "\n",
    "\n",
    "\n",
    "\n",
    "#抓上櫃公司股價\n",
    "def stock_value2(datestr):\n",
    "    link = 'http://www.tpex.org.tw/web/stock/aftertrading/daily_close_quotes/stk_quote_download.php?l=zh-tw&d='+datestr+'&s=0,asc,0'\n",
    "    r = requests.get(link)\n",
    "    r.ok\n",
    "    lines = r.text.replace('\\r', '').split('\\n')\n",
    "    df = pd.read_csv(StringIO(\"\\n\".join(lines[3:])), header=None)\n",
    "    #df.head()\n",
    "    df.columns = list(map(lambda l: l.replace(' ',''), lines[2].split(',')))\n",
    "    #df.index = df['代號']\n",
    "    #df = df.drop(['代號'], axis=1)\n",
    "    #df.head()\n",
    "    return df\n",
    "\n",
    "#拿上市收盤價資料\n",
    "def take_value(df,id):\n",
    "    take_info=df[pd.to_numeric(df['證券代號'], errors='coerce') == id]\n",
    "    value=float(take_info[\"收盤價\"].values[0])\n",
    "    return value\n",
    "#拿上櫃收盤價資料\n",
    "def take_value2(df,id):\n",
    "    take_info=df[pd.to_numeric(df['代號'], errors='coerce') == id]\n",
    "    value=float(take_info[\"收盤\"].values[0])\n",
    "    return value\n",
    "\n",
    "def change_parameter(save_list):\n",
    "    final_update=now_day[:4]+\"-\"+now_day[4:6]+\"-\"+now_day[6:8]\n",
    "    name=search_name(now_list[i][0]).replace(\"\\u3000\", \" \")\n",
    "    start_date=predict_day[:4]+\"-\"+predict_day[4:6]+\"-\"+predict_day[6:8]\n",
    "    start_price=now_list[i][2]\n",
    "    \n",
    "    current_price=now_list[i][3]\n",
    "\n",
    "    now_return=(float(current_price)-float(start_price))/float(start_price)\n",
    "    now_return= round(now_return*100,2)\n",
    "\n",
    "    if float(now_return)>0:\n",
    "        types=\"+\"\n",
    "    else:\n",
    "        types=\"-\"\n",
    "    return final_update,name,start_date,start_price,current_price,now_return,types\n",
    "\n",
    "#查詢list in str\n",
    "#any('1101' in item for item in a)\n",
    "#查詢list in str\n",
    "def search_name(name):\n",
    "    company=[]\n",
    "    df = pd.read_csv('公司/上市.csv')  \n",
    "    a=df[\"有價證券代號及名稱\"].tolist()\n",
    "    df = pd.read_csv('公司/上櫃.csv')  \n",
    "    b=df[\"有價證券代號及名稱\"].tolist()\n",
    "    df = pd.read_csv('公司/興櫃.csv')  \n",
    "    c=df[\"有價證券代號及名稱\"].tolist()\n",
    "    for i in a:\n",
    "        if i.__contains__(name) :\n",
    "            company=i\n",
    "            #print(i, \" is containing\")\n",
    "    for i in b:\n",
    "        if i.__contains__(name) :\n",
    "            company=i\n",
    "            #print(i, \" is containing\")\n",
    "    for i in c:\n",
    "        if i.__contains__(name) :\n",
    "            company=i\n",
    "            #print(i, \" is containing\")\n",
    "    return company\n",
    "\n",
    "\n",
    "with open('data.txt', 'r') as f:\n",
    "    myNames = [line.strip() for line in f]\n",
    "    \n"
   ]
  },
  {
   "cell_type": "code",
   "execution_count": 2,
   "metadata": {},
   "outputs": [],
   "source": [
    "txt=myNames[0]\n",
    "#txt = input('請輸入你文件的名稱：')\n",
    "\n",
    "## Open file   把當月份的代號txt  拿出來\n",
    "doc_name=txt+\".txt\"\n",
    "fp = open(doc_name, \"r\")\n",
    "line = fp.readline()\n",
    "month_predict=[]\n",
    "## 用 while 逐行讀取檔案內容，直至檔案結尾\n",
    "while line:\n",
    "#    print (line)\n",
    "    line=line.replace(\" \",\"\")\n",
    "    month_predict.append(line.replace(\"\\n\",\"\"))\n",
    "    line = fp.readline()\n",
    "fp.close()\n",
    "\n",
    "\n",
    "\n",
    "nowyear,nowmonth,nowday=take_time()\n",
    "\n",
    "\n",
    "# nowyear = input('請輸入今天的年份：')\n",
    "# nowmonth = input('請輸入今天的月份：')\n",
    "# nowday = input('請輸入今天的日期：')\n",
    "\n",
    "predictyear=myNames[0][0:4]\n",
    "predictmonth=myNames[0][4:6]\n",
    "\n",
    "#predictyear = input('請輸入預測的年份：')\n",
    "#predictmonth = input('請輸入預測的月份：')\n",
    "\n",
    "predict_day=predictyear+predictmonth+\"11\"\n",
    "now_day=nowyear+nowmonth+nowday\n"
   ]
  },
  {
   "cell_type": "code",
   "execution_count": 3,
   "metadata": {},
   "outputs": [
    {
     "data": {
      "text/plain": [
       "['2330',\n",
       " '2393',\n",
       " '2395',\n",
       " '2454',\n",
       " '2801',\n",
       " '2809',\n",
       " '2880',\n",
       " '2884',\n",
       " '2892',\n",
       " '3056',\n",
       " '3078',\n",
       " '3163',\n",
       " '3363',\n",
       " '3711',\n",
       " '4933',\n",
       " '6005',\n",
       " '6446',\n",
       " '6613',\n",
       " '6670',\n",
       " '6789']"
      ]
     },
     "execution_count": 3,
     "metadata": {},
     "output_type": "execute_result"
    }
   ],
   "source": [
    "month_predict"
   ]
  },
  {
   "cell_type": "code",
   "execution_count": 4,
   "metadata": {},
   "outputs": [],
   "source": [
    "    #把當月11號的台股資訊 更新\n",
    "    datestr = '20200911'\n",
    "    # 下載股價\n",
    "    r = requests.post('https://www.twse.com.tw/exchangeReport/MI_INDEX?response=csv&date=' + datestr + '&type=ALL')\n",
    "    # 整理資料，變成表格\n",
    "    df = pd.read_csv(StringIO(r.text.replace(\"=\", \"\")), \n",
    "                header=[\"證券代號\" in l for l in r.text.split(\"\\n\")].index(True)-1)\n",
    "    # 整理一些字串：\n",
    "    df = df.apply(lambda s: pd.to_numeric(s.astype(str).str.replace(\",\", \"\").replace(\"+\", \"1\").replace(\"-\", \"-1\"), errors='coerce'))\n",
    "    # 顯示出來\n",
    "    #df.head()"
   ]
  },
  {
   "cell_type": "code",
   "execution_count": 5,
   "metadata": {},
   "outputs": [
    {
     "ename": "ValueError",
     "evalue": "True is not in list",
     "output_type": "error",
     "traceback": [
      "\u001b[1;31m---------------------------------------------------------------------------\u001b[0m",
      "\u001b[1;31mValueError\u001b[0m                                Traceback (most recent call last)",
      "Input \u001b[1;32mIn [5]\u001b[0m, in \u001b[0;36m<cell line: 1>\u001b[1;34m()\u001b[0m\n\u001b[1;32m----> 1\u001b[0m \u001b[43mstock_value\u001b[49m\u001b[43m(\u001b[49m\u001b[43mnow_day\u001b[49m\u001b[43m)\u001b[49m\n",
      "Input \u001b[1;32mIn [1]\u001b[0m, in \u001b[0;36mstock_value\u001b[1;34m(datestr)\u001b[0m\n\u001b[0;32m     26\u001b[0m r \u001b[38;5;241m=\u001b[39m requests\u001b[38;5;241m.\u001b[39mpost(\u001b[38;5;124m'\u001b[39m\u001b[38;5;124mhttps://www.twse.com.tw/exchangeReport/MI_INDEX?response=csv&date=\u001b[39m\u001b[38;5;124m'\u001b[39m \u001b[38;5;241m+\u001b[39m datestr \u001b[38;5;241m+\u001b[39m \u001b[38;5;124m'\u001b[39m\u001b[38;5;124m&type=ALL\u001b[39m\u001b[38;5;124m'\u001b[39m)\n\u001b[0;32m     27\u001b[0m \u001b[38;5;66;03m# 整理資料，變成表格\u001b[39;00m\n\u001b[0;32m     28\u001b[0m df \u001b[38;5;241m=\u001b[39m pd\u001b[38;5;241m.\u001b[39mread_csv(StringIO(r\u001b[38;5;241m.\u001b[39mtext\u001b[38;5;241m.\u001b[39mreplace(\u001b[38;5;124m\"\u001b[39m\u001b[38;5;124m=\u001b[39m\u001b[38;5;124m\"\u001b[39m, \u001b[38;5;124m\"\u001b[39m\u001b[38;5;124m\"\u001b[39m)), \n\u001b[1;32m---> 29\u001b[0m             header\u001b[38;5;241m=\u001b[39m\u001b[43m[\u001b[49m\u001b[38;5;124;43m\"\u001b[39;49m\u001b[38;5;124;43m證券代號\u001b[39;49m\u001b[38;5;124;43m\"\u001b[39;49m\u001b[43m \u001b[49m\u001b[38;5;129;43;01min\u001b[39;49;00m\u001b[43m \u001b[49m\u001b[43ml\u001b[49m\u001b[43m \u001b[49m\u001b[38;5;28;43;01mfor\u001b[39;49;00m\u001b[43m \u001b[49m\u001b[43ml\u001b[49m\u001b[43m \u001b[49m\u001b[38;5;129;43;01min\u001b[39;49;00m\u001b[43m \u001b[49m\u001b[43mr\u001b[49m\u001b[38;5;241;43m.\u001b[39;49m\u001b[43mtext\u001b[49m\u001b[38;5;241;43m.\u001b[39;49m\u001b[43msplit\u001b[49m\u001b[43m(\u001b[49m\u001b[38;5;124;43m\"\u001b[39;49m\u001b[38;5;130;43;01m\\n\u001b[39;49;00m\u001b[38;5;124;43m\"\u001b[39;49m\u001b[43m)\u001b[49m\u001b[43m]\u001b[49m\u001b[38;5;241;43m.\u001b[39;49m\u001b[43mindex\u001b[49m\u001b[43m(\u001b[49m\u001b[38;5;28;43;01mTrue\u001b[39;49;00m\u001b[43m)\u001b[49m\u001b[38;5;241m-\u001b[39m\u001b[38;5;241m1\u001b[39m)\n\u001b[0;32m     30\u001b[0m \u001b[38;5;66;03m# 整理一些字串：\u001b[39;00m\n\u001b[0;32m     31\u001b[0m df \u001b[38;5;241m=\u001b[39m df\u001b[38;5;241m.\u001b[39mapply(\u001b[38;5;28;01mlambda\u001b[39;00m s: pd\u001b[38;5;241m.\u001b[39mto_numeric(s\u001b[38;5;241m.\u001b[39mastype(\u001b[38;5;28mstr\u001b[39m)\u001b[38;5;241m.\u001b[39mstr\u001b[38;5;241m.\u001b[39mreplace(\u001b[38;5;124m\"\u001b[39m\u001b[38;5;124m,\u001b[39m\u001b[38;5;124m\"\u001b[39m, \u001b[38;5;124m\"\u001b[39m\u001b[38;5;124m\"\u001b[39m)\u001b[38;5;241m.\u001b[39mreplace(\u001b[38;5;124m\"\u001b[39m\u001b[38;5;124m+\u001b[39m\u001b[38;5;124m\"\u001b[39m, \u001b[38;5;124m\"\u001b[39m\u001b[38;5;124m1\u001b[39m\u001b[38;5;124m\"\u001b[39m)\u001b[38;5;241m.\u001b[39mreplace(\u001b[38;5;124m\"\u001b[39m\u001b[38;5;124m-\u001b[39m\u001b[38;5;124m\"\u001b[39m, \u001b[38;5;124m\"\u001b[39m\u001b[38;5;124m-1\u001b[39m\u001b[38;5;124m\"\u001b[39m), errors\u001b[38;5;241m=\u001b[39m\u001b[38;5;124m'\u001b[39m\u001b[38;5;124mcoerce\u001b[39m\u001b[38;5;124m'\u001b[39m))\n",
      "\u001b[1;31mValueError\u001b[0m: True is not in list"
     ]
    }
   ],
   "source": [
    "stock_value(now_day)"
   ]
  },
  {
   "cell_type": "code",
   "execution_count": null,
   "metadata": {},
   "outputs": [],
   "source": [
    "\n",
    "#取出上市個股數值\n",
    "for i in range(100):\n",
    "    try:\n",
    "        df_last_month=stock_value(predict_day)\n",
    "        break\n",
    "    except:\n",
    "        \n",
    "        from datetime import datetime\n",
    "        edit_time=datetime.strptime(predict_day, \"%Y%m%d\")\n",
    "        import datetime\n",
    "        predict_day= (edit_time+datetime.timedelta(days=+1)).strftime(\"%Y%m%d\")\n",
    "        print(predict_day)\n",
    "        \n",
    "for i in range(100):\n",
    "    try:\n",
    "        df_now=stock_value(now_day)\n",
    "        break\n",
    "    except:\n",
    "        from datetime import datetime\n",
    "        edit_time=datetime.strptime(now_day, \"%Y%m%d\")\n",
    "        import datetime\n",
    "        now_day= (edit_time+datetime.timedelta(days=-1)).strftime(\"%Y%m%d\")\n",
    "        print(now_day)"
   ]
  },
  {
   "cell_type": "code",
   "execution_count": null,
   "metadata": {},
   "outputs": [],
   "source": []
  },
  {
   "cell_type": "code",
   "execution_count": null,
   "metadata": {},
   "outputs": [],
   "source": []
  },
  {
   "cell_type": "code",
   "execution_count": null,
   "metadata": {},
   "outputs": [],
   "source": [
    "import numpy as np\n",
    "import sqlite3\n",
    "import pandas as pd\n",
    "import csv\n",
    "from datetime import datetime, timedelta\n",
    "import time\n",
    "import datetime\n",
    "import requests\n",
    "from io import StringIO\n",
    "\n",
    "\n",
    "\n",
    "\n",
    "#抓取現在的時間\n",
    "def take_time():\n",
    "    from time import gmtime, strftime\n",
    "    a=strftime(\"%Y%m%d\", gmtime())\n",
    "    return a[0:4],a[4:6],a[6:8]\n",
    "    \n",
    "    \n",
    "\n",
    "# 抓上市公司股價\n",
    "def stock_value(datestr):\n",
    "    #把當月11號的台股資訊 更新\n",
    "    #datestr = '20200911'\n",
    "    # 下載股價\n",
    "    r = requests.post('https://www.twse.com.tw/exchangeReport/MI_INDEX?response=csv&date=' + datestr + '&type=ALL')\n",
    "    # 整理資料，變成表格\n",
    "    df = pd.read_csv(StringIO(r.text.replace(\"=\", \"\")), \n",
    "                header=[\"證券代號\" in l for l in r.text.split(\"\\n\")].index(True)-1)\n",
    "    # 整理一些字串：\n",
    "    df = df.apply(lambda s: pd.to_numeric(s.astype(str).str.replace(\",\", \"\").replace(\"+\", \"1\").replace(\"-\", \"-1\"), errors='coerce'))\n",
    "    # 顯示出來\n",
    "    #df.head()\n",
    "    return df\n",
    "\n",
    "\n",
    "\n",
    "\n",
    "#抓上櫃公司股價\n",
    "def stock_value2(datestr):\n",
    "    link = 'http://www.tpex.org.tw/web/stock/aftertrading/daily_close_quotes/stk_quote_download.php?l=zh-tw&d='+datestr+'&s=0,asc,0'\n",
    "    r = requests.get(link)\n",
    "    r.ok\n",
    "    lines = r.text.replace('\\r', '').split('\\n')\n",
    "    df = pd.read_csv(StringIO(\"\\n\".join(lines[3:])), header=None)\n",
    "    #df.head()\n",
    "    df.columns = list(map(lambda l: l.replace(' ',''), lines[2].split(',')))\n",
    "    #df.index = df['代號']\n",
    "    #df = df.drop(['代號'], axis=1)\n",
    "    #df.head()\n",
    "    return df\n",
    "\n",
    "#拿上市收盤價資料\n",
    "def take_value(df,id):\n",
    "    take_info=df[pd.to_numeric(df['證券代號'], errors='coerce') == id]\n",
    "    value=float(take_info[\"收盤價\"].values)\n",
    "    return value\n",
    "#拿上櫃收盤價資料\n",
    "def take_value2(df,id):\n",
    "    take_info=df[pd.to_numeric(df['代號'], errors='coerce') == id]\n",
    "    value=float(take_info[\"收盤\"].values)\n",
    "    return value\n",
    "\n",
    "def change_parameter(save_list):\n",
    "    final_update=now_day[:4]+\"-\"+now_day[4:6]+\"-\"+now_day[6:8]\n",
    "    name=search_name(now_list[i][0]).replace(\"\\u3000\", \" \")\n",
    "    start_date=predict_day[:4]+\"-\"+predict_day[4:6]+\"-\"+predict_day[6:8]\n",
    "    start_price=now_list[i][2]\n",
    "    \n",
    "    current_price=now_list[i][3]\n",
    "\n",
    "    now_return=(float(current_price)-float(start_price))/float(start_price)\n",
    "    now_return= round(now_return*100,2)\n",
    "\n",
    "    if float(now_return)>0:\n",
    "        types=\"+\"\n",
    "    else:\n",
    "        types=\"-\"\n",
    "    return final_update,name,start_date,start_price,current_price,now_return,types\n",
    "\n",
    "#查詢list in str\n",
    "#any('1101' in item for item in a)\n",
    "#查詢list in str\n",
    "def search_name(name):\n",
    "    company=[]\n",
    "    df = pd.read_csv('公司/上市.csv')  \n",
    "    a=df[\"有價證券代號及名稱\"].tolist()\n",
    "    df = pd.read_csv('公司/上櫃.csv')  \n",
    "    b=df[\"有價證券代號及名稱\"].tolist()\n",
    "    df = pd.read_csv('公司/興櫃.csv')  \n",
    "    c=df[\"有價證券代號及名稱\"].tolist()\n",
    "    for i in a:\n",
    "        if i.__contains__(name) :\n",
    "            company=i\n",
    "            #print(i, \" is containing\")\n",
    "    for i in b:\n",
    "        if i.__contains__(name) :\n",
    "            company=i\n",
    "            #print(i, \" is containing\")\n",
    "    for i in c:\n",
    "        if i.__contains__(name) :\n",
    "            company=i\n",
    "            #print(i, \" is containing\")\n",
    "    return company\n",
    "\n",
    "\n",
    "\n",
    "with open('data.txt', 'r') as f:\n",
    "    myNames = [line.strip() for line in f]\n",
    "    \n",
    "txt=myNames[0]+\"-2\"\n",
    "#txt = input('請輸入你文件的名稱：')\n",
    "\n",
    "## Open file   把當月份的代號txt  拿出來\n",
    "doc_name=txt+\".txt\"\n",
    "fp = open(doc_name, \"r\")\n",
    "line = fp.readline()\n",
    "month_predict=[]\n",
    "## 用 while 逐行讀取檔案內容，直至檔案結尾\n",
    "while line:\n",
    "#    print (line)\n",
    "    line=line.replace(\" \",\"\")\n",
    "    month_predict.append(line.replace(\"\\n\",\"\"))\n",
    "    line = fp.readline()\n",
    "fp.close()\n",
    "\n",
    "\n",
    "\n",
    "nowyear,nowmonth,nowday=take_time()\n",
    "\n",
    "\n",
    "# nowyear = input('請輸入今天的年份：')\n",
    "# nowmonth = input('請輸入今天的月份：')\n",
    "# nowday = input('請輸入今天的日期：')\n",
    "\n",
    "predictyear=myNames[0][0:4]\n",
    "predictmonth=myNames[0][4:6]\n",
    "\n",
    "#predictyear = input('請輸入預測的年份：')\n",
    "#predictmonth = input('請輸入預測的月份：')\n",
    "\n",
    "predict_day=predictyear+\"-\"+predictmonth+\"-\"+\"11\"\n",
    "now_day=nowyear+\"-\"+nowmonth+\"-\"+nowday\n",
    "\n",
    "\n",
    "\n",
    "\n",
    "\n",
    "\n",
    "over_date=predictyear+\"-\"+str(int(predictmonth)+1)+\"-\"+\"11\"\n",
    "\n",
    "\n",
    "\n",
    "\n",
    "\n"
   ]
  },
  {
   "cell_type": "code",
   "execution_count": null,
   "metadata": {},
   "outputs": [],
   "source": [
    "month_predict[14]"
   ]
  },
  {
   "cell_type": "code",
   "execution_count": null,
   "metadata": {},
   "outputs": [],
   "source": [
    "now_day"
   ]
  },
  {
   "cell_type": "code",
   "execution_count": null,
   "metadata": {},
   "outputs": [],
   "source": [
    "import yfinance as yf\n",
    "def get_price_difference(stock_symbol, start_date, end_date):\n",
    "    # 抓取指定股票的歷史數據\n",
    "    stock_data = yf.download(stock_symbol, start=start_date, end=end_date)\n",
    "    \n",
    "    # 檢查資料是否正確抓取\n",
    "    if stock_data.empty:\n",
    "        return \"No data found for {stock_symbol} between {start_date} and {end_date}.\"\n",
    "    \n",
    "    # 獲取起始日期與結束日期的收盤價\n",
    "    start_price = stock_data['Close'].iloc[0]\n",
    "    end_price = stock_data['Close'].iloc[-1]\n",
    "    \n",
    "    # 計算價格差\n",
    "    price_difference = end_price - start_price\n",
    "\n",
    "    # 結果輸出\n",
    "    return {\n",
    "        \"start_date\": start_date,\n",
    "        \"end_date\": end_date,\n",
    "        \"start_price\": start_price,\n",
    "        \"end_price\": end_price,\n",
    "        \"price_difference\": price_difference\n",
    "    }\n"
   ]
  },
  {
   "cell_type": "code",
   "execution_count": null,
   "metadata": {},
   "outputs": [],
   "source": [
    "start_date,end_date"
   ]
  },
  {
   "cell_type": "code",
   "execution_count": null,
   "metadata": {},
   "outputs": [],
   "source": [
    "now_list=[]\n",
    "#for i in range(len(month_predict)):\n",
    "for i in range(1):\n",
    "    final_update=now_day\n",
    "    name=search_name(month_predict[14]).replace(\"\\u3000\", \" \")\n",
    "    start_date=predict_day\n",
    "    end_date=now_day\n",
    "    \n",
    "    try:\n",
    "        stock_symbol=month_predict[14]+\".TW\"\n",
    "        result = get_price_difference(stock_symbol, start_date, end_date)\n",
    "        start_price= result[\"start_price\"]\n",
    "        current_price=result[\"end_price\"]\n",
    "    except:\n",
    "        stock_symbol=month_predict[14]+\".TWO\"\n",
    "        result = get_price_difference(stock_symbol, start_date, end_date)\n",
    "        start_price= result[\"start_price\"]\n",
    "        current_price=result[\"end_price\"]\n",
    "        \n",
    "    now_return=(float(current_price)-float(start_price))/float(start_price)\n",
    "    now_return= round(now_return*100,2)\n",
    "\n",
    "    if float(now_return)>0:\n",
    "        types=\"+\"\n",
    "    else:\n",
    "        types=\"-\"\n",
    "    \n",
    "    if predictmonth==\"12\":\n",
    "        predictmonth=\"01\"  \n",
    "        over_date=predictyear+\"-\"+str(int(predictmonth))+\"-\"+\"11\" \n",
    "    else:\n",
    "        over_date=predictyear+\"-\"+str(int(predictmonth)+1)+\"-\"+\"11\" \n",
    "    \n",
    "    "
   ]
  },
  {
   "cell_type": "code",
   "execution_count": null,
   "metadata": {},
   "outputs": [],
   "source": []
  },
  {
   "cell_type": "code",
   "execution_count": null,
   "metadata": {},
   "outputs": [],
   "source": [
    "result"
   ]
  },
  {
   "cell_type": "code",
   "execution_count": null,
   "metadata": {},
   "outputs": [],
   "source": [
    "start_date"
   ]
  },
  {
   "cell_type": "code",
   "execution_count": null,
   "metadata": {},
   "outputs": [],
   "source": [
    "stock_symbol=month_predict[14]+\".TWO\"\n",
    "get_price_difference(stock_symbol, start_date, \"2024-10-26\")"
   ]
  },
  {
   "cell_type": "code",
   "execution_count": 10,
   "metadata": {},
   "outputs": [
    {
     "name": "stderr",
     "output_type": "stream",
     "text": [
      "\r",
      "[*********************100%%**********************]  1 of 1 completed"
     ]
    },
    {
     "name": "stdout",
     "output_type": "stream",
     "text": [
      "{'start_date': '2024-12-11', 'end_date': '2024-12-24', 'start_price': 1045.0, 'end_price': 1080.0, 'price_difference': 35.0}\n"
     ]
    },
    {
     "name": "stderr",
     "output_type": "stream",
     "text": [
      "\n"
     ]
    }
   ],
   "source": [
    "def get_price_difference(stock_symbol, start_date, end_date):\n",
    "    # 抓取指定股票的歷史數據\n",
    "    stock_data = yf.download(stock_symbol, start=start_date, end=end_date)\n",
    "    \n",
    "    # 檢查資料是否正確抓取\n",
    "    if stock_data.empty:\n",
    "        return f\"No data found for {stock_symbol} between {start_date} and {end_date}.\"\n",
    "    \n",
    "    # 獲取起始日期與結束日期的收盤價\n",
    "    start_price = stock_data['Close'].iloc[0]\n",
    "    end_price = stock_data['Close'].iloc[-1]\n",
    "    \n",
    "    # 計算價格差\n",
    "    price_difference = end_price - start_price\n",
    "\n",
    "    # 結果輸出\n",
    "    return {\n",
    "        \"start_date\": start_date,\n",
    "        \"end_date\": end_date,\n",
    "        \"start_price\": round(start_price,2),\n",
    "        \"end_price\": round(end_price,2),\n",
    "        \"price_difference\": price_difference\n",
    "    }\n",
    "\n",
    "# 範例使用方式\n",
    "stock_symbol = '2330.TW'  # 指定股票代碼，例如蘋果公司的股票代碼為 AAPL\n",
    "start_date = '2024-12-11'  # 指定開始日期\n",
    "end_date = '2024-12-24'    # 指定結束日期\n",
    "\n",
    "result = get_price_difference(stock_symbol, start_date, end_date)\n",
    "print(result)"
   ]
  },
  {
   "cell_type": "code",
   "execution_count": 7,
   "metadata": {},
   "outputs": [
    {
     "ename": "TypeError",
     "evalue": "string indices must be integers",
     "output_type": "error",
     "traceback": [
      "\u001b[1;31m---------------------------------------------------------------------------\u001b[0m",
      "\u001b[1;31mTypeError\u001b[0m                                 Traceback (most recent call last)",
      "Input \u001b[1;32mIn [7]\u001b[0m, in \u001b[0;36m<cell line: 1>\u001b[1;34m()\u001b[0m\n\u001b[1;32m----> 1\u001b[0m \u001b[43mresult\u001b[49m\u001b[43m[\u001b[49m\u001b[38;5;124;43m\"\u001b[39;49m\u001b[38;5;124;43mstart_price\u001b[39;49m\u001b[38;5;124;43m\"\u001b[39;49m\u001b[43m]\u001b[49m\n",
      "\u001b[1;31mTypeError\u001b[0m: string indices must be integers"
     ]
    }
   ],
   "source": [
    "result[\"start_price\"]"
   ]
  },
  {
   "cell_type": "code",
   "execution_count": 24,
   "metadata": {},
   "outputs": [
    {
     "data": {
      "text/plain": [
       "'2330\\u3000台積電'"
      ]
     },
     "execution_count": 24,
     "metadata": {},
     "output_type": "execute_result"
    }
   ],
   "source": []
  },
  {
   "cell_type": "code",
   "execution_count": 16,
   "metadata": {},
   "outputs": [
    {
     "data": {
      "text/plain": [
       "'20241223'"
      ]
     },
     "execution_count": 16,
     "metadata": {},
     "output_type": "execute_result"
    }
   ],
   "source": [
    "now_day"
   ]
  },
  {
   "cell_type": "code",
   "execution_count": 22,
   "metadata": {},
   "outputs": [],
   "source": [
    "def change(now_day):\n",
    "    from datetime import datetime, timedelta\n",
    "\n",
    "\n",
    "    # 將字串轉換為日期物件\n",
    "    date_obj = datetime.strptime(now_day, \"%Y-%m-%d\")\n",
    "\n",
    "    # 加一天\n",
    "    next_day = date_obj + timedelta(days=1)\n",
    "\n",
    "    # 將日期物件轉換回字串\n",
    "    next_day_str = next_day.strftime(\"%Y-%m-%d\")\n",
    "    print (next_day_str)"
   ]
  },
  {
   "cell_type": "code",
   "execution_count": 23,
   "metadata": {},
   "outputs": [
    {
     "name": "stdout",
     "output_type": "stream",
     "text": [
      "20241224\n"
     ]
    }
   ],
   "source": [
    "change(now_day)"
   ]
  },
  {
   "cell_type": "code",
   "execution_count": null,
   "metadata": {},
   "outputs": [],
   "source": []
  }
 ],
 "metadata": {
  "kernelspec": {
   "display_name": "Python 3 (ipykernel)",
   "language": "python",
   "name": "python3"
  },
  "language_info": {
   "codemirror_mode": {
    "name": "ipython",
    "version": 3
   },
   "file_extension": ".py",
   "mimetype": "text/x-python",
   "name": "python",
   "nbconvert_exporter": "python",
   "pygments_lexer": "ipython3",
   "version": "3.8.10"
  }
 },
 "nbformat": 4,
 "nbformat_minor": 4
}

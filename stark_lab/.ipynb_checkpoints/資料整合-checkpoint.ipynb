{
 "cells": [
  {
   "cell_type": "code",
   "execution_count": 74,
   "metadata": {},
   "outputs": [],
   "source": [
    "import numpy as np\n",
    "import sqlite3\n",
    "import pandas as pd\n",
    "import csv\n",
    "from datetime import datetime, timedelta\n",
    "import time\n",
    "import datetime\n",
    "import requests\n",
    "from io import StringIO"
   ]
  },
  {
   "cell_type": "code",
   "execution_count": 90,
   "metadata": {},
   "outputs": [],
   "source": [
    "save_list=np.load(\"save_list.npy\")\n",
    "now_list=np.load(\"now.npy\")"
   ]
  },
  {
   "cell_type": "code",
   "execution_count": 76,
   "metadata": {},
   "outputs": [
    {
     "name": "stdout",
     "output_type": "stream",
     "text": [
      "請輸入你文件的名稱：911-2\n"
     ]
    }
   ],
   "source": [
    "txt = input('請輸入你文件的名稱：')\n",
    "\n",
    "## Open file   把當月份的代號txt  拿出來\n",
    "doc_name=txt+\".txt\"\n",
    "fp = open(doc_name, \"r\")\n",
    "line = fp.readline()\n",
    "month_predict=[]\n",
    "## 用 while 逐行讀取檔案內容，直至檔案結尾\n",
    "while line:\n",
    "#    print (line)\n",
    "    line=line.replace(\" \",\"\")\n",
    "    month_predict.append(line.replace(\"\\n\",\"\"))\n",
    "    line = fp.readline()\n",
    "fp.close()"
   ]
  },
  {
   "cell_type": "code",
   "execution_count": 77,
   "metadata": {},
   "outputs": [],
   "source": [
    "# 抓上市公司股價\n",
    "def stock_value(datestr):\n",
    "    #把當月11號的台股資訊 更新\n",
    "    #datestr = '20200911'\n",
    "    # 下載股價\n",
    "    r = requests.post('https://www.twse.com.tw/exchangeReport/MI_INDEX?response=csv&date=' + datestr + '&type=ALL')\n",
    "    # 整理資料，變成表格\n",
    "    df = pd.read_csv(StringIO(r.text.replace(\"=\", \"\")), \n",
    "                header=[\"證券代號\" in l for l in r.text.split(\"\\n\")].index(True)-1)\n",
    "    # 整理一些字串：\n",
    "    df = df.apply(lambda s: pd.to_numeric(s.astype(str).str.replace(\",\", \"\").replace(\"+\", \"1\").replace(\"-\", \"-1\"), errors='coerce'))\n",
    "    # 顯示出來\n",
    "    #df.head()\n",
    "    return df"
   ]
  },
  {
   "cell_type": "code",
   "execution_count": 78,
   "metadata": {},
   "outputs": [],
   "source": [
    "#抓上櫃公司股價\n",
    "def stock_value2(datestr):\n",
    "    link = 'http://www.tpex.org.tw/web/stock/aftertrading/daily_close_quotes/stk_quote_download.php?l=zh-tw&d='+datestr+'&s=0,asc,0'\n",
    "    r = requests.get(link)\n",
    "    r.ok\n",
    "    lines = r.text.replace('\\r', '').split('\\n')\n",
    "    df = pd.read_csv(StringIO(\"\\n\".join(lines[3:])), header=None)\n",
    "    #df.head()\n",
    "    df.columns = list(map(lambda l: l.replace(' ',''), lines[2].split(',')))\n",
    "    #df.index = df['代號']\n",
    "    #df = df.drop(['代號'], axis=1)\n",
    "    #df.head()\n",
    "    return df\n"
   ]
  },
  {
   "cell_type": "code",
   "execution_count": null,
   "metadata": {},
   "outputs": [],
   "source": []
  },
  {
   "cell_type": "code",
   "execution_count": 55,
   "metadata": {},
   "outputs": [],
   "source": [
    "predict_day='20200911'\n",
    "now_day=\"20200930\""
   ]
  },
  {
   "cell_type": "code",
   "execution_count": 57,
   "metadata": {},
   "outputs": [],
   "source": [
    "df_last_month=stock_value('20200911')\n",
    "df_now=stock_value('20200930')"
   ]
  },
  {
   "cell_type": "code",
   "execution_count": 58,
   "metadata": {},
   "outputs": [],
   "source": [
    "df2_last_month=stock_value2(\"109/09/11\")\n",
    "df2_now=stock_value2('109/09/30')"
   ]
  },
  {
   "cell_type": "code",
   "execution_count": 79,
   "metadata": {},
   "outputs": [
    {
     "data": {
      "text/plain": [
       "['2882',\n",
       " '1303',\n",
       " '5519',\n",
       " '3045',\n",
       " '3529',\n",
       " '2881',\n",
       " '6165',\n",
       " '3443',\n",
       " '2107',\n",
       " '2883',\n",
       " '2834',\n",
       " '1605',\n",
       " '8299',\n",
       " '8928',\n",
       " '2439',\n",
       " '3323',\n",
       " '6147',\n",
       " '8938',\n",
       " '1216',\n",
       " '6005']"
      ]
     },
     "execution_count": 79,
     "metadata": {},
     "output_type": "execute_result"
    }
   ],
   "source": [
    "month_predict"
   ]
  },
  {
   "cell_type": "code",
   "execution_count": 80,
   "metadata": {},
   "outputs": [
    {
     "name": "stdout",
     "output_type": "stream",
     "text": [
      "2882.0\n",
      "1303.0\n",
      "5519.0\n",
      "3045.0\n",
      "2881.0\n",
      "6165.0\n",
      "3443.0\n",
      "2107.0\n",
      "2883.0\n",
      "2834.0\n",
      "1605.0\n",
      "2439.0\n",
      "1216.0\n",
      "6005.0\n"
     ]
    }
   ],
   "source": [
    "df=df_now\n",
    "for i in range(len(month_predict)):\n",
    "    a=df[pd.to_numeric(df['證券代號'], errors='coerce') == float(month_predict[i])]\n",
    "    try:\n",
    "        b=a.values.tolist()[0]\n",
    "        print(b[0])\n",
    "    except:\n",
    "        pass"
   ]
  },
  {
   "cell_type": "code",
   "execution_count": 81,
   "metadata": {},
   "outputs": [],
   "source": [
    "#拿上市收盤價資料\n",
    "def take_value(df,id):\n",
    "    take_info=df[pd.to_numeric(df['證券代號'], errors='coerce') == id]\n",
    "    value=float(take_info[\"收盤價\"].values)\n",
    "    return value\n",
    "#拿上櫃收盤價資料\n",
    "def take_value2(df,id):\n",
    "    take_info=df[pd.to_numeric(df['代號'], errors='coerce') == id]\n",
    "    value=float(take_info[\"收盤\"].values)\n",
    "    return value"
   ]
  },
  {
   "cell_type": "code",
   "execution_count": 82,
   "metadata": {},
   "outputs": [],
   "source": [
    "#把預測的股票價錢都拿出來\n",
    "now_list=[]\n",
    "for i in range(len(month_predict)):\n",
    "    temp=[]\n",
    "    index=float(month_predict[i])\n",
    "    #print(type(index),index)\n",
    "    try:\n",
    "        start_value=take_value(df_last_month,index)\n",
    "        end_value=take_value(df_now,index)\n",
    "    except:\n",
    "        start_value=take_value2(df2_last_month,index)\n",
    "        end_value=take_value2(df2_now,index)\n",
    "    #print(i,str(index).replace(\".0\",\"\"),start_value,end_value)\n",
    "    temp.append(str(index).replace(\".0\",\"\"))\n",
    "    temp.append(\"\")\n",
    "    temp.append(start_value)\n",
    "    temp.append(end_value)\n",
    "    now_list.append(temp)"
   ]
  },
  {
   "cell_type": "code",
   "execution_count": 83,
   "metadata": {},
   "outputs": [
    {
     "data": {
      "text/plain": [
       "[['2882', '', 39.9, 38.6],\n",
       " ['1303', '', 60.8, 59.5],\n",
       " ['5519', '', 15.05, 14.35],\n",
       " ['3045', '', 100.5, 96.6],\n",
       " ['3529', '', 499.0, 510.0],\n",
       " ['2881', '', 43.45, 41.9],\n",
       " ['6165', '', 58.1, 71.1],\n",
       " ['3443', '', 259.0, 260.0],\n",
       " ['2107', '', 21.2, 19.75],\n",
       " ['2883', '', 8.77, 8.51],\n",
       " ['2834', '', 9.93, 9.54],\n",
       " ['1605', '', 16.55, 16.05],\n",
       " ['8299', '', 273.0, 264.5],\n",
       " ['8928', '', 30.85, 30.15],\n",
       " ['2439', '', 152.0, 148.0],\n",
       " ['3323', '', 41.8, 42.85],\n",
       " ['6147', '', 57.2, 63.4],\n",
       " ['8938', '', 38.5, 39.15],\n",
       " ['1216', '', 66.0, 62.5],\n",
       " ['6005', '', 10.9, 10.75]]"
      ]
     },
     "execution_count": 83,
     "metadata": {},
     "output_type": "execute_result"
    }
   ],
   "source": [
    "#得到代號 空白   當月11號價格   現在價格\n",
    "now_list"
   ]
  },
  {
   "cell_type": "code",
   "execution_count": null,
   "metadata": {},
   "outputs": [],
   "source": []
  },
  {
   "cell_type": "code",
   "execution_count": null,
   "metadata": {},
   "outputs": [],
   "source": []
  },
  {
   "cell_type": "code",
   "execution_count": null,
   "metadata": {},
   "outputs": [],
   "source": []
  },
  {
   "cell_type": "code",
   "execution_count": null,
   "metadata": {},
   "outputs": [],
   "source": []
  },
  {
   "cell_type": "code",
   "execution_count": null,
   "metadata": {},
   "outputs": [],
   "source": []
  },
  {
   "cell_type": "code",
   "execution_count": null,
   "metadata": {},
   "outputs": [],
   "source": []
  },
  {
   "cell_type": "code",
   "execution_count": null,
   "metadata": {},
   "outputs": [],
   "source": []
  },
  {
   "cell_type": "code",
   "execution_count": 86,
   "metadata": {},
   "outputs": [],
   "source": []
  },
  {
   "cell_type": "code",
   "execution_count": null,
   "metadata": {},
   "outputs": [],
   "source": []
  },
  {
   "cell_type": "code",
   "execution_count": null,
   "metadata": {},
   "outputs": [],
   "source": []
  },
  {
   "cell_type": "code",
   "execution_count": null,
   "metadata": {},
   "outputs": [],
   "source": []
  },
  {
   "cell_type": "code",
   "execution_count": null,
   "metadata": {},
   "outputs": [],
   "source": []
  },
  {
   "cell_type": "code",
   "execution_count": null,
   "metadata": {},
   "outputs": [],
   "source": []
  },
  {
   "cell_type": "code",
   "execution_count": 84,
   "metadata": {},
   "outputs": [],
   "source": [
    "#查詢list in str\n",
    "#any('1101' in item for item in a)\n",
    "#查詢list in str\n",
    "def search_name(name):\n",
    "    company=[]\n",
    "    df = pd.read_csv('公司/上市.csv')  \n",
    "    a=df[\"有價證券代號及名稱\"].tolist()\n",
    "    df = pd.read_csv('公司/上櫃.csv')  \n",
    "    b=df[\"有價證券代號及名稱\"].tolist()\n",
    "    df = pd.read_csv('公司/興櫃.csv')  \n",
    "    c=df[\"有價證券代號及名稱\"].tolist()\n",
    "    for i in a:\n",
    "        if i.__contains__(name) :\n",
    "            company=i\n",
    "            #print(i, \" is containing\")\n",
    "    for i in b:\n",
    "        if i.__contains__(name) :\n",
    "            company=i\n",
    "            #print(i, \" is containing\")\n",
    "    for i in c:\n",
    "        if i.__contains__(name) :\n",
    "            company=i\n",
    "            #print(i, \" is containing\")\n",
    "    return company"
   ]
  },
  {
   "cell_type": "code",
   "execution_count": 85,
   "metadata": {},
   "outputs": [],
   "source": [
    "#不要亂執行   拿來刪檔案用得\n",
    "db =  sqlite3.connect('db.sqlite3')\n",
    "##db.execute(\"INSERT INTO type_data (tag)   VALUES ('{}')\".format(data))\n",
    "db.execute(\"delete from basicHistory\")\n",
    "db.commit()\n",
    "db =  sqlite3.connect('db.sqlite3')\n",
    "##db.execute(\"INSERT INTO type_data (tag)   VALUES ('{}')\".format(data))\n",
    "#db.execute(\"delete from technicHistory\")\n",
    "db.commit()"
   ]
  },
  {
   "cell_type": "code",
   "execution_count": 86,
   "metadata": {},
   "outputs": [],
   "source": [
    "def change_parameter(save_list):\n",
    "    final_update=now_day[:4]+\"-\"+now_day[4:6]+\"-\"+now_day[6:8]\n",
    "    name=search_name(now_list[i][0]).replace(\"\\u3000\", \" \")\n",
    "    start_date=predict_day[:4]+\"-\"+predict_day[4:6]+\"-\"+predict_day[6:8]\n",
    "    start_price=now_list[i][2]\n",
    "    over_date=\"2020-10-10\"\n",
    "    current_price=now_list[i][3]\n",
    "\n",
    "    now_return=(float(current_price)-float(start_price))/float(start_price)\n",
    "    now_return= round(now_return*100,2)\n",
    "\n",
    "    if float(now_return)>0:\n",
    "        types=\"+\"\n",
    "    else:\n",
    "        types=\"-\"\n",
    "    return final_update,name,start_date,start_price,over_date,current_price,now_return,types"
   ]
  },
  {
   "cell_type": "code",
   "execution_count": 87,
   "metadata": {},
   "outputs": [
    {
     "data": {
      "text/plain": [
       "('2020-09-30', '6005 群益證', '2020-09-11', 10.9, '2020-10-10', 10.75, -1.38, '-')"
      ]
     },
     "execution_count": 87,
     "metadata": {},
     "output_type": "execute_result"
    }
   ],
   "source": [
    "change_parameter(now_list[1])"
   ]
  },
  {
   "cell_type": "code",
   "execution_count": 88,
   "metadata": {},
   "outputs": [
    {
     "name": "stdout",
     "output_type": "stream",
     "text": [
      "2020-09-30 2882 國泰金 2020-09-11 39.9 2020-10-10 38.6 -3.26 -\n",
      "2020-09-30 1303 南亞 2020-09-11 60.8 2020-10-10 59.5 -2.14 -\n",
      "2020-09-30 5519 隆大 2020-09-11 15.05 2020-10-10 14.35 -4.65 -\n",
      "2020-09-30 3045 台灣大 2020-09-11 100.5 2020-10-10 96.6 -3.88 -\n",
      "2020-09-30 3529 力旺 2020-09-11 499.0 2020-10-10 510.0 2.2 +\n",
      "2020-09-30 2881 富邦金 2020-09-11 43.45 2020-10-10 41.9 -3.57 -\n",
      "2020-09-30 6165 捷泰 2020-09-11 58.1 2020-10-10 71.1 22.38 +\n",
      "2020-09-30 3443 創意 2020-09-11 259.0 2020-10-10 260.0 0.39 +\n",
      "2020-09-30 2107 厚生 2020-09-11 21.2 2020-10-10 19.75 -6.84 -\n",
      "2020-09-30 2883 開發金 2020-09-11 8.77 2020-10-10 8.51 -2.96 -\n",
      "2020-09-30 2834 臺企銀 2020-09-11 9.93 2020-10-10 9.54 -3.93 -\n",
      "2020-09-30 1605 華新 2020-09-11 16.55 2020-10-10 16.05 -3.02 -\n",
      "2020-09-30 8299 群聯 2020-09-11 273.0 2020-10-10 264.5 -3.11 -\n",
      "2020-09-30 8928 鉅明 2020-09-11 30.85 2020-10-10 30.15 -2.27 -\n",
      "2020-09-30 2439 美律 2020-09-11 152.0 2020-10-10 148.0 -2.63 -\n",
      "2020-09-30 3323 加百裕 2020-09-11 41.8 2020-10-10 42.85 2.51 +\n",
      "2020-09-30 6147 頎邦 2020-09-11 57.2 2020-10-10 63.4 10.84 +\n",
      "2020-09-30 8938 明安 2020-09-11 38.5 2020-10-10 39.15 1.69 +\n",
      "2020-09-30 1216 統一 2020-09-11 66.0 2020-10-10 62.5 -5.3 -\n",
      "2020-09-30 6005 群益證 2020-09-11 10.9 2020-10-10 10.75 -1.38 -\n"
     ]
    }
   ],
   "source": [
    "# 更新月營收策略  當月股價\n",
    "for i in range(len(now_list)):\n",
    "    final_update,name,start_date,start_price,over_date,current_price,now_return,types=change_parameter(now_list[i]) \n",
    "    print(final_update,name,start_date,start_price,over_date,current_price,now_return,types)"
   ]
  },
  {
   "cell_type": "code",
   "execution_count": 89,
   "metadata": {},
   "outputs": [],
   "source": [
    "# 更新月營收策略  當月股價\n",
    "db =  sqlite3.connect('db.sqlite3')\n",
    "#db.execute(\"INSERT INTO type_data (tag)   VALUES ('{}')\".format(data))\n",
    "db.execute(\"delete from basicCurrent\")\n",
    "db.commit()\n",
    "pk=1\n",
    "for i in range(len(now_list)):\n",
    "    final_update,name,start_date,start_price,over_date,current_price,now_return,types=change_parameter(now_list[i]) \n",
    "    db =  sqlite3.connect('db.sqlite3')\n",
    "    db.execute(\"INSERT INTO basicCurrent (id,final_update,stock_name,start_date,start_price,over_date,current_price,now_return,type)   VALUES ('{}','{}','{}','{}','{}','{}','{}','{}','{}')\".format(pk,final_update,name,start_date,start_price,over_date,current_price,now_return,types))\n",
    "    db.commit()\n",
    "    db.close()\n",
    "    pk=pk+1"
   ]
  },
  {
   "cell_type": "code",
   "execution_count": null,
   "metadata": {},
   "outputs": [],
   "source": []
  },
  {
   "cell_type": "code",
   "execution_count": null,
   "metadata": {},
   "outputs": [],
   "source": []
  },
  {
   "cell_type": "code",
   "execution_count": null,
   "metadata": {},
   "outputs": [],
   "source": []
  },
  {
   "cell_type": "code",
   "execution_count": null,
   "metadata": {},
   "outputs": [],
   "source": []
  },
  {
   "cell_type": "code",
   "execution_count": null,
   "metadata": {},
   "outputs": [],
   "source": []
  },
  {
   "cell_type": "code",
   "execution_count": null,
   "metadata": {},
   "outputs": [],
   "source": []
  },
  {
   "cell_type": "code",
   "execution_count": null,
   "metadata": {},
   "outputs": [],
   "source": []
  },
  {
   "cell_type": "code",
   "execution_count": null,
   "metadata": {},
   "outputs": [],
   "source": []
  },
  {
   "cell_type": "code",
   "execution_count": null,
   "metadata": {},
   "outputs": [],
   "source": []
  },
  {
   "cell_type": "code",
   "execution_count": null,
   "metadata": {},
   "outputs": [],
   "source": []
  },
  {
   "cell_type": "code",
   "execution_count": null,
   "metadata": {},
   "outputs": [],
   "source": []
  },
  {
   "cell_type": "code",
   "execution_count": null,
   "metadata": {},
   "outputs": [],
   "source": []
  },
  {
   "cell_type": "code",
   "execution_count": null,
   "metadata": {},
   "outputs": [],
   "source": []
  },
  {
   "cell_type": "code",
   "execution_count": null,
   "metadata": {},
   "outputs": [],
   "source": []
  },
  {
   "cell_type": "code",
   "execution_count": null,
   "metadata": {},
   "outputs": [],
   "source": []
  },
  {
   "cell_type": "code",
   "execution_count": 91,
   "metadata": {},
   "outputs": [],
   "source": [
    "#基本面歷史\n",
    "pk=1\n",
    "for i in range(len(save_list)):\n",
    "    name=search_name(save_list[i][0]).replace(\"\\u3000\", \" \")\n",
    "    start_date=save_list[i][1]\n",
    "    over_date=save_list[i][2]\n",
    "    buy_price=save_list[i][3]\n",
    "    sell_price=save_list[i][4]\n",
    "    return_value=(float(sell_price)-float(buy_price))/float(buy_price)\n",
    "    return_value= round(return_value*100,2)\n",
    "    if return_value>0:\n",
    "        types=\"+\"\n",
    "    else:\n",
    "        types=\"-\"\n",
    "\n",
    "    db =  sqlite3.connect('db.sqlite3')\n",
    "    db.execute(\"INSERT INTO basicHistory (id,stock_name,start_date,buy_price,over_date,sell_price,return_value,type)   VALUES ('{}','{}','{}','{}','{}','{}','{}','{}')\".format(pk,name,start_date,buy_price,over_date,sell_price,return_value,types))\n",
    "    db.commit()\n",
    "    db.close()\n",
    "    pk=pk+1"
   ]
  },
  {
   "cell_type": "code",
   "execution_count": 92,
   "metadata": {},
   "outputs": [
    {
     "ename": "IntegrityError",
     "evalue": "UNIQUE constraint failed: technicHistory.id",
     "output_type": "error",
     "traceback": [
      "\u001b[1;31m---------------------------------------------------------------------------\u001b[0m",
      "\u001b[1;31mIntegrityError\u001b[0m                            Traceback (most recent call last)",
      "\u001b[1;32m<ipython-input-92-0725e79e7be0>\u001b[0m in \u001b[0;36m<module>\u001b[1;34m\u001b[0m\n\u001b[0;32m     15\u001b[0m \u001b[1;33m\u001b[0m\u001b[0m\n\u001b[0;32m     16\u001b[0m     \u001b[0mdb\u001b[0m \u001b[1;33m=\u001b[0m  \u001b[0msqlite3\u001b[0m\u001b[1;33m.\u001b[0m\u001b[0mconnect\u001b[0m\u001b[1;33m(\u001b[0m\u001b[1;34m'db.sqlite3'\u001b[0m\u001b[1;33m)\u001b[0m\u001b[1;33m\u001b[0m\u001b[1;33m\u001b[0m\u001b[0m\n\u001b[1;32m---> 17\u001b[1;33m     \u001b[0mdb\u001b[0m\u001b[1;33m.\u001b[0m\u001b[0mexecute\u001b[0m\u001b[1;33m(\u001b[0m\u001b[1;34m\"INSERT INTO technicHistory (id,stock_name,start_date,buy_price,over_date,sell_price,return_value,type)   VALUES ('{}','{}','{}','{}','{}','{}','{}','{}')\"\u001b[0m\u001b[1;33m.\u001b[0m\u001b[0mformat\u001b[0m\u001b[1;33m(\u001b[0m\u001b[0mpk\u001b[0m\u001b[1;33m,\u001b[0m\u001b[0mname\u001b[0m\u001b[1;33m,\u001b[0m\u001b[0mstart_date\u001b[0m\u001b[1;33m,\u001b[0m\u001b[0mbuy_price\u001b[0m\u001b[1;33m,\u001b[0m\u001b[0mover_date\u001b[0m\u001b[1;33m,\u001b[0m\u001b[0msell_price\u001b[0m\u001b[1;33m,\u001b[0m\u001b[0mreturn_value\u001b[0m\u001b[1;33m,\u001b[0m\u001b[0mtypes\u001b[0m\u001b[1;33m)\u001b[0m\u001b[1;33m)\u001b[0m\u001b[1;33m\u001b[0m\u001b[1;33m\u001b[0m\u001b[0m\n\u001b[0m\u001b[0;32m     18\u001b[0m     \u001b[0mdb\u001b[0m\u001b[1;33m.\u001b[0m\u001b[0mcommit\u001b[0m\u001b[1;33m(\u001b[0m\u001b[1;33m)\u001b[0m\u001b[1;33m\u001b[0m\u001b[1;33m\u001b[0m\u001b[0m\n\u001b[0;32m     19\u001b[0m     \u001b[0mdb\u001b[0m\u001b[1;33m.\u001b[0m\u001b[0mclose\u001b[0m\u001b[1;33m(\u001b[0m\u001b[1;33m)\u001b[0m\u001b[1;33m\u001b[0m\u001b[1;33m\u001b[0m\u001b[0m\n",
      "\u001b[1;31mIntegrityError\u001b[0m: UNIQUE constraint failed: technicHistory.id"
     ]
    }
   ],
   "source": [
    "#技術面歷史\n",
    "pk=1\n",
    "for i in range(len(save_list)):\n",
    "    name=search_name(save_list[i][0]).replace(\"\\u3000\", \" \")\n",
    "    start_date=save_list[i][1]\n",
    "    over_date=save_list[i][2]\n",
    "    buy_price=save_list[i][3]\n",
    "    sell_price=save_list[i][4]\n",
    "    return_value=(float(sell_price)-float(buy_price))/float(buy_price)\n",
    "    return_value= round(return_value*100,2)\n",
    "    if return_value>0:\n",
    "        types=\"+\"\n",
    "    else:\n",
    "        types=\"-\"\n",
    "\n",
    "    db =  sqlite3.connect('db.sqlite3')\n",
    "    db.execute(\"INSERT INTO technicHistory (id,stock_name,start_date,buy_price,over_date,sell_price,return_value,type)   VALUES ('{}','{}','{}','{}','{}','{}','{}','{}')\".format(pk,name,start_date,buy_price,over_date,sell_price,return_value,types))\n",
    "    db.commit()\n",
    "    db.close()\n",
    "    pk=pk+1"
   ]
  },
  {
   "cell_type": "code",
   "execution_count": null,
   "metadata": {},
   "outputs": [],
   "source": []
  },
  {
   "cell_type": "code",
   "execution_count": 40,
   "metadata": {},
   "outputs": [],
   "source": [
    "db =  sqlite3.connect('db.sqlite3')\n",
    "#db.execute(\"INSERT INTO type_data (tag)   VALUES ('{}')\".format(data))\n",
    "db.execute(\"delete from basicCurrent\")\n",
    "db.commit()\n",
    "db =  sqlite3.connect('db.sqlite3')\n",
    "#db.execute(\"INSERT INTO type_data (tag)   VALUES ('{}')\".format(data))\n",
    "#db.execute(\"delete from technicCurrent\")\n",
    "#db.commit()"
   ]
  },
  {
   "cell_type": "code",
   "execution_count": null,
   "metadata": {},
   "outputs": [],
   "source": []
  },
  {
   "cell_type": "code",
   "execution_count": null,
   "metadata": {},
   "outputs": [],
   "source": [
    "db =  sqlite3.connect('db.sqlite3')\n",
    "#db.execute(\"INSERT INTO type_data (tag)   VALUES ('{}')\".format(data))\n",
    "db.execute(\"delete from basicCurrent\")\n",
    "db.commit()"
   ]
  },
  {
   "cell_type": "code",
   "execution_count": 10,
   "metadata": {
    "scrolled": true
   },
   "outputs": [],
   "source": [
    "#基本面現在\n",
    "pk=1\n",
    "for i in range(len(now_list)):\n",
    "    final_update=\"2020-07-14\"\n",
    "    name=search_name(now_list[i][0]).replace(\"\\u3000\", \" \")\n",
    "    start_date=\"2020-07-10\"\n",
    "    start_price=now_list[i][2]\n",
    "    over_date=\"2020-08-14\"\n",
    "    current_price=now_list[i][3]\n",
    "    now_return=now_list[i][1]\n",
    "    if float(now_return)>0:\n",
    "        types=\"+\"\n",
    "    else:\n",
    "        types=\"-\"\n",
    "        \n",
    "        \n",
    "    db =  sqlite3.connect('db.sqlite3')\n",
    "    db.execute(\"INSERT INTO basicCurrent (id,final_update,stock_name,start_date,start_price,over_date,current_price,now_return,type)   VALUES ('{}','{}','{}','{}','{}','{}','{}','{}','{}')\".format(pk,final_update,name,start_date,start_price,over_date,current_price,now_return,types))\n",
    "    db.commit()\n",
    "    db.close()\n",
    "    pk=pk+1"
   ]
  },
  {
   "cell_type": "code",
   "execution_count": 11,
   "metadata": {},
   "outputs": [],
   "source": [
    "#基本面現在\n",
    "pk=1\n",
    "for i in range(len(now_list)):\n",
    "    final_update=\"2020-07-14\"\n",
    "    name=search_name(now_list[i][0]).replace(\"\\u3000\", \" \")\n",
    "    start_date=\"2020-07-10\"\n",
    "    start_price=now_list[i][2]\n",
    "    over_date=\"2020-08-14\"\n",
    "    current_price=now_list[i][3]\n",
    "    now_return=now_list[i][1]\n",
    "    if float(now_return)>0:\n",
    "        types=\"+\"\n",
    "    else:\n",
    "        types=\"-\"\n",
    "        \n",
    "        \n",
    "    db =  sqlite3.connect('db.sqlite3')\n",
    "    db.execute(\"INSERT INTO technicCurrent (id,final_update,stock_name,start_date,start_price,over_date,current_price,now_return,type)   VALUES ('{}','{}','{}','{}','{}','{}','{}','{}','{}')\".format(pk,final_update,name,start_date,start_price,over_date,current_price,now_return,types))\n",
    "    db.commit()\n",
    "    db.close()\n",
    "    pk=pk+1"
   ]
  },
  {
   "cell_type": "code",
   "execution_count": null,
   "metadata": {},
   "outputs": [],
   "source": []
  }
 ],
 "metadata": {
  "kernelspec": {
   "display_name": "Python 3",
   "language": "python",
   "name": "python3"
  },
  "language_info": {
   "codemirror_mode": {
    "name": "ipython",
    "version": 3
   },
   "file_extension": ".py",
   "mimetype": "text/x-python",
   "name": "python",
   "nbconvert_exporter": "python",
   "pygments_lexer": "ipython3",
   "version": "3.6.10"
  }
 },
 "nbformat": 4,
 "nbformat_minor": 2
}

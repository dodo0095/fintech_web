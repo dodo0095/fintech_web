{
 "cells": [
  {
   "cell_type": "code",
   "execution_count": 1,
   "metadata": {},
   "outputs": [],
   "source": [
    "import numpy as np\n",
    "import sqlite3\n",
    "import pandas as pd\n",
    "import csv\n",
    "from datetime import datetime, timedelta\n",
    "import time\n",
    "import datetime\n",
    "import requests\n",
    "from io import StringIO"
   ]
  },
  {
   "cell_type": "code",
   "execution_count": null,
   "metadata": {},
   "outputs": [],
   "source": []
  },
  {
   "cell_type": "code",
   "execution_count": 2,
   "metadata": {},
   "outputs": [],
   "source": [
    "# 抓上市公司股價\n",
    "def stock_value(datestr):\n",
    "    #把當月11號的台股資訊 更新\n",
    "    #datestr = '20200911'\n",
    "    # 下載股價\n",
    "    r = requests.post('https://www.twse.com.tw/exchangeReport/MI_INDEX?response=csv&date=' + datestr + '&type=ALL')\n",
    "    # 整理資料，變成表格\n",
    "    df = pd.read_csv(StringIO(r.text.replace(\"=\", \"\")), \n",
    "                header=[\"證券代號\" in l for l in r.text.split(\"\\n\")].index(True)-1)\n",
    "    # 整理一些字串：\n",
    "    df = df.apply(lambda s: pd.to_numeric(s.astype(str).str.replace(\",\", \"\").replace(\"+\", \"1\").replace(\"-\", \"-1\"), errors='coerce'))\n",
    "    # 顯示出來\n",
    "    #df.head()\n",
    "    return df"
   ]
  },
  {
   "cell_type": "code",
   "execution_count": 3,
   "metadata": {},
   "outputs": [],
   "source": [
    "#抓上櫃公司股價\n",
    "def stock_value2(datestr):\n",
    "    link = 'http://www.tpex.org.tw/web/stock/aftertrading/daily_close_quotes/stk_quote_download.php?l=zh-tw&d='+datestr+'&s=0,asc,0'\n",
    "    r = requests.get(link)\n",
    "    r.ok\n",
    "    lines = r.text.replace('\\r', '').split('\\n')\n",
    "    df = pd.read_csv(StringIO(\"\\n\".join(lines[3:])), header=None)\n",
    "    #df.head()\n",
    "    df.columns = list(map(lambda l: l.replace(' ',''), lines[2].split(',')))\n",
    "    #df.index = df['代號']\n",
    "    #df = df.drop(['代號'], axis=1)\n",
    "    #df.head()\n",
    "    return df\n"
   ]
  },
  {
   "cell_type": "code",
   "execution_count": 4,
   "metadata": {},
   "outputs": [
    {
     "name": "stdout",
     "output_type": "stream",
     "text": [
      "請輸入起始的年份：2020\n",
      "請輸入起始的月份：09\n",
      "往前一個月 2020 08\n",
      "往前三個月 2020 06\n",
      "往前一年 2019 09\n"
     ]
    }
   ],
   "source": [
    "nowyear = input('請輸入起始的年份：')\n",
    "nowmonth = input('請輸入起始的月份：')\n",
    "\n",
    " #往前推一個月\n",
    "if int(nowmonth)==1:\n",
    "    last_month=str(12)\n",
    "    last_year=str(int(nowyear)-1)\n",
    "else:\n",
    "    last_month=str(int(nowmonth)-1)  \n",
    "    last_year=nowyear\n",
    "if len(last_month)==1:\n",
    "    last_month=\"0\"+last_month\n",
    "else:\n",
    "    pass\n",
    "\n",
    "print(\"往前一個月\",last_year,last_month)\n",
    "\n",
    "\n",
    "#往前推三個月\n",
    "if int(nowmonth)==1 or int(nowmonth)==2 or int(nowmonth)==3  :\n",
    "    if int(nowmonth)==1:\n",
    "        last_3month=str(10)\n",
    "    elif int(nowmonth)==2:\n",
    "        last_3month=str(11)\n",
    "    elif int(nowmonth)==3:    \n",
    "        last_3month=str(12)\n",
    "    last3_year=str(int(nowyear)-1)\n",
    "else:\n",
    "    last_3month=str(int(nowmonth)-3)  \n",
    "    last3_year=nowyear\n",
    "if len(last_3month)==1:\n",
    "    last_3month=\"0\"+last_3month\n",
    "else:\n",
    "    pass\n",
    "\n",
    "print(\"往前三個月\",last3_year,last_3month)\n",
    "\n",
    "\n",
    " #往前推一年\n",
    "last_year_month=nowmonth\n",
    "last_year_year=str(int(nowyear)-1)\n",
    "print(\"往前一年\",last_year_year,last_year_month)"
   ]
  },
  {
   "cell_type": "code",
   "execution_count": 6,
   "metadata": {},
   "outputs": [],
   "source": [
    "#拿上市收盤價資料\n",
    "def take_value(df,id):\n",
    "    take_info=df[pd.to_numeric(df['證券代號'], errors='coerce') == id]\n",
    "    value=float(take_info[\"收盤價\"].values)\n",
    "    return value\n",
    "#拿上櫃收盤價資料\n",
    "def take_value2(df,id):\n",
    "    take_info=df[pd.to_numeric(df['代號'], errors='coerce') == id]\n",
    "    value=float(take_info[\"收盤\"].values)\n",
    "    return value"
   ]
  },
  {
   "cell_type": "code",
   "execution_count": 7,
   "metadata": {},
   "outputs": [
    {
     "name": "stdout",
     "output_type": "stream",
     "text": [
      "sleep 1.5 seconds.\n",
      "printed after 1.5 seconds.\n",
      "sleep 1.5 seconds.\n",
      "printed after 1.5 seconds.\n",
      "sleep 1.5 seconds.\n",
      "printed after 1.5 seconds.\n"
     ]
    }
   ],
   "source": [
    "import time\n",
    "\n",
    "#現在的價錢\n",
    "a=nowyear+nowmonth+\"11\"\n",
    "df_now=stock_value(a)\n",
    "print(\"sleep 1.5 seconds.\")\n",
    "time.sleep(5)\n",
    "print(\"printed after 1.5 seconds.\")\n",
    "\n",
    "b=last_year+last_month+'11'\n",
    "df_last_month=stock_value(b)\n",
    "now_price=take_value(df_now,50)\n",
    "print(\"sleep 1.5 seconds.\")\n",
    "time.sleep(5)\n",
    "print(\"printed after 1.5 seconds.\")\n",
    "\n",
    "c=last3_year+last_3month+'11'\n",
    "df_last_3month=stock_value(c)\n",
    "now_price=take_value(df_now,50)\n",
    "print(\"sleep 1.5 seconds.\")\n",
    "time.sleep(5)\n",
    "print(\"printed after 1.5 seconds.\")\n",
    "\n",
    "\n",
    "d=last_year_year+last_year_month+'11'\n",
    "df_last_year=stock_value(d)"
   ]
  },
  {
   "cell_type": "code",
   "execution_count": 8,
   "metadata": {},
   "outputs": [],
   "source": [
    "#0050的價格  現在的   一個月前  三個月前    一年前\n",
    "now_price=take_value(df_now,50)\n",
    "last_month_price=take_value(df_last_month,50)\n",
    "df_last_3month_price=take_value(df_last_3month,50)\n",
    "df_last_year_price=take_value(df_last_year,50)"
   ]
  },
  {
   "cell_type": "code",
   "execution_count": 9,
   "metadata": {},
   "outputs": [],
   "source": [
    "monthly_0050_return=(now_price-last_month_price)/last_month_price\n",
    "season_0050_return=(now_price-df_last_3month_price)/df_last_3month_price\n",
    "year_0050_return=(now_price-df_last_year_price)/df_last_year_price"
   ]
  },
  {
   "cell_type": "code",
   "execution_count": 10,
   "metadata": {},
   "outputs": [],
   "source": [
    "monthly_0050_return=round(monthly_0050_return*100,2)\n",
    "season_0050_return=round(season_0050_return*100,2)\n",
    "year_0050_return=round(year_0050_return*100,2)"
   ]
  },
  {
   "cell_type": "code",
   "execution_count": null,
   "metadata": {},
   "outputs": [],
   "source": []
  },
  {
   "cell_type": "code",
   "execution_count": null,
   "metadata": {},
   "outputs": [],
   "source": []
  },
  {
   "cell_type": "code",
   "execution_count": 26,
   "metadata": {},
   "outputs": [],
   "source": [
    "#開始計算左邊策略當月的報酬跟震幅\n",
    "db =  sqlite3.connect('db.sqlite3')\n",
    "cursor = db.execute(\"SELECT * from basicCurrent\")\n",
    "row=cursor.fetchall()\n",
    "\n",
    "fundamental_return=0\n",
    "fundamental_amplitude=0\n",
    "\n",
    "start_price_total=0\n",
    "final_price_total=0\n",
    "\n",
    "for i in range(len(row)):\n",
    "\n",
    "    start_price_total=start_price_total+float(row[i][4])\n",
    "    final_price_total=final_price_total+float(row[i][6])\n",
    "        \n",
    "    if abs(float(row[i][7]))>abs(float(fundamental_amplitude)):\n",
    "        fundamental_amplitude=float(row[i][7])\n",
    "        \n",
    "fundamental_return=(float(final_price_total)-float(start_price_total))/float(start_price_total)\n",
    "fundamental_return=round(fundamental_return*100,2)\n",
    "\n",
    "\n",
    "#開始計算右邊策略當月的報酬跟震幅\n",
    "db =  sqlite3.connect('db.sqlite3')\n",
    "cursor = db.execute(\"SELECT * from technicCurrent\")\n",
    "row=cursor.fetchall()\n",
    "\n",
    "technology_return=0\n",
    "technology_amplitude=0\n",
    "\n",
    "start_price_total=0\n",
    "final_price_total=0\n",
    "\n",
    "for i in range(len(row)):\n",
    "\n",
    "    start_price_total=start_price_total+float(row[i][4])\n",
    "    final_price_total=final_price_total+float(row[i][6])\n",
    "        \n",
    "    if abs(float(row[i][7]))>abs(float(technology_amplitude)):\n",
    "        technology_amplitude=float(row[i][7])\n",
    "        \n",
    "technology_return=(float(final_price_total)-float(start_price_total))/float(start_price_total)\n",
    "technology_return=round(technology_return*100,2)"
   ]
  },
  {
   "cell_type": "code",
   "execution_count": null,
   "metadata": {},
   "outputs": [],
   "source": []
  },
  {
   "cell_type": "code",
   "execution_count": null,
   "metadata": {},
   "outputs": [],
   "source": []
  },
  {
   "cell_type": "code",
   "execution_count": null,
   "metadata": {},
   "outputs": [],
   "source": []
  },
  {
   "cell_type": "code",
   "execution_count": 11,
   "metadata": {},
   "outputs": [],
   "source": [
    "#開始計算策略的報酬   #最上面的區塊\n",
    "db =  sqlite3.connect('db.sqlite3')\n",
    "cursor = db.execute(\"SELECT * from basicHistory\")\n",
    "row=cursor.fetchall()"
   ]
  },
  {
   "cell_type": "code",
   "execution_count": 12,
   "metadata": {},
   "outputs": [],
   "source": [
    "a=nowyear+\"-\"+nowmonth+\"-\"+\"11\"\n",
    "b=last_year+\"-\"+last_month+\"-\"+'11'\n",
    "c=last3_year+\"-\"+last_3month+\"-\"+'11'\n",
    "d=last_year_year+\"-\"+last_year_month+\"-\"+'11'"
   ]
  },
  {
   "cell_type": "code",
   "execution_count": 22,
   "metadata": {},
   "outputs": [],
   "source": [
    "start_price_total=0\n",
    "final_price_total=0\n",
    "\n",
    "start_price_total2=0\n",
    "final_price_total2=0\n",
    "\n",
    "start_price_total3=0\n",
    "final_price_total3=0\n",
    "\n",
    "fundamental_amplitude=0\n",
    "\n",
    "monthly_return=0\n",
    "season_return=0\n",
    "year_return=0\n",
    "\n",
    "for i in range(len(row)):\n",
    "#     if (b<row[i][2] or b==row[i][2])and a>row[i][2]:\n",
    "#         start_price_total=start_price_total+float(row[i][3])\n",
    "#         final_price_total=final_price_total+float(row[i][5])\n",
    "    if (c<row[i][2] or c==row[i][2])and a>row[i][2]:\n",
    "        start_price_total2=start_price_total2+float(row[i][3])\n",
    "        final_price_total2=final_price_total2+float(row[i][5])\n",
    "\n",
    "    if (d<row[i][2] or d==row[i][2] )and a>row[i][2]:\n",
    "        start_price_total3=start_price_total3+float(row[i][3])\n",
    "        final_price_total3=final_price_total3+float(row[i][5])\n",
    "        \n",
    "#     if abs(float(row[i][6]))>abs(float(fundamental_amplitude)):\n",
    "#         fundamental_amplitude=row[i][6]\n",
    "#monthly_return=(float(final_price_total)-float(start_price_total))/float(start_price_total)\n",
    "season_return=(float(final_price_total2)-float(start_price_total2))/float(start_price_total2)\n",
    "year_return=(float(final_price_total3)-float(start_price_total3))/float(start_price_total3)"
   ]
  },
  {
   "cell_type": "code",
   "execution_count": 17,
   "metadata": {},
   "outputs": [
    {
     "data": {
      "text/plain": [
       "'2020-06-11'"
      ]
     },
     "execution_count": 17,
     "metadata": {},
     "output_type": "execute_result"
    }
   ],
   "source": [
    "c"
   ]
  },
  {
   "cell_type": "code",
   "execution_count": 240,
   "metadata": {},
   "outputs": [],
   "source": [
    "#開始計算策略的報酬\n",
    "db =  sqlite3.connect('db.sqlite3')\n",
    "cursor = db.execute(\"SELECT * from technicHistory\")\n",
    "row=cursor.fetchall()"
   ]
  },
  {
   "cell_type": "code",
   "execution_count": 24,
   "metadata": {},
   "outputs": [],
   "source": [
    "start_price_total=0\n",
    "final_price_total=0\n",
    "\n",
    "start_price_total2=0\n",
    "final_price_total2=0\n",
    "\n",
    "start_price_total3=0\n",
    "final_price_total3=0\n",
    "\n",
    "technology_amplitude=0\n",
    "\n",
    "for i in range(len(row)):\n",
    "#     if b<row[i][2] or b==row[i][2]:\n",
    "#         start_price_total=start_price_total+float(row[i][3])\n",
    "#         final_price_total=final_price_total+float(row[i][5])\n",
    "    if c<row[i][2] or c==row[i][2]:\n",
    "        start_price_total2=start_price_total2+float(row[i][3])\n",
    "        final_price_total2=final_price_total2+float(row[i][5])\n",
    "    if d<row[i][2] or d==row[i][2]:\n",
    "        start_price_total3=start_price_total3+float(row[i][3])\n",
    "        final_price_total3=final_price_total3+float(row[i][5])\n",
    "        \n",
    "\n",
    "#monthly_return=monthly_return+(float(final_price_total)-float(start_price_total))/float(start_price_total)\n",
    "season_return=season_return+(float(final_price_total2)-float(start_price_total2))/float(start_price_total2)\n",
    "year_return=year_return+(float(final_price_total3)-float(start_price_total3))/float(start_price_total3)"
   ]
  },
  {
   "cell_type": "code",
   "execution_count": 25,
   "metadata": {},
   "outputs": [],
   "source": [
    "monthly_return=(fundamental_return+technology_return)/2\n",
    "season_return=round(((season_return/2)*100),2)\n",
    "year_return=round(((year_return/2)*100),2)"
   ]
  },
  {
   "cell_type": "code",
   "execution_count": null,
   "metadata": {},
   "outputs": [],
   "source": []
  },
  {
   "cell_type": "code",
   "execution_count": null,
   "metadata": {},
   "outputs": [],
   "source": []
  },
  {
   "cell_type": "code",
   "execution_count": 27,
   "metadata": {},
   "outputs": [],
   "source": []
  },
  {
   "cell_type": "code",
   "execution_count": null,
   "metadata": {},
   "outputs": [],
   "source": []
  },
  {
   "cell_type": "code",
   "execution_count": 245,
   "metadata": {},
   "outputs": [],
   "source": [
    "# 更新bot database\n",
    "db =  sqlite3.connect('db.sqlite3')\n",
    "#db.execute(\"INSERT INTO type_data (tag)   VALUES ('{}')\".format(data))\n",
    "db.execute(\"delete from bot\")\n",
    "db.commit()\n",
    "pk=1\n",
    "\n",
    "# final_update,name,start_date,start_price,over_date,current_price,now_return,types=change_parameter(now_list[i]) \n",
    "db =  sqlite3.connect('db.sqlite3')\n",
    "db.execute(\"INSERT INTO bot (id,monthly_return,monthly_0050_return,season_return,season_0050_return,year_return,year_0050_return,fundamental_return,fundamental_amplitude,technology_return,technology_amplitude)   VALUES ('{}','{}','{}','{}','{}','{}','{}','{}','{}','{}','{}')\".format(pk,monthly_return,monthly_0050_return,season_return,season_0050_return,year_return,year_0050_return,fundamental_return,fundamental_amplitude,technology_return,technology_amplitude))\n",
    "db.commit()\n",
    "db.close()\n"
   ]
  },
  {
   "cell_type": "code",
   "execution_count": null,
   "metadata": {},
   "outputs": [],
   "source": []
  },
  {
   "cell_type": "code",
   "execution_count": null,
   "metadata": {},
   "outputs": [],
   "source": []
  },
  {
   "cell_type": "code",
   "execution_count": null,
   "metadata": {},
   "outputs": [],
   "source": []
  }
 ],
 "metadata": {
  "kernelspec": {
   "display_name": "Python 3",
   "language": "python",
   "name": "python3"
  },
  "language_info": {
   "codemirror_mode": {
    "name": "ipython",
    "version": 3
   },
   "file_extension": ".py",
   "mimetype": "text/x-python",
   "name": "python",
   "nbconvert_exporter": "python",
   "pygments_lexer": "ipython3",
   "version": "3.6.10"
  }
 },
 "nbformat": 4,
 "nbformat_minor": 4
}
